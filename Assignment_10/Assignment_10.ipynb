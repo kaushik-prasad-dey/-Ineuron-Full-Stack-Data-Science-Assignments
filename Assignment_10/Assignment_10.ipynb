{
  "nbformat": 4,
  "nbformat_minor": 0,
  "metadata": {
    "colab": {
      "provenance": []
    },
    "kernelspec": {
      "name": "python3",
      "display_name": "Python 3"
    },
    "language_info": {
      "name": "python"
    }
  },
  "cells": [
    {
      "cell_type": "markdown",
      "source": [
        "**Q1. What is the role of try and exception block?**"
      ],
      "metadata": {
        "id": "zeswhlt32QEL"
      }
    },
    {
      "cell_type": "markdown",
      "source": [
        "In Python, the **try** and **except blocks** are used to handle exceptions or errors that might occur during the execution of a program.\n",
        "\n",
        "Exceptions are unexpected events or errors that can occur during runtime, such as division by zero, attempting to open a non-existent file,\n",
        "\n",
        "or accessing an index that is out of range in a list."
      ],
      "metadata": {
        "id": "EHdXUYzA2UFD"
      }
    },
    {
      "cell_type": "markdown",
      "source": [
        "The try and except blocks work together to provide a mechanism for gracefully handling exceptions without causing the program to crash."
      ],
      "metadata": {
        "id": "RTEC6huJ3G6X"
      }
    },
    {
      "cell_type": "markdown",
      "source": [
        "**try block:** In this block, you place the code that you want to monitor for exceptions.\n",
        "If an exception occurs within the try block, the program will not terminate immediately."
      ],
      "metadata": {
        "id": "n4Lto5cj3f6B"
      }
    },
    {
      "cell_type": "markdown",
      "source": [
        "**except block**: This block contains code that specifies how to handle the exception. You can specify different except blocks to handle different types of exceptions or provide a generic one to catch any exception."
      ],
      "metadata": {
        "id": "CyOIRZB435XF"
      }
    },
    {
      "cell_type": "code",
      "execution_count": 2,
      "metadata": {
        "colab": {
          "base_uri": "https://localhost:8080/"
        },
        "id": "VCk0_qXV2Gos",
        "outputId": "0b18a2f8-f377-4e72-eafc-16e82e24c5ca"
      },
      "outputs": [
        {
          "output_type": "stream",
          "name": "stdout",
          "text": [
            "Error: Division by zero!\n"
          ]
        }
      ],
      "source": [
        "#Here's a basic example of using try and except to handle a division by zero error:\n",
        "try:\n",
        "    numerator = 50\n",
        "    denominator = 0\n",
        "    result = numerator / denominator\n",
        "except ZeroDivisionError:\n",
        "    print(\"Error: Division by zero!\")"
      ]
    },
    {
      "cell_type": "markdown",
      "source": [
        "**Q2.What is the syntax for a basic try-except block?**"
      ],
      "metadata": {
        "id": "cbEN8d0W4efK"
      }
    },
    {
      "cell_type": "markdown",
      "source": [
        "Ans : The basic syntax for a try-except block in Python is as follows:\n"
      ],
      "metadata": {
        "id": "ZzdZmir84j0Q"
      }
    },
    {
      "cell_type": "code",
      "source": [
        "try:\n",
        "  print(x)\n",
        "except:\n",
        "  print(\"An exception occurred\")\n"
      ],
      "metadata": {
        "colab": {
          "base_uri": "https://localhost:8080/"
        },
        "id": "OwmTsWkq47Kf",
        "outputId": "d41d8a8c-421c-4b7b-d5c3-dc719ba40706"
      },
      "execution_count": 3,
      "outputs": [
        {
          "output_type": "stream",
          "name": "stdout",
          "text": [
            "An exception occurred\n"
          ]
        }
      ]
    },
    {
      "cell_type": "markdown",
      "source": [
        "**Q3. What happens if an exception occurs inside a try block and there is no matching except block?**\n"
      ],
      "metadata": {
        "id": "UwYAS7Oc5RQ-"
      }
    },
    {
      "cell_type": "markdown",
      "source": [
        "Ans: If an exception occurs inside a **try block**, and there is no matching except block to handle that specific exception, the program will terminate, and an unhandled exception will be raised. Python will print a **traceback** that shows the type of exception and where it occurred in code."
      ],
      "metadata": {
        "id": "fDGWUQNZ5YuS"
      }
    },
    {
      "cell_type": "code",
      "source": [
        "try:\n",
        "    numerator = 10\n",
        "    denominator = 0\n",
        "    result = numerator / denominator\n",
        "# There is no matching \"except\" block for ZeroDivisionError\n",
        "# So, this exception will go unhandled\n"
      ],
      "metadata": {
        "colab": {
          "base_uri": "https://localhost:8080/",
          "height": 141
        },
        "id": "_ZTt-GAw6JtQ",
        "outputId": "2593a7b5-76ff-43a6-fff0-f5ae886a6042"
      },
      "execution_count": 4,
      "outputs": [
        {
          "output_type": "error",
          "ename": "SyntaxError",
          "evalue": "ignored",
          "traceback": [
            "\u001b[0;36m  File \u001b[0;32m\"<ipython-input-4-cbc65de6fc83>\"\u001b[0;36m, line \u001b[0;32m6\u001b[0m\n\u001b[0;31m    # So, this exception will go unhandled\u001b[0m\n\u001b[0m                                          ^\u001b[0m\n\u001b[0;31mSyntaxError\u001b[0m\u001b[0;31m:\u001b[0m incomplete input\n"
          ]
        }
      ]
    },
    {
      "cell_type": "markdown",
      "source": [
        "if we don't use except block then,this exception will go unhandled with syntaxError: incomplete input"
      ],
      "metadata": {
        "id": "NSf_l2ID6Ryg"
      }
    },
    {
      "cell_type": "markdown",
      "source": [
        "**Q4. What is the difference between using a bare except block and specifying a specific exception type?**"
      ],
      "metadata": {
        "id": "_9tM4qtC6jpe"
      }
    },
    {
      "cell_type": "markdown",
      "source": [
        "Ans : In Python, there is a significant difference between using a **bare except block** and **specifying a specific exception type** (except ExceptionType) when handling exceptions."
      ],
      "metadata": {
        "id": "b70bZ-g86tXa"
      }
    },
    {
      "cell_type": "markdown",
      "source": [
        "Specifying a Specific Exception Type (except ExceptionType):\n",
        "\n",
        "When you specify a specific exception type in an except block, you are indicating that you want to catch and handle that particular type of exception."
      ],
      "metadata": {
        "id": "Fo0EjPPM7Uh7"
      }
    },
    {
      "cell_type": "code",
      "source": [
        "try:\n",
        "    # Code that may raise an exception\n",
        "except ZeroDivisionError:\n",
        "    # Handle the ZeroDivisionError here\n"
      ],
      "metadata": {
        "colab": {
          "base_uri": "https://localhost:8080/",
          "height": 141
        },
        "id": "6QIUsGLz7wZ7",
        "outputId": "ceb3f86c-fa17-443b-84c0-17d9b790cd85"
      },
      "execution_count": 5,
      "outputs": [
        {
          "output_type": "error",
          "ename": "IndentationError",
          "evalue": "ignored",
          "traceback": [
            "\u001b[0;36m  File \u001b[0;32m\"<ipython-input-5-53d878009da7>\"\u001b[0;36m, line \u001b[0;32m3\u001b[0m\n\u001b[0;31m    except ZeroDivisionError:\u001b[0m\n\u001b[0m    ^\u001b[0m\n\u001b[0;31mIndentationError\u001b[0m\u001b[0;31m:\u001b[0m expected an indented block after 'try' statement on line 1\n"
          ]
        }
      ]
    },
    {
      "cell_type": "markdown",
      "source": [
        "In this case, only **ZeroDivisionError** exceptions will be caught and handled by the except block. Other exceptions, such as **TypeError** or **FileNotFoundError**, will not be caught by this block."
      ],
      "metadata": {
        "id": "wLDToFyy7a2e"
      }
    },
    {
      "cell_type": "markdown",
      "source": [
        "**Using a Bare except Block (except:):**\n",
        "\n",
        "When you use a **bare except block** without specifying a specific exception type, it acts as a **catch-all for any exception** that occurs in the try block. For example:"
      ],
      "metadata": {
        "id": "cxe5C4l079Qk"
      }
    },
    {
      "cell_type": "code",
      "source": [
        "try:\n",
        "    # Code that may raise an exception\n",
        "except:\n",
        "    # Handle any exception here (not recommended)\n"
      ],
      "metadata": {
        "colab": {
          "base_uri": "https://localhost:8080/",
          "height": 141
        },
        "id": "S5zw6MG98Sfh",
        "outputId": "9961c8d6-3943-4695-acbb-b2e0fdcfd589"
      },
      "execution_count": 6,
      "outputs": [
        {
          "output_type": "error",
          "ename": "IndentationError",
          "evalue": "ignored",
          "traceback": [
            "\u001b[0;36m  File \u001b[0;32m\"<ipython-input-6-d6c68eda556d>\"\u001b[0;36m, line \u001b[0;32m3\u001b[0m\n\u001b[0;31m    except:\u001b[0m\n\u001b[0m    ^\u001b[0m\n\u001b[0;31mIndentationError\u001b[0m\u001b[0;31m:\u001b[0m expected an indented block after 'try' statement on line 1\n"
          ]
        }
      ]
    },
    {
      "cell_type": "markdown",
      "source": [
        "In this case, any exception, regardless of its type, will be caught and handled by the except block."
      ],
      "metadata": {
        "id": "0LZelejj8Zq8"
      }
    },
    {
      "cell_type": "markdown",
      "source": [
        "**Q5. Can you have nested try-except blocks in Python? If yes, then give an example?**"
      ],
      "metadata": {
        "id": "_RQ-seqC8jW5"
      }
    },
    {
      "cell_type": "markdown",
      "source": [
        "Ans: Yes, can have **nested try-except blocks** in Python.\n",
        "This means that we can place one **try-except block** inside another. This is useful when we want to handle exceptions at different levels of the code."
      ],
      "metadata": {
        "id": "ihJ3hFXU8uPC"
      }
    },
    {
      "cell_type": "code",
      "source": [
        "#the coding example is given below.\n",
        "try:\n",
        "    # Outer try block\n",
        "    num1 = int(input(\"Enter a numerator: \"))\n",
        "    num2 = int(input(\"Enter a denominator: \"))\n",
        "\n",
        "    try:\n",
        "        # Inner try block\n",
        "        result = num1 / num2\n",
        "    except ZeroDivisionError:\n",
        "        print(\"Error: Division by zero in the inner try-except block\")\n",
        "\n",
        "except ValueError:\n",
        "    print(\"Error: Invalid input in the outer try-except block\")\n"
      ],
      "metadata": {
        "colab": {
          "base_uri": "https://localhost:8080/"
        },
        "id": "6jwy3h728qyK",
        "outputId": "9c18a745-49c6-4dbb-eec2-a6c89ba8b51a"
      },
      "execution_count": 9,
      "outputs": [
        {
          "output_type": "stream",
          "name": "stdout",
          "text": [
            "Enter a numerator: 20\n",
            "Enter a denominator: 0\n",
            "Error: Division by zero in the inner try-except block\n"
          ]
        }
      ]
    },
    {
      "cell_type": "markdown",
      "source": [
        "**Q6. Can we use multiple exception blocks, if yes then give an example?**"
      ],
      "metadata": {
        "id": "Fs9mtIYp9hBy"
      }
    },
    {
      "cell_type": "markdown",
      "source": [
        "Yes, we can use multiple except blocks in Python to handle different types of exceptions in a single try block.\n",
        "\n",
        "This allows you to specify different error-handling actions for each type of exception that might occur."
      ],
      "metadata": {
        "id": "SX6iNg6S9r2i"
      }
    },
    {
      "cell_type": "code",
      "source": [
        "# the coding example is given below.\n",
        "try:\n",
        "    # Code that may raise exceptions\n",
        "    num1 = int(input(\"Enter a numerator: \"))\n",
        "    num2 = int(input(\"Enter a denominator: \"))\n",
        "    result = num1 / num2\n",
        "\n",
        "except ValueError:\n",
        "    # Handle the ValueError (invalid input)\n",
        "    print(\"Error: Invalid input. Please enter valid integers.\")\n",
        "\n",
        "except ZeroDivisionError:\n",
        "    # Handle the ZeroDivisionError (division by zero)\n",
        "    print(\"Error: Division by zero is not allowed.\")\n",
        "\n",
        "except Exception as e:\n",
        "    # Handle other exceptions (generic catch-all)\n",
        "    print(f\"An error occurred: {e}\")\n"
      ],
      "metadata": {
        "colab": {
          "base_uri": "https://localhost:8080/"
        },
        "id": "NehovhCr-UYO",
        "outputId": "834fbf34-df92-4829-dfdc-d00ac93aa793"
      },
      "execution_count": 10,
      "outputs": [
        {
          "output_type": "stream",
          "name": "stdout",
          "text": [
            "Enter a numerator: A\n",
            "Error: Invalid input. Please enter valid integers.\n"
          ]
        }
      ]
    },
    {
      "cell_type": "markdown",
      "source": [
        "**Q7. Write the reason due to which following errors are raised ??**"
      ],
      "metadata": {
        "id": "JUiOPv4O-zK5"
      }
    },
    {
      "cell_type": "markdown",
      "source": [
        "**a. EOFError:**\n",
        "\n",
        "Reason: This error occurs when the input() function or raw_input() function  reaches the end of the file while trying to read input from the user. It happens when you expect more input, but there is none available."
      ],
      "metadata": {
        "id": "FDfODDYr-88b"
      }
    },
    {
      "cell_type": "markdown",
      "source": [
        "**b. FloatingPointError:**\n",
        "\n",
        "Reason: This error occurs when you perform a floating-point operation that results in an undefined or infinite value, such as division by zero or calculations that exceed the representational limits of floating-point numbers."
      ],
      "metadata": {
        "id": "cwQ7CkPZ_QdP"
      }
    },
    {
      "cell_type": "markdown",
      "source": [
        "**c. IndexError:**\n",
        "\n",
        "Reason: This error occurs when you try to access an element of a sequence (e.g., a list, tuple, or string) using an index that is out of range. The index must be within the valid range of indices for the sequence."
      ],
      "metadata": {
        "id": "-2pb4FZR_vQR"
      }
    },
    {
      "cell_type": "markdown",
      "source": [
        "**d. MemoryError:**\n",
        "\n",
        "Reason: This error occurs when your program runs out of available memory (RAM) while trying to allocate more memory for data structures or objects. It typically happens when your program consumes more memory than the system can provide."
      ],
      "metadata": {
        "id": "AxLmco-__6hE"
      }
    },
    {
      "cell_type": "markdown",
      "source": [
        "**e. OverflowError:**\n",
        "\n",
        "Reason: This error occurs when you perform an operation that results in a numeric value that is too large to be represented within the limits of the data type. It can happen with integers, especially when working with very large numbers."
      ],
      "metadata": {
        "id": "OIVWZgf3AEV5"
      }
    },
    {
      "cell_type": "markdown",
      "source": [
        "**f. TabError:**\n",
        "\n",
        "Reason: This error occurs when there is an issue with the indentation in your Python code. Python uses indentation to define blocks of code, and if the indentation is inconsistent or mixes tabs and spaces, it can result in a TabError."
      ],
      "metadata": {
        "id": "OMzrY-lQAQkQ"
      }
    },
    {
      "cell_type": "markdown",
      "source": [
        "**g. ValueError:**\n",
        "\n",
        "Reason: This error occurs when a function receives an argument of the correct data type but an inappropriate value. It can also occur when attempting to convert a data type, like trying to convert a **non-integer string to an integer using int()**."
      ],
      "metadata": {
        "id": "ERjfNG15Aa3_"
      }
    },
    {
      "cell_type": "markdown",
      "source": [
        "**Q8. Write code for the following given scenario and add try-exception block to it. ??**"
      ],
      "metadata": {
        "id": "eJwZ_UWdArZ5"
      }
    },
    {
      "cell_type": "markdown",
      "source": [
        "**Program to divide two numbers:**"
      ],
      "metadata": {
        "id": "QiZUe4ovCDeC"
      }
    },
    {
      "cell_type": "code",
      "source": [
        "\n",
        "try:\n",
        "    numerator = int(input(\"Enter First Number: \"))\n",
        "    denominator = int(input(\"Enter Second Number: \"))\n",
        "\n",
        "    result = numerator / denominator\n",
        "    print(\"Result:\", result)\n",
        "\n",
        "except ZeroDivisionError:\n",
        "    print(\"Error: Division by zero is not allowed.\")\n",
        "\n",
        "except ValueError:\n",
        "    print(\"Error: Please enter valid integers.\")\n"
      ],
      "metadata": {
        "colab": {
          "base_uri": "https://localhost:8080/"
        },
        "id": "5BgtyDkRAzIP",
        "outputId": "828a7c5a-b519-4c5d-87fe-0b5f37c101f5"
      },
      "execution_count": 12,
      "outputs": [
        {
          "output_type": "stream",
          "name": "stdout",
          "text": [
            "Enter First Number: 10\n",
            "Enter Second Number: 0\n",
            "Error: Division by zero is not allowed.\n"
          ]
        }
      ]
    },
    {
      "cell_type": "markdown",
      "source": [
        "**Program to convert a string to an integer:**"
      ],
      "metadata": {
        "id": "pC31bwe5CWCd"
      }
    },
    {
      "cell_type": "code",
      "source": [
        "try:\n",
        "    string_input = input(\"Enter an string: \")\n",
        "    # Attempt to convert the string to an integer\n",
        "    integer_value = int(string_input)\n",
        "    print(\"Integer value:\", integer_value)\n",
        "\n",
        "except ValueError:\n",
        "    print(\"Error: Invalid input. Please enter a valid integer.\")\n"
      ],
      "metadata": {
        "colab": {
          "base_uri": "https://localhost:8080/"
        },
        "id": "DTyOWtPFCMe9",
        "outputId": "914b0e1f-ac69-4b95-f550-4165a687c073"
      },
      "execution_count": 15,
      "outputs": [
        {
          "output_type": "stream",
          "name": "stdout",
          "text": [
            "Enter an string: kaushik\n",
            "Error: Invalid input. Please enter a valid integer.\n"
          ]
        }
      ]
    },
    {
      "cell_type": "markdown",
      "source": [
        "**Program to access an element in a list:**"
      ],
      "metadata": {
        "id": "hwya2WYVC6H5"
      }
    },
    {
      "cell_type": "code",
      "source": [
        "try:\n",
        "    my_list = [1, 2, 3, 4, 5]\n",
        "    index = int(input(\"Enter an index: \"))\n",
        "    # Attempt to access the element at the specified index\n",
        "    element = my_list[index]\n",
        "    print(\"Element at index\", index, \"is:\", element)\n",
        "\n",
        "except IndexError:\n",
        "    print(\"Error: Index out of range.\")\n",
        "\n",
        "except ValueError:\n",
        "    print(\"Error: Please enter a valid integer as an index.\")\n"
      ],
      "metadata": {
        "colab": {
          "base_uri": "https://localhost:8080/"
        },
        "id": "uv_zXPZ-CwZR",
        "outputId": "9ab36797-e5ec-4629-c946-a84b12b7d9da"
      },
      "execution_count": 16,
      "outputs": [
        {
          "output_type": "stream",
          "name": "stdout",
          "text": [
            "Enter an index: 100\n",
            "Error: Index out of range.\n"
          ]
        }
      ]
    },
    {
      "cell_type": "markdown",
      "source": [
        "**Program to handle a specific exception**"
      ],
      "metadata": {
        "id": "7vtKJ9O_DLGD"
      }
    },
    {
      "cell_type": "code",
      "source": [
        "try:\n",
        "    number = int(input(\"Enter a number: \"))\n",
        "    if number < 0:\n",
        "        raise ValueError(\"Number cannot be negative\")\n",
        "    print(\"You entered a positive number.\")\n",
        "\n",
        "except ValueError as ve:\n",
        "    print(\"Error:\", ve)\n"
      ],
      "metadata": {
        "colab": {
          "base_uri": "https://localhost:8080/"
        },
        "id": "5pMhG5R_DCBi",
        "outputId": "99f1ce03-55d5-4231-942f-cb798e2e6851"
      },
      "execution_count": 17,
      "outputs": [
        {
          "output_type": "stream",
          "name": "stdout",
          "text": [
            "Enter a number: 15\n",
            "You entered a positive number.\n"
          ]
        }
      ]
    },
    {
      "cell_type": "markdown",
      "source": [
        "**Program to handle any exception:**"
      ],
      "metadata": {
        "id": "uZ2Ql7CjDS_D"
      }
    },
    {
      "cell_type": "code",
      "source": [
        "try:\n",
        "    numerator = int(input(\"Enter a numerator: \"))\n",
        "    denominator = int(input(\"Enter a denominator: \"))\n",
        "\n",
        "    result = numerator / denominator\n",
        "    print(\"Result:\", result)\n",
        "\n",
        "except Exception as e:\n",
        "    print(\"An error occurred:\", e)\n"
      ],
      "metadata": {
        "colab": {
          "base_uri": "https://localhost:8080/"
        },
        "id": "6ZHpVvO0Dbrl",
        "outputId": "b4788d05-5768-4fa4-8dc1-6b29d396a860"
      },
      "execution_count": 19,
      "outputs": [
        {
          "output_type": "stream",
          "name": "stdout",
          "text": [
            "Enter a numerator: 1k\n",
            "An error occurred: invalid literal for int() with base 10: '1k'\n"
          ]
        }
      ]
    }
  ]
}