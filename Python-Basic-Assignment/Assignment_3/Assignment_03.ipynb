{
 "cells": [
  {
   "attachments": {},
   "cell_type": "markdown",
   "metadata": {},
   "source": [
    "1. Why are functions advantageous to have in your programs?\n",
    "\n",
    "Ans : if we create one function in our program by the help of def keyword, the main advantages are we can reuse the function again and again with or without parameters. The following benefit of using function inside python programs.\n",
    "##### A. Enable code reuseability & reduce redundancy.\n",
    "##### B. Track large python programs when it is divided into multiple functions or called modules, so we can modularize our code with neat & clean manner.\n",
    "##### C. Easier to maintain & if any issues occurs then we can particularly concentrate on this function for resolving the issues.\n",
    "##### D. Provide abstraction functionality.\n"
   ]
  },
  {
   "cell_type": "code",
   "execution_count": 11,
   "metadata": {},
   "outputs": [],
   "source": [
    "## Example of creating function in python\n",
    "def helloFunc(name):\n",
    "    print(f'Welcome to  {name}')\n",
    "# now in next cell we can call the function"
   ]
  },
  {
   "cell_type": "code",
   "execution_count": 12,
   "metadata": {},
   "outputs": [
    {
     "name": "stdout",
     "output_type": "stream",
     "text": [
      "Welcome to  Ineuron\n"
     ]
    }
   ],
   "source": [
    "helloFunc('Ineuron')"
   ]
  },
  {
   "attachments": {},
   "cell_type": "markdown",
   "metadata": {},
   "source": [
    "2. When does the code in a function run: when it's specified or when it's called?\n",
    "\n",
    "Ans : The code in a function execute when we call or run the function that time not when and where we defined it. Defined, declare is something & calling the function is different. So, the code in a function run when the function is called , not the function is defined , not only python but other programming languages also."
   ]
  },
  {
   "attachments": {},
   "cell_type": "markdown",
   "metadata": {},
   "source": [
    "3. What statement creates a function?\n",
    "\n",
    "Ans : With the help of def keyword followed by collon we can creates function in python. in below cell the function creation code is there.\n",
    "\n"
   ]
  },
  {
   "cell_type": "code",
   "execution_count": 13,
   "metadata": {},
   "outputs": [
    {
     "name": "stdout",
     "output_type": "stream",
     "text": [
      "Hello-world\n"
     ]
    }
   ],
   "source": [
    "#declare a function\n",
    "def HelloWorld():\n",
    "    \"\"\"\n",
    "    This way we can create our function.\n",
    "    with the help of def keyword function is created\n",
    "    it has function name\n",
    "    it has function body\n",
    "    it has return value\n",
    "    we can pass parameter inside the parenthesis.\n",
    "    \"\"\"\n",
    "    print(\"Hello-world\")\n",
    "HelloWorld()\n"
   ]
  },
  {
   "attachments": {},
   "cell_type": "markdown",
   "metadata": {},
   "source": [
    "4. What is the difference between a function and a function call?\n",
    "\n",
    "Ans : The main difference is if we have a function then its just defined or declared but when we call or invoke that means it will execute its inner code . we can defined many functions but only those function will work what we call inside the program. we use function only it can enhance the resueability and modularity of the programme. as an example def Helloworld(): print(\"Hello-world\") is just a function we created but it just a method and it will not work until and unless we call like HelloWorld() in this way.\n"
   ]
  },
  {
   "attachments": {},
   "cell_type": "markdown",
   "metadata": {},
   "source": [
    "5. How many global scopes are there in a Python program? How many local scopes?\n",
    "\n",
    "Ans : only one global scope are there in a python program. and local scope is created whenever function is called. in below cell we can show that global scope and local scope inside a python program.\n",
    " "
   ]
  },
  {
   "cell_type": "code",
   "execution_count": 14,
   "metadata": {},
   "outputs": [
    {
     "name": "stdout",
     "output_type": "stream",
     "text": [
      "customer name is Kaushik and experience is 10\n"
     ]
    }
   ],
   "source": [
    "## define global scope outside a function\n",
    "# still it is callable from this function.\n",
    "# A variable is created in the main body of the python code then it is our global scopes.\n",
    "\n",
    "customer_name='ineuron'\n",
    "experience =20\n",
    "def callingCustomer():\n",
    "    global customer_name\n",
    "    customer_name = \"Kaushik\"\n",
    "    \"\"\"\n",
    "    experience is here local variable\n",
    "    although i have created one variable in outer scope ( experience) still it\n",
    "    takes experience =10\n",
    "    \"\"\"\n",
    "    experience=10\n",
    "    print(f'customer name is {customer_name} and experience is {experience}')\n",
    "# call the function\n",
    "callingCustomer()"
   ]
  },
  {
   "attachments": {},
   "cell_type": "markdown",
   "metadata": {},
   "source": [
    "6.What happens to variables in a local scope when the function call returns?\n",
    "\n",
    "Ans : When the execution of the function returns, the local variables are destroyed. Alternatively, we can say that everytime when call a function you put in a stack frame on top of the stack where all local variables are live in and when the function is done , the stack frame will be reset. we can use python call graph for visulizing entire function call, which params are called inside this function\n"
   ]
  },
  {
   "attachments": {},
   "cell_type": "markdown",
   "metadata": {},
   "source": [
    "7. What is the concept of a return value? Is it possible to have a return value in an expression?\n",
    "\n",
    "Ans : We use return statement to send a value back to the calling script or UDF. alternatively we can say that return is a value , when complete the execution it send the value to the function. in python return can be string, numeric, boolean , object, dict anything. in below cell we can show that with example.\n",
    "\n",
    "\n",
    "Like any kind of value return value can be used as part of the expression. python has always return statement after execution, if you mention the return statement or not, python will implicitly return a default value because python function always have a return value in its expression."
   ]
  },
  {
   "cell_type": "code",
   "execution_count": 15,
   "metadata": {},
   "outputs": [
    {
     "name": "stdout",
     "output_type": "stream",
     "text": [
      "Hello_String from the function\n",
      "100\n",
      "False\n",
      "{'first_name': 'kaushik', 'last_name': 'Dey', 'Designation': 'Data-Scientist'}\n",
      "['Data-Engineer', 'Data-Scientist', 'Front-End-Developer']\n"
     ]
    }
   ],
   "source": [
    "## string return statement\n",
    "def StringReturn():\n",
    "    string_return =\"Hello_String from the function\"\n",
    "    return string_return\n",
    "## numeric return statement\n",
    "def NumericReturn():\n",
    "    numeric_return =100\n",
    "    return numeric_return\n",
    "## boolean return statement\n",
    "def BoolReturn():\n",
    "    bool=False\n",
    "    return bool\n",
    "## dict return statement\n",
    "def DictReturn ():\n",
    "    dict_return ={'first_name':'kaushik', 'last_name':'Dey', 'Designation':'Data-Scientist'}\n",
    "    return dict_return\n",
    "## array return statement\n",
    "def ArrayReturn():\n",
    "    array_bar =['Data-Engineer','Data-Scientist','Front-End-Developer']\n",
    "    return array_bar\n",
    "print(StringReturn())\n",
    "print(NumericReturn())\n",
    "print(BoolReturn())\n",
    "print(DictReturn())\n",
    "print(ArrayReturn())"
   ]
  },
  {
   "attachments": {},
   "cell_type": "markdown",
   "metadata": {},
   "source": [
    "8. If a function does not have a return statement, what is the return value of a call to that function?\n",
    "\n",
    "Ans : if no return statement appears then the return value of a call to that function is undefined, so control autometically returns to the calling function after the last statement of called function is executed."
   ]
  },
  {
   "attachments": {},
   "cell_type": "markdown",
   "metadata": {},
   "source": [
    "9. How do you make a function variable refer to the global variable? \n",
    "\n",
    "Ans : with the help of global keyword a function variable refer to the global variable.in below cell the coding example is there."
   ]
  },
  {
   "cell_type": "code",
   "execution_count": 16,
   "metadata": {},
   "outputs": [
    {
     "name": "stdout",
     "output_type": "stream",
     "text": [
      "Best Data Science Training Institute is Ineuron\n"
     ]
    }
   ],
   "source": [
    "## global keyword\n",
    "best_institute=\"Simplilearn\"\n",
    "def MyOwnFunc():\n",
    "    global best_institute\n",
    "    best_institute =\"Ineuron\"\n",
    "    print(f'Best Data Science Training Institute is {best_institute}')\n",
    "\n",
    "# calling the func\n",
    "MyOwnFunc()\n"
   ]
  },
  {
   "attachments": {},
   "cell_type": "markdown",
   "metadata": {},
   "source": [
    "10. What is the data type of None?\n",
    "\n",
    "Ans : The datatype of None is NoneType.\n"
   ]
  },
  {
   "cell_type": "code",
   "execution_count": 17,
   "metadata": {},
   "outputs": [
    {
     "name": "stdout",
     "output_type": "stream",
     "text": [
      "<class 'NoneType'>\n"
     ]
    }
   ],
   "source": [
    "#DataType of None\n",
    "print(type(None))"
   ]
  },
  {
   "attachments": {},
   "cell_type": "markdown",
   "metadata": {},
   "source": [
    "11. What does the sentence import areallyourpetsnamederic do?\n",
    "\n",
    "Ans : That import statement imports a module named areallyourpetsnamederic."
   ]
  },
  {
   "attachments": {},
   "cell_type": "markdown",
   "metadata": {},
   "source": [
    "12.  If you had a bacon() feature in a spam module, what would you call it after importing spam?\n",
    "\n",
    "Ans : The function will be called with spam.bacon() after importing spam."
   ]
  },
  {
   "attachments": {},
   "cell_type": "markdown",
   "metadata": {},
   "source": [
    "13. What can you do to save a programme from crashing if it encounters an error?\n",
    "\n",
    "Ans : To save a prgramme from crashing , so we can put that line of code that might cause an error in a try block and we can use except block to handle the errors."
   ]
  },
  {
   "attachments": {},
   "cell_type": "markdown",
   "metadata": {},
   "source": [
    "14. What is the purpose of the try clause? What is the purpose of the except clause?\n",
    "\n",
    "Ans : The try clause lets you test a block of code for errors where except clause lets you handle the error in a programme."
   ]
  },
  {
   "cell_type": "code",
   "execution_count": 21,
   "metadata": {},
   "outputs": [
    {
     "name": "stdout",
     "output_type": "stream",
     "text": [
      "Something went wrong\n",
      "The 'try except' is finished\n"
     ]
    }
   ],
   "source": [
    "### try except else and finally implementation in python\n",
    "try:\n",
    "  var_a= 10\n",
    "  var_b=20\n",
    "  var_c= var_a +'p' + var_b\n",
    "  print(f'sum of two variables {var_c}')\n",
    "except:\n",
    "  print(\"Something went wrong\")\n",
    "else:\n",
    "      print(\"Nothing went wrong\")\n",
    "finally:\n",
    "  print(\"The 'try except' is finished\")"
   ]
  }
 ],
 "metadata": {
  "kernelspec": {
   "display_name": "Python 3",
   "language": "python",
   "name": "python3"
  },
  "language_info": {
   "codemirror_mode": {
    "name": "ipython",
    "version": 3
   },
   "file_extension": ".py",
   "mimetype": "text/x-python",
   "name": "python",
   "nbconvert_exporter": "python",
   "pygments_lexer": "ipython3",
   "version": "3.11.2"
  },
  "orig_nbformat": 4
 },
 "nbformat": 4,
 "nbformat_minor": 2
}
