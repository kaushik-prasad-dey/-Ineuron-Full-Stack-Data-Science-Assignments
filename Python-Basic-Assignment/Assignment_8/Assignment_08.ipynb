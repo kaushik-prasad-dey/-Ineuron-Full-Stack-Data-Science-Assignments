{
  "nbformat": 4,
  "nbformat_minor": 0,
  "metadata": {
    "colab": {
      "provenance": []
    },
    "kernelspec": {
      "name": "python3",
      "display_name": "Python 3"
    },
    "language_info": {
      "name": "python"
    }
  },
  "cells": [
    {
      "cell_type": "markdown",
      "source": [
        "1. **In Python, what is the difference between a built-in function and a user-defined function? Provide an example of each ??**\n"
      ],
      "metadata": {
        "id": "DZi5yq8PnXjT"
      }
    },
    {
      "cell_type": "markdown",
      "source": [
        "### Built In Function\n",
        "Ans : Built In function is a function which can already in wriiten in python as its own function , where we no need to create this function but we should call this function to get the output. Built in python functions are **pre-defined by python interpreter**.\n",
        "\n",
        "So, we can say that Python built-in functions are defined as the functions whose functionality is pre-defined in Python.\n",
        "\n",
        "Built-in functions are ones for which the compiler generates inline code at compile time.\n",
        "\n",
        "Some example of built in functions are : abs(), all(), type(), bool() and\n",
        "\n",
        "## User-defined function\n",
        "\n",
        "Ans : User Defined function, it names suggested that user can defined it means its a custom function in python which is created by its user as per the business logic are required there.\n",
        "\n",
        "In every programming language we can create UDF , so python also not exceptional for that. so, simply we can say that user or coder or developer can write its own function and that is called user defined function.\n",
        "\n",
        "Functions that we define ourselves to do certain specific task are referred as user-defined functions.\n",
        "\n",
        "in below cell we can create some code example regarding Built in function and User Defined function.\n",
        "\n",
        "\n"
      ],
      "metadata": {
        "id": "Al3nrXasnmLQ"
      }
    },
    {
      "cell_type": "markdown",
      "source": [
        "#### IN BUILT FUNCTION CODE EXAMPLE"
      ],
      "metadata": {
        "id": "iUFJVvzI5PoS"
      }
    },
    {
      "cell_type": "code",
      "source": [
        "### example of Built in function\n",
        "#### type example\n",
        "nameType=\"Welcome to Data Science Course with Ineuron....\"\n",
        "print(f\"First example of built-in-function {type(nameType)}\")\n",
        "\n",
        "#### abs example\n",
        "integerValue = -20\n",
        "print(f\"Second example of built-in-functionAbsolute value of -20 is: {abs(integerValue)}\")\n",
        "\n",
        "#### bin() function is used to return the binary representation of a specified integer\n",
        "x =  10\n",
        "print (f\"Third example of built-in-function is : {bin(x)}\")\n",
        "\n",
        "#### bool() converts a value to boolean(True or False) using the standard truth testing procedure.\n",
        "test1 = 0.0\n",
        "print(f\"Fourth example of built-in-function is :test1,'is',{bool(test1)}\")\n",
        "\n",
        "#### print function is also in built function in python\n",
        "namePrint=\"Python is super amazed programming language among all\"\n",
        "print(f\"Fifth example of built-in-function is : {namePrint}\")\n",
        "\n",
        "\"\"\"\n",
        "exec() function is used for the dynamic execution of Python program which can\n",
        "either be a string or object code and it accepts large blocks of code.\n",
        "\"\"\"\n",
        "x = 8\n",
        "exec(f\"{print(x!=8)}\")\n",
        "\n"
      ],
      "metadata": {
        "colab": {
          "base_uri": "https://localhost:8080/"
        },
        "id": "gP_WBE6s13c0",
        "outputId": "b6d766a6-d666-417e-b99f-3dbdee4eacfe"
      },
      "execution_count": null,
      "outputs": [
        {
          "output_type": "stream",
          "name": "stdout",
          "text": [
            "First example of built-in-function <class 'str'>\n",
            "Second example of built-in-functionAbsolute value of -20 is: 20\n",
            "Third example of built-in-function is : 0b1010\n",
            "Fourth example of built-in-function is :test1,'is',False\n",
            "Fifth example of built-in-function is : Python is super amazed programming language among all\n",
            "False\n"
          ]
        }
      ]
    },
    {
      "cell_type": "markdown",
      "source": [
        "#### CUSTOM FUNCTION CODE EXAMPLE"
      ],
      "metadata": {
        "id": "WzhC_BMc5ZIG"
      }
    },
    {
      "cell_type": "code",
      "source": [
        "def numbers_to_strings_udf(argument):\n",
        "    switcher = {\n",
        "        0: \"Addition\",\n",
        "        1: \"Multiplication\",\n",
        "        2: \"Division\",\n",
        "    }\n",
        "\n",
        "    return switcher.get(argument, \"nothing\")\n",
        "\n",
        "# Driver program\n",
        "if __name__ == \"__main__\":\n",
        "    argument=1\n",
        "    print (numbers_to_strings_udf(argument))"
      ],
      "metadata": {
        "colab": {
          "base_uri": "https://localhost:8080/"
        },
        "id": "OrDhEjA_5d8F",
        "outputId": "b5a34908-3121-44c8-c7a4-97bae81d8b23"
      },
      "execution_count": null,
      "outputs": [
        {
          "output_type": "stream",
          "name": "stdout",
          "text": [
            "Multiplication\n"
          ]
        }
      ]
    },
    {
      "cell_type": "markdown",
      "source": [
        "2. **How can you pass arguments to a function in Python?**\n",
        "\n",
        "Ans : Information can be passed into functions as arguments. Arguments are specified after the function name, inside the parentheses. we can add as many arguments as want, just separate them with a comma. one coding example for pass arguments are given below cell. cell no [63,64 and 67]\n",
        "\n",
        "**Explain the difference between positional arguments and keyword arguments in python ??**\n",
        "\n",
        "Ans : An argument is a variable, value or object passed to a function or method as their input. Positional arguments are arguments that need to be included in the proper position or order. The first positional argument always needs to be listed first when the function is called. The second positional argument needs to be listed second and the third positional argument listed third.\n",
        "\n",
        "In the other hand, Keyword arguments are included with a keyword and equals sign.This way the order of the arguments does not matter.\n",
        "\n",
        "now for both , refer to the below cell example."
      ],
      "metadata": {
        "id": "bt_Np4jd8bqt"
      }
    },
    {
      "cell_type": "code",
      "source": [
        "##Pass arguments to a function.\n",
        "##pass single arguments\n",
        "def my_udf(fname):\n",
        "  print(fname + \" Welcome to the hell!!!!!\")\n",
        "\n",
        "my_udf(\"kaushik\")\n",
        "my_udf(\"Rahul\")"
      ],
      "metadata": {
        "colab": {
          "base_uri": "https://localhost:8080/"
        },
        "id": "1AzrAiFggcNE",
        "outputId": "44ad76ff-32eb-4f7c-e33e-443d323ccb5c"
      },
      "execution_count": 63,
      "outputs": [
        {
          "output_type": "stream",
          "name": "stdout",
          "text": [
            "kaushik Welcome to the hell!!!!!\n",
            "Rahul Welcome to the hell!!!!!\n"
          ]
        }
      ]
    },
    {
      "cell_type": "code",
      "source": [
        "##Pass arguments to a function.\n",
        "##pass multiple arguments\n",
        "def my_udf_1(fname, welcometext):\n",
        "  print(fname + welcometext)\n",
        "\n",
        "my_udf_1(\"kaushik\",\"welcome to the Data Science World!!!!!\")\n",
        "my_udf_1(\"Rahul\",\" welcome to the Machine Learning World!!!!!\")"
      ],
      "metadata": {
        "colab": {
          "base_uri": "https://localhost:8080/"
        },
        "id": "gtI9aJgxhOib",
        "outputId": "950cda8e-b45b-4fec-ac1c-e3a6bd90a6a7"
      },
      "execution_count": 64,
      "outputs": [
        {
          "output_type": "stream",
          "name": "stdout",
          "text": [
            "kaushikwelcome to the Data Science World!!!!!\n",
            "Rahul welcome to the Machine Learning World!!!!!\n"
          ]
        }
      ]
    },
    {
      "cell_type": "code",
      "source": [
        "##Pass arguments to a function.\n",
        "##we can use args for that\n",
        "def my_udf_1(*argv):\n",
        "  for arg in argv:\n",
        "        print(\"Next argument through *argv :\", arg)\n",
        "\n",
        "print(my_udf_1(\"kaushik\",\"welcome to the Data Science World!!!!!\"))\n",
        "print(my_udf_1(\"Rahul\",\" welcome to the Machine Learning World!!!!!\"))"
      ],
      "metadata": {
        "colab": {
          "base_uri": "https://localhost:8080/"
        },
        "id": "Yr-x7yJ-htxw",
        "outputId": "ccb87ba1-ce35-4a59-f686-f04a7ec6ae0b"
      },
      "execution_count": 67,
      "outputs": [
        {
          "output_type": "stream",
          "name": "stdout",
          "text": [
            "Next argument through *argv : kaushik\n",
            "Next argument through *argv : welcome to the Data Science World!!!!!\n",
            "None\n",
            "Next argument through *argv : Rahul\n",
            "Next argument through *argv :  welcome to the Machine Learning World!!!!!\n",
            "None\n"
          ]
        }
      ]
    },
    {
      "cell_type": "code",
      "source": [
        "#positional arguments\n",
        "def my_function(name, skill, experience):\n",
        "  print(f\"My name is {name} and my skills are {skill} and my experience is {int(experience) *2 } years\")\n",
        "\n",
        "\n",
        "#call the function with right order proper sequence order\n",
        "my_function(\"kaushik\",\"ML-Expert\",\"10\")\n",
        "#if i donot follow the order then it has no meaning of calling the function\n",
        "my_function(\"10\",\"kaushik\",\"ML-Expert\")\n",
        "#so, here we have to maintain the position other\n",
        "#so, we can see that the first statement is printed but second statement it errors because we not follow the order."
      ],
      "metadata": {
        "colab": {
          "base_uri": "https://localhost:8080/",
          "height": 367
        },
        "id": "bi3xdrfolzwv",
        "outputId": "e618801d-06fa-4bba-dc45-cc4f73c6e9b5"
      },
      "execution_count": 73,
      "outputs": [
        {
          "output_type": "stream",
          "name": "stdout",
          "text": [
            "My name is kaushik and my skills are ML-Expert and my experience is 20 years\n"
          ]
        },
        {
          "output_type": "error",
          "ename": "ValueError",
          "evalue": "ignored",
          "traceback": [
            "\u001b[0;31m---------------------------------------------------------------------------\u001b[0m",
            "\u001b[0;31mValueError\u001b[0m                                Traceback (most recent call last)",
            "\u001b[0;32m<ipython-input-73-1378c8d595d1>\u001b[0m in \u001b[0;36m<cell line: 9>\u001b[0;34m()\u001b[0m\n\u001b[1;32m      7\u001b[0m \u001b[0mmy_function\u001b[0m\u001b[0;34m(\u001b[0m\u001b[0;34m\"kaushik\"\u001b[0m\u001b[0;34m,\u001b[0m\u001b[0;34m\"ML-Expert\"\u001b[0m\u001b[0;34m,\u001b[0m\u001b[0;34m\"10\"\u001b[0m\u001b[0;34m)\u001b[0m\u001b[0;34m\u001b[0m\u001b[0;34m\u001b[0m\u001b[0m\n\u001b[1;32m      8\u001b[0m \u001b[0;31m#if i donot follow the order then it has no meaning of calling the function\u001b[0m\u001b[0;34m\u001b[0m\u001b[0;34m\u001b[0m\u001b[0m\n\u001b[0;32m----> 9\u001b[0;31m \u001b[0mmy_function\u001b[0m\u001b[0;34m(\u001b[0m\u001b[0;34m\"10\"\u001b[0m\u001b[0;34m,\u001b[0m\u001b[0;34m\"kaushik\"\u001b[0m\u001b[0;34m,\u001b[0m\u001b[0;34m\"ML-Expert\"\u001b[0m\u001b[0;34m)\u001b[0m\u001b[0;34m\u001b[0m\u001b[0;34m\u001b[0m\u001b[0m\n\u001b[0m\u001b[1;32m     10\u001b[0m \u001b[0;31m#so, here we have to maintain the position\u001b[0m\u001b[0;34m\u001b[0m\u001b[0;34m\u001b[0m\u001b[0m\n",
            "\u001b[0;32m<ipython-input-73-1378c8d595d1>\u001b[0m in \u001b[0;36mmy_function\u001b[0;34m(name, skill, experience)\u001b[0m\n\u001b[1;32m      1\u001b[0m \u001b[0;31m#positional arguments\u001b[0m\u001b[0;34m\u001b[0m\u001b[0;34m\u001b[0m\u001b[0m\n\u001b[1;32m      2\u001b[0m \u001b[0;32mdef\u001b[0m \u001b[0mmy_function\u001b[0m\u001b[0;34m(\u001b[0m\u001b[0mname\u001b[0m\u001b[0;34m,\u001b[0m \u001b[0mskill\u001b[0m\u001b[0;34m,\u001b[0m \u001b[0mexperience\u001b[0m\u001b[0;34m)\u001b[0m\u001b[0;34m:\u001b[0m\u001b[0;34m\u001b[0m\u001b[0;34m\u001b[0m\u001b[0m\n\u001b[0;32m----> 3\u001b[0;31m   \u001b[0mprint\u001b[0m\u001b[0;34m(\u001b[0m\u001b[0;34mf\"My name is {name} and my skills are {skill} and my experience is {int(experience) *2 } years\"\u001b[0m\u001b[0;34m)\u001b[0m\u001b[0;34m\u001b[0m\u001b[0;34m\u001b[0m\u001b[0m\n\u001b[0m\u001b[1;32m      4\u001b[0m \u001b[0;34m\u001b[0m\u001b[0m\n\u001b[1;32m      5\u001b[0m \u001b[0;34m\u001b[0m\u001b[0m\n",
            "\u001b[0;31mValueError\u001b[0m: invalid literal for int() with base 10: 'ML-Expert'"
          ]
        }
      ]
    },
    {
      "cell_type": "code",
      "source": [
        "#keyword arguments\n",
        "def my_function(experience, name, skill):\n",
        "  print(f\"My name is {name} and my skills are {skill} and my experience is {int(experience) *2 } years\")\n",
        "\n",
        "#although it doesn't follow the order but still execute the expected results.\n",
        "my_function(experience = \"10\", name = \"kaushik\", skill = \"ML-Expert\")\n",
        "\n",
        "#Now i alter the arguments position but still it provides expected results.\n",
        "my_function(skill = \"ML-Expert\", name = \"kaushik\", experience = \"10\" )"
      ],
      "metadata": {
        "colab": {
          "base_uri": "https://localhost:8080/"
        },
        "id": "-Cbrr67km39P",
        "outputId": "eb7ca3be-f711-4e53-b82f-e81eedefb766"
      },
      "execution_count": 75,
      "outputs": [
        {
          "output_type": "stream",
          "name": "stdout",
          "text": [
            "My name is kaushik and my skills are ML-Expert and my experience is 20 years\n",
            "My name is kaushik and my skills are ML-Expert and my experience is 20 years\n"
          ]
        }
      ]
    },
    {
      "cell_type": "markdown",
      "source": [
        "3. **What is the purpose of the return statement in a function? Can a function have multiple return statements? Explain with an example.**\n",
        "\n",
        "**Ans** : A return statement is used to end the execution of the function call\n",
        "and returns the results to the caller. return can be string, boolean,\n",
        "number, dict anything. but after return statement no code will be executed.\n",
        "it is the last point of the code. if we focus while writing the code inside\n",
        "function with return statement we can see that after return statement the\n",
        "code blocks are showing greyed out or showing error and it depends on the IDE.\n",
        "\n",
        "No, a function does not have multiple return statement.But Python functions can return multiple values in a single return statement. we have to make sure that return statement is only one and with the help of only one return statement we can return multiple values but not multiple return statement. Working example is given below cell."
      ],
      "metadata": {
        "id": "MqvVC9xXcjmF"
      }
    },
    {
      "cell_type": "code",
      "source": [
        "# can a function have multiple return statements -- example 1\n",
        "def multiple_return(name,age,sal):\n",
        "    return name\n",
        "    return age\n",
        "    return sal"
      ],
      "metadata": {
        "id": "seWgFdZfe3tv"
      },
      "execution_count": 1,
      "outputs": []
    },
    {
      "cell_type": "code",
      "source": [
        "multiple_return(\"kaushik\",20,12000)"
      ],
      "metadata": {
        "colab": {
          "base_uri": "https://localhost:8080/",
          "height": 35
        },
        "id": "-c5hgynLfMkq",
        "outputId": "d92efacf-2ac8-416d-ba59-ee146491720e"
      },
      "execution_count": 2,
      "outputs": [
        {
          "output_type": "execute_result",
          "data": {
            "text/plain": [
              "'kaushik'"
            ],
            "application/vnd.google.colaboratory.intrinsic+json": {
              "type": "string"
            }
          },
          "metadata": {},
          "execution_count": 2
        }
      ]
    },
    {
      "cell_type": "markdown",
      "source": [
        "from the above code example we can see that while calling the multiple_return it only return name and ignored other two values."
      ],
      "metadata": {
        "id": "q43Oy_VIgFJC"
      }
    },
    {
      "cell_type": "code",
      "source": [
        "# can a function have multiple return statements -- example 2\n",
        "def dict_return(name,age,sal):\n",
        "  dict_return = {'name': name, 'age': age, 'salary': sal}\n",
        "  dict_return_with_decorated= f\"First name is {name}, age is {age} and salary is {sal} \"\n",
        "  return dict_return_with_decorated"
      ],
      "metadata": {
        "id": "wcSfjJkwgSm1"
      },
      "execution_count": 5,
      "outputs": []
    },
    {
      "cell_type": "code",
      "source": [
        "print(dict_return(\"kaushik\",20,12000))"
      ],
      "metadata": {
        "colab": {
          "base_uri": "https://localhost:8080/"
        },
        "id": "YDJ82SqDg13w",
        "outputId": "168104b0-ead7-4349-c69f-7ff11e48553e"
      },
      "execution_count": 6,
      "outputs": [
        {
          "output_type": "stream",
          "name": "stdout",
          "text": [
            "First name is kaushik, age is 20 and salary is 12000 \n"
          ]
        }
      ]
    },
    {
      "cell_type": "code",
      "source": [
        "# can a function have multiple return statements -- example 3\n",
        "def get_demo_data_obj(object_type):\n",
        "    if 'str' == object_type:\n",
        "        return 'test'\n",
        "    elif 'tuple' == object_type:\n",
        "        return (1, 2, 3)\n",
        "    elif 'list' == object_type:\n",
        "        return [1, 2, 3]\n",
        "    elif 'dict' == object_type:\n",
        "        return {\"1\": 1, \"2\": 2, \"3\": 3}\n",
        "    else:\n",
        "        return None"
      ],
      "metadata": {
        "id": "-c0vaHEzidcH"
      },
      "execution_count": 7,
      "outputs": []
    },
    {
      "cell_type": "code",
      "source": [
        "print(get_demo_data_obj('str'))\n",
        "print(get_demo_data_obj('tuple'))\n",
        "print(get_demo_data_obj('list'))\n",
        "print(get_demo_data_obj('dict'))\n",
        "print(get_demo_data_obj('set'))"
      ],
      "metadata": {
        "colab": {
          "base_uri": "https://localhost:8080/"
        },
        "id": "53qkq1SeiqHR",
        "outputId": "7f1a1f3f-4e2f-4e1a-89b6-cb6718830a40"
      },
      "execution_count": 9,
      "outputs": [
        {
          "output_type": "stream",
          "name": "stdout",
          "text": [
            "test\n",
            "(1, 2, 3)\n",
            "[1, 2, 3]\n",
            "{'1': 1, '2': 2, '3': 3}\n",
            "None\n"
          ]
        }
      ]
    },
    {
      "cell_type": "markdown",
      "source": [
        "so, from the above code example ( **example 2 and example 3** ) we can see that with the one single return statement we can return multiple values."
      ],
      "metadata": {
        "id": "nLWNXUogiG7X"
      }
    },
    {
      "cell_type": "markdown",
      "source": [
        "4. **What are lambda functions in Python? How are they different from regular functions? Provide an example where a lambda function can be useful ??**\n",
        "\n",
        "Ans: Lambda functions are similar to **UDF** ( User Defined functions) like an anonymous functions. Lambda functions are efficient whenever you want to create a function that will only contain simple expressions - that is, expression that is single line of statement with less coding.\n",
        "\n",
        "Ans: The difference between regular functions and lambda functions are given below.\n",
        "\n",
        "\n",
        "**Regular Functions**\n",
        "\n",
        "in normal functions we can use def keyword for declaring or creating\n",
        "the functions. in python def defined functions are commonly used because\n",
        "of their simplicity. The def function must be declared in the namespace.\n",
        "The def functions can perform any python task including multiple conditions,\n",
        "nested conditions or loops of any level, printing, importing libaries and\n",
        "raising Exceptions.\n",
        "\n",
        "\n",
        "**Lambda Functions**\n",
        "The lambda functions can be used without any declaration in the namespace.\n",
        "this functions defined above are like single-line functions. the functions\n",
        "does not have parenthesis like the def defiend functions but instead, take\n",
        "parameters after the lambda keyword. The lambda function is treated as anonymyous function and there is no return keyword defined explicitly but the lambda function does return an object by default.\n",
        "\n",
        "**when lambda function is useful ??**\n",
        "\n",
        "Ans : As per my understanding lambda functions can be used to manipulate values inside a Pandas dataframe. so we can use lambda with apply() on dummy dataframe. and that time it is very useful as compare than regular function. working example is given below cell for that."
      ],
      "metadata": {
        "id": "QvPiSwtSjDG6"
      }
    },
    {
      "cell_type": "code",
      "source": [
        "### Example of regular functions are given below\n",
        "# Define function to check if language is present in\n",
        "# language list using def keyword\n",
        "languages = ['Bengali', 'English', 'Hindi', 'Telegu']\n",
        "def check_language(x):\n",
        "    if x in languages:\n",
        "        return True\n",
        "    return False\n",
        "\n",
        "# Call the def function to check if keyword 'English'\n",
        "# is present in the languages list and print it\n",
        "print(check_language('Bengali'))"
      ],
      "metadata": {
        "colab": {
          "base_uri": "https://localhost:8080/"
        },
        "id": "IUhmiptBnXLo",
        "outputId": "2b437246-e5bb-4f4e-f05e-1bbc84cf42f7"
      },
      "execution_count": 11,
      "outputs": [
        {
          "output_type": "stream",
          "name": "stdout",
          "text": [
            "True\n"
          ]
        }
      ]
    },
    {
      "cell_type": "code",
      "source": [
        "### Example of lambda functions are given below\n",
        "languages = ['Bengali', 'English', 'Hindi', 'Telegu']\n",
        "# Define function using lambda\n",
        "check_language_present = lambda x: True if x in languages else False\n",
        "# Call the lambda function\n",
        "print(check_language_present('Sanskrut'))"
      ],
      "metadata": {
        "colab": {
          "base_uri": "https://localhost:8080/"
        },
        "id": "oKv9shbhnoNM",
        "outputId": "c8694f54-b329-4c16-963f-b578f555261e"
      },
      "execution_count": 12,
      "outputs": [
        {
          "output_type": "stream",
          "name": "stdout",
          "text": [
            "False\n"
          ]
        }
      ]
    },
    {
      "cell_type": "code",
      "source": [
        "#when lambda function is useful\n",
        "#Lambda functions consist of three parts:\n",
        "#Lambda Keyword\n",
        "#Bound variable/lambda argument, and\n",
        "#Body or lambda expression\n",
        "import pandas as pd\n",
        "df = pd.DataFrame({\n",
        "    \"id\" : [1,2,3,4,5],\n",
        "    \"name\" : [\"kaushik\",\"krish\",\"Raj\",\"Sunny\",\"Rahul\"],\n",
        "    \"age\":[10,40,20,30,35],\n",
        "    \"salary\":[500,50000,100000,20000,10000]\n",
        "                     })\n",
        "df.head()"
      ],
      "metadata": {
        "colab": {
          "base_uri": "https://localhost:8080/",
          "height": 206
        },
        "id": "aYF9xhLnOK9P",
        "outputId": "d621d37f-d0e9-472c-fd2b-62cb5a32dc72"
      },
      "execution_count": 8,
      "outputs": [
        {
          "output_type": "execute_result",
          "data": {
            "text/plain": [
              "   id     name  age  salary\n",
              "0   1  kaushik   10     500\n",
              "1   2    krish   40   50000\n",
              "2   3      Raj   20  100000\n",
              "3   4    Sunny   30   20000\n",
              "4   5    Rahul   35   10000"
            ],
            "text/html": [
              "\n",
              "  <div id=\"df-84b36e42-4e9f-4888-9edd-73b35c7444ac\" class=\"colab-df-container\">\n",
              "    <div>\n",
              "<style scoped>\n",
              "    .dataframe tbody tr th:only-of-type {\n",
              "        vertical-align: middle;\n",
              "    }\n",
              "\n",
              "    .dataframe tbody tr th {\n",
              "        vertical-align: top;\n",
              "    }\n",
              "\n",
              "    .dataframe thead th {\n",
              "        text-align: right;\n",
              "    }\n",
              "</style>\n",
              "<table border=\"1\" class=\"dataframe\">\n",
              "  <thead>\n",
              "    <tr style=\"text-align: right;\">\n",
              "      <th></th>\n",
              "      <th>id</th>\n",
              "      <th>name</th>\n",
              "      <th>age</th>\n",
              "      <th>salary</th>\n",
              "    </tr>\n",
              "  </thead>\n",
              "  <tbody>\n",
              "    <tr>\n",
              "      <th>0</th>\n",
              "      <td>1</td>\n",
              "      <td>kaushik</td>\n",
              "      <td>10</td>\n",
              "      <td>500</td>\n",
              "    </tr>\n",
              "    <tr>\n",
              "      <th>1</th>\n",
              "      <td>2</td>\n",
              "      <td>krish</td>\n",
              "      <td>40</td>\n",
              "      <td>50000</td>\n",
              "    </tr>\n",
              "    <tr>\n",
              "      <th>2</th>\n",
              "      <td>3</td>\n",
              "      <td>Raj</td>\n",
              "      <td>20</td>\n",
              "      <td>100000</td>\n",
              "    </tr>\n",
              "    <tr>\n",
              "      <th>3</th>\n",
              "      <td>4</td>\n",
              "      <td>Sunny</td>\n",
              "      <td>30</td>\n",
              "      <td>20000</td>\n",
              "    </tr>\n",
              "    <tr>\n",
              "      <th>4</th>\n",
              "      <td>5</td>\n",
              "      <td>Rahul</td>\n",
              "      <td>35</td>\n",
              "      <td>10000</td>\n",
              "    </tr>\n",
              "  </tbody>\n",
              "</table>\n",
              "</div>\n",
              "    <div class=\"colab-df-buttons\">\n",
              "\n",
              "  <div class=\"colab-df-container\">\n",
              "    <button class=\"colab-df-convert\" onclick=\"convertToInteractive('df-84b36e42-4e9f-4888-9edd-73b35c7444ac')\"\n",
              "            title=\"Convert this dataframe to an interactive table.\"\n",
              "            style=\"display:none;\">\n",
              "\n",
              "  <svg xmlns=\"http://www.w3.org/2000/svg\" height=\"24px\" viewBox=\"0 -960 960 960\">\n",
              "    <path d=\"M120-120v-720h720v720H120Zm60-500h600v-160H180v160Zm220 220h160v-160H400v160Zm0 220h160v-160H400v160ZM180-400h160v-160H180v160Zm440 0h160v-160H620v160ZM180-180h160v-160H180v160Zm440 0h160v-160H620v160Z\"/>\n",
              "  </svg>\n",
              "    </button>\n",
              "\n",
              "  <style>\n",
              "    .colab-df-container {\n",
              "      display:flex;\n",
              "      gap: 12px;\n",
              "    }\n",
              "\n",
              "    .colab-df-convert {\n",
              "      background-color: #E8F0FE;\n",
              "      border: none;\n",
              "      border-radius: 50%;\n",
              "      cursor: pointer;\n",
              "      display: none;\n",
              "      fill: #1967D2;\n",
              "      height: 32px;\n",
              "      padding: 0 0 0 0;\n",
              "      width: 32px;\n",
              "    }\n",
              "\n",
              "    .colab-df-convert:hover {\n",
              "      background-color: #E2EBFA;\n",
              "      box-shadow: 0px 1px 2px rgba(60, 64, 67, 0.3), 0px 1px 3px 1px rgba(60, 64, 67, 0.15);\n",
              "      fill: #174EA6;\n",
              "    }\n",
              "\n",
              "    .colab-df-buttons div {\n",
              "      margin-bottom: 4px;\n",
              "    }\n",
              "\n",
              "    [theme=dark] .colab-df-convert {\n",
              "      background-color: #3B4455;\n",
              "      fill: #D2E3FC;\n",
              "    }\n",
              "\n",
              "    [theme=dark] .colab-df-convert:hover {\n",
              "      background-color: #434B5C;\n",
              "      box-shadow: 0px 1px 3px 1px rgba(0, 0, 0, 0.15);\n",
              "      filter: drop-shadow(0px 1px 2px rgba(0, 0, 0, 0.3));\n",
              "      fill: #FFFFFF;\n",
              "    }\n",
              "  </style>\n",
              "\n",
              "    <script>\n",
              "      const buttonEl =\n",
              "        document.querySelector('#df-84b36e42-4e9f-4888-9edd-73b35c7444ac button.colab-df-convert');\n",
              "      buttonEl.style.display =\n",
              "        google.colab.kernel.accessAllowed ? 'block' : 'none';\n",
              "\n",
              "      async function convertToInteractive(key) {\n",
              "        const element = document.querySelector('#df-84b36e42-4e9f-4888-9edd-73b35c7444ac');\n",
              "        const dataTable =\n",
              "          await google.colab.kernel.invokeFunction('convertToInteractive',\n",
              "                                                    [key], {});\n",
              "        if (!dataTable) return;\n",
              "\n",
              "        const docLinkHtml = 'Like what you see? Visit the ' +\n",
              "          '<a target=\"_blank\" href=https://colab.research.google.com/notebooks/data_table.ipynb>data table notebook</a>'\n",
              "          + ' to learn more about interactive tables.';\n",
              "        element.innerHTML = '';\n",
              "        dataTable['output_type'] = 'display_data';\n",
              "        await google.colab.output.renderOutput(dataTable, element);\n",
              "        const docLink = document.createElement('div');\n",
              "        docLink.innerHTML = docLinkHtml;\n",
              "        element.appendChild(docLink);\n",
              "      }\n",
              "    </script>\n",
              "  </div>\n",
              "\n",
              "\n",
              "<div id=\"df-7c457922-1d28-43eb-a448-2da0b2e5dc62\">\n",
              "  <button class=\"colab-df-quickchart\" onclick=\"quickchart('df-7c457922-1d28-43eb-a448-2da0b2e5dc62')\"\n",
              "            title=\"Suggest charts.\"\n",
              "            style=\"display:none;\">\n",
              "\n",
              "<svg xmlns=\"http://www.w3.org/2000/svg\" height=\"24px\"viewBox=\"0 0 24 24\"\n",
              "     width=\"24px\">\n",
              "    <g>\n",
              "        <path d=\"M19 3H5c-1.1 0-2 .9-2 2v14c0 1.1.9 2 2 2h14c1.1 0 2-.9 2-2V5c0-1.1-.9-2-2-2zM9 17H7v-7h2v7zm4 0h-2V7h2v10zm4 0h-2v-4h2v4z\"/>\n",
              "    </g>\n",
              "</svg>\n",
              "  </button>\n",
              "\n",
              "<style>\n",
              "  .colab-df-quickchart {\n",
              "    background-color: #E8F0FE;\n",
              "    border: none;\n",
              "    border-radius: 50%;\n",
              "    cursor: pointer;\n",
              "    display: none;\n",
              "    fill: #1967D2;\n",
              "    height: 32px;\n",
              "    padding: 0 0 0 0;\n",
              "    width: 32px;\n",
              "  }\n",
              "\n",
              "  .colab-df-quickchart:hover {\n",
              "    background-color: #E2EBFA;\n",
              "    box-shadow: 0px 1px 2px rgba(60, 64, 67, 0.3), 0px 1px 3px 1px rgba(60, 64, 67, 0.15);\n",
              "    fill: #174EA6;\n",
              "  }\n",
              "\n",
              "  [theme=dark] .colab-df-quickchart {\n",
              "    background-color: #3B4455;\n",
              "    fill: #D2E3FC;\n",
              "  }\n",
              "\n",
              "  [theme=dark] .colab-df-quickchart:hover {\n",
              "    background-color: #434B5C;\n",
              "    box-shadow: 0px 1px 3px 1px rgba(0, 0, 0, 0.15);\n",
              "    filter: drop-shadow(0px 1px 2px rgba(0, 0, 0, 0.3));\n",
              "    fill: #FFFFFF;\n",
              "  }\n",
              "</style>\n",
              "\n",
              "  <script>\n",
              "    async function quickchart(key) {\n",
              "      const charts = await google.colab.kernel.invokeFunction(\n",
              "          'suggestCharts', [key], {});\n",
              "    }\n",
              "    (() => {\n",
              "      let quickchartButtonEl =\n",
              "        document.querySelector('#df-7c457922-1d28-43eb-a448-2da0b2e5dc62 button');\n",
              "      quickchartButtonEl.style.display =\n",
              "        google.colab.kernel.accessAllowed ? 'block' : 'none';\n",
              "    })();\n",
              "  </script>\n",
              "</div>\n",
              "    </div>\n",
              "  </div>\n"
            ]
          },
          "metadata": {},
          "execution_count": 8
        }
      ]
    },
    {
      "cell_type": "code",
      "source": [
        "#for hypothetical if we want to add age increase 3 years then simply we can use apply(lambda) func and easily we can achieve that.\n",
        "df['age']=df['age'].apply(lambda x: x+3)\n",
        "df.head()"
      ],
      "metadata": {
        "colab": {
          "base_uri": "https://localhost:8080/",
          "height": 206
        },
        "id": "tmXvtlFJP4Q8",
        "outputId": "38ff2058-c5d8-4407-b277-6d8cd24a8cfd"
      },
      "execution_count": 9,
      "outputs": [
        {
          "output_type": "execute_result",
          "data": {
            "text/plain": [
              "   id     name  age  salary\n",
              "0   1  kaushik   13     500\n",
              "1   2    krish   43   50000\n",
              "2   3      Raj   23  100000\n",
              "3   4    Sunny   33   20000\n",
              "4   5    Rahul   38   10000"
            ],
            "text/html": [
              "\n",
              "  <div id=\"df-ab9b65cc-a937-4a33-b23c-1a6c3b844117\" class=\"colab-df-container\">\n",
              "    <div>\n",
              "<style scoped>\n",
              "    .dataframe tbody tr th:only-of-type {\n",
              "        vertical-align: middle;\n",
              "    }\n",
              "\n",
              "    .dataframe tbody tr th {\n",
              "        vertical-align: top;\n",
              "    }\n",
              "\n",
              "    .dataframe thead th {\n",
              "        text-align: right;\n",
              "    }\n",
              "</style>\n",
              "<table border=\"1\" class=\"dataframe\">\n",
              "  <thead>\n",
              "    <tr style=\"text-align: right;\">\n",
              "      <th></th>\n",
              "      <th>id</th>\n",
              "      <th>name</th>\n",
              "      <th>age</th>\n",
              "      <th>salary</th>\n",
              "    </tr>\n",
              "  </thead>\n",
              "  <tbody>\n",
              "    <tr>\n",
              "      <th>0</th>\n",
              "      <td>1</td>\n",
              "      <td>kaushik</td>\n",
              "      <td>13</td>\n",
              "      <td>500</td>\n",
              "    </tr>\n",
              "    <tr>\n",
              "      <th>1</th>\n",
              "      <td>2</td>\n",
              "      <td>krish</td>\n",
              "      <td>43</td>\n",
              "      <td>50000</td>\n",
              "    </tr>\n",
              "    <tr>\n",
              "      <th>2</th>\n",
              "      <td>3</td>\n",
              "      <td>Raj</td>\n",
              "      <td>23</td>\n",
              "      <td>100000</td>\n",
              "    </tr>\n",
              "    <tr>\n",
              "      <th>3</th>\n",
              "      <td>4</td>\n",
              "      <td>Sunny</td>\n",
              "      <td>33</td>\n",
              "      <td>20000</td>\n",
              "    </tr>\n",
              "    <tr>\n",
              "      <th>4</th>\n",
              "      <td>5</td>\n",
              "      <td>Rahul</td>\n",
              "      <td>38</td>\n",
              "      <td>10000</td>\n",
              "    </tr>\n",
              "  </tbody>\n",
              "</table>\n",
              "</div>\n",
              "    <div class=\"colab-df-buttons\">\n",
              "\n",
              "  <div class=\"colab-df-container\">\n",
              "    <button class=\"colab-df-convert\" onclick=\"convertToInteractive('df-ab9b65cc-a937-4a33-b23c-1a6c3b844117')\"\n",
              "            title=\"Convert this dataframe to an interactive table.\"\n",
              "            style=\"display:none;\">\n",
              "\n",
              "  <svg xmlns=\"http://www.w3.org/2000/svg\" height=\"24px\" viewBox=\"0 -960 960 960\">\n",
              "    <path d=\"M120-120v-720h720v720H120Zm60-500h600v-160H180v160Zm220 220h160v-160H400v160Zm0 220h160v-160H400v160ZM180-400h160v-160H180v160Zm440 0h160v-160H620v160ZM180-180h160v-160H180v160Zm440 0h160v-160H620v160Z\"/>\n",
              "  </svg>\n",
              "    </button>\n",
              "\n",
              "  <style>\n",
              "    .colab-df-container {\n",
              "      display:flex;\n",
              "      gap: 12px;\n",
              "    }\n",
              "\n",
              "    .colab-df-convert {\n",
              "      background-color: #E8F0FE;\n",
              "      border: none;\n",
              "      border-radius: 50%;\n",
              "      cursor: pointer;\n",
              "      display: none;\n",
              "      fill: #1967D2;\n",
              "      height: 32px;\n",
              "      padding: 0 0 0 0;\n",
              "      width: 32px;\n",
              "    }\n",
              "\n",
              "    .colab-df-convert:hover {\n",
              "      background-color: #E2EBFA;\n",
              "      box-shadow: 0px 1px 2px rgba(60, 64, 67, 0.3), 0px 1px 3px 1px rgba(60, 64, 67, 0.15);\n",
              "      fill: #174EA6;\n",
              "    }\n",
              "\n",
              "    .colab-df-buttons div {\n",
              "      margin-bottom: 4px;\n",
              "    }\n",
              "\n",
              "    [theme=dark] .colab-df-convert {\n",
              "      background-color: #3B4455;\n",
              "      fill: #D2E3FC;\n",
              "    }\n",
              "\n",
              "    [theme=dark] .colab-df-convert:hover {\n",
              "      background-color: #434B5C;\n",
              "      box-shadow: 0px 1px 3px 1px rgba(0, 0, 0, 0.15);\n",
              "      filter: drop-shadow(0px 1px 2px rgba(0, 0, 0, 0.3));\n",
              "      fill: #FFFFFF;\n",
              "    }\n",
              "  </style>\n",
              "\n",
              "    <script>\n",
              "      const buttonEl =\n",
              "        document.querySelector('#df-ab9b65cc-a937-4a33-b23c-1a6c3b844117 button.colab-df-convert');\n",
              "      buttonEl.style.display =\n",
              "        google.colab.kernel.accessAllowed ? 'block' : 'none';\n",
              "\n",
              "      async function convertToInteractive(key) {\n",
              "        const element = document.querySelector('#df-ab9b65cc-a937-4a33-b23c-1a6c3b844117');\n",
              "        const dataTable =\n",
              "          await google.colab.kernel.invokeFunction('convertToInteractive',\n",
              "                                                    [key], {});\n",
              "        if (!dataTable) return;\n",
              "\n",
              "        const docLinkHtml = 'Like what you see? Visit the ' +\n",
              "          '<a target=\"_blank\" href=https://colab.research.google.com/notebooks/data_table.ipynb>data table notebook</a>'\n",
              "          + ' to learn more about interactive tables.';\n",
              "        element.innerHTML = '';\n",
              "        dataTable['output_type'] = 'display_data';\n",
              "        await google.colab.output.renderOutput(dataTable, element);\n",
              "        const docLink = document.createElement('div');\n",
              "        docLink.innerHTML = docLinkHtml;\n",
              "        element.appendChild(docLink);\n",
              "      }\n",
              "    </script>\n",
              "  </div>\n",
              "\n",
              "\n",
              "<div id=\"df-e1423558-aca6-4470-8baf-92233fe364ea\">\n",
              "  <button class=\"colab-df-quickchart\" onclick=\"quickchart('df-e1423558-aca6-4470-8baf-92233fe364ea')\"\n",
              "            title=\"Suggest charts.\"\n",
              "            style=\"display:none;\">\n",
              "\n",
              "<svg xmlns=\"http://www.w3.org/2000/svg\" height=\"24px\"viewBox=\"0 0 24 24\"\n",
              "     width=\"24px\">\n",
              "    <g>\n",
              "        <path d=\"M19 3H5c-1.1 0-2 .9-2 2v14c0 1.1.9 2 2 2h14c1.1 0 2-.9 2-2V5c0-1.1-.9-2-2-2zM9 17H7v-7h2v7zm4 0h-2V7h2v10zm4 0h-2v-4h2v4z\"/>\n",
              "    </g>\n",
              "</svg>\n",
              "  </button>\n",
              "\n",
              "<style>\n",
              "  .colab-df-quickchart {\n",
              "    background-color: #E8F0FE;\n",
              "    border: none;\n",
              "    border-radius: 50%;\n",
              "    cursor: pointer;\n",
              "    display: none;\n",
              "    fill: #1967D2;\n",
              "    height: 32px;\n",
              "    padding: 0 0 0 0;\n",
              "    width: 32px;\n",
              "  }\n",
              "\n",
              "  .colab-df-quickchart:hover {\n",
              "    background-color: #E2EBFA;\n",
              "    box-shadow: 0px 1px 2px rgba(60, 64, 67, 0.3), 0px 1px 3px 1px rgba(60, 64, 67, 0.15);\n",
              "    fill: #174EA6;\n",
              "  }\n",
              "\n",
              "  [theme=dark] .colab-df-quickchart {\n",
              "    background-color: #3B4455;\n",
              "    fill: #D2E3FC;\n",
              "  }\n",
              "\n",
              "  [theme=dark] .colab-df-quickchart:hover {\n",
              "    background-color: #434B5C;\n",
              "    box-shadow: 0px 1px 3px 1px rgba(0, 0, 0, 0.15);\n",
              "    filter: drop-shadow(0px 1px 2px rgba(0, 0, 0, 0.3));\n",
              "    fill: #FFFFFF;\n",
              "  }\n",
              "</style>\n",
              "\n",
              "  <script>\n",
              "    async function quickchart(key) {\n",
              "      const charts = await google.colab.kernel.invokeFunction(\n",
              "          'suggestCharts', [key], {});\n",
              "    }\n",
              "    (() => {\n",
              "      let quickchartButtonEl =\n",
              "        document.querySelector('#df-e1423558-aca6-4470-8baf-92233fe364ea button');\n",
              "      quickchartButtonEl.style.display =\n",
              "        google.colab.kernel.accessAllowed ? 'block' : 'none';\n",
              "    })();\n",
              "  </script>\n",
              "</div>\n",
              "    </div>\n",
              "  </div>\n"
            ]
          },
          "metadata": {},
          "execution_count": 9
        }
      ]
    },
    {
      "cell_type": "code",
      "source": [
        "#for hypothetical if we want to increase salary then simply we can use apply(lambda) func and easily we can achieve that.\n",
        "df['salary']=list(map(lambda x: int(x+x*0.2),df['salary']))\n",
        "df.head()"
      ],
      "metadata": {
        "colab": {
          "base_uri": "https://localhost:8080/",
          "height": 206
        },
        "id": "csfxbkkWQegR",
        "outputId": "d7beab16-9dee-481b-f972-c4fb84526567"
      },
      "execution_count": 10,
      "outputs": [
        {
          "output_type": "execute_result",
          "data": {
            "text/plain": [
              "   id     name  age  salary\n",
              "0   1  kaushik   13     600\n",
              "1   2    krish   43   60000\n",
              "2   3      Raj   23  120000\n",
              "3   4    Sunny   33   24000\n",
              "4   5    Rahul   38   12000"
            ],
            "text/html": [
              "\n",
              "  <div id=\"df-931168e7-838e-48cb-96f4-2ae60e17c0ef\" class=\"colab-df-container\">\n",
              "    <div>\n",
              "<style scoped>\n",
              "    .dataframe tbody tr th:only-of-type {\n",
              "        vertical-align: middle;\n",
              "    }\n",
              "\n",
              "    .dataframe tbody tr th {\n",
              "        vertical-align: top;\n",
              "    }\n",
              "\n",
              "    .dataframe thead th {\n",
              "        text-align: right;\n",
              "    }\n",
              "</style>\n",
              "<table border=\"1\" class=\"dataframe\">\n",
              "  <thead>\n",
              "    <tr style=\"text-align: right;\">\n",
              "      <th></th>\n",
              "      <th>id</th>\n",
              "      <th>name</th>\n",
              "      <th>age</th>\n",
              "      <th>salary</th>\n",
              "    </tr>\n",
              "  </thead>\n",
              "  <tbody>\n",
              "    <tr>\n",
              "      <th>0</th>\n",
              "      <td>1</td>\n",
              "      <td>kaushik</td>\n",
              "      <td>13</td>\n",
              "      <td>600</td>\n",
              "    </tr>\n",
              "    <tr>\n",
              "      <th>1</th>\n",
              "      <td>2</td>\n",
              "      <td>krish</td>\n",
              "      <td>43</td>\n",
              "      <td>60000</td>\n",
              "    </tr>\n",
              "    <tr>\n",
              "      <th>2</th>\n",
              "      <td>3</td>\n",
              "      <td>Raj</td>\n",
              "      <td>23</td>\n",
              "      <td>120000</td>\n",
              "    </tr>\n",
              "    <tr>\n",
              "      <th>3</th>\n",
              "      <td>4</td>\n",
              "      <td>Sunny</td>\n",
              "      <td>33</td>\n",
              "      <td>24000</td>\n",
              "    </tr>\n",
              "    <tr>\n",
              "      <th>4</th>\n",
              "      <td>5</td>\n",
              "      <td>Rahul</td>\n",
              "      <td>38</td>\n",
              "      <td>12000</td>\n",
              "    </tr>\n",
              "  </tbody>\n",
              "</table>\n",
              "</div>\n",
              "    <div class=\"colab-df-buttons\">\n",
              "\n",
              "  <div class=\"colab-df-container\">\n",
              "    <button class=\"colab-df-convert\" onclick=\"convertToInteractive('df-931168e7-838e-48cb-96f4-2ae60e17c0ef')\"\n",
              "            title=\"Convert this dataframe to an interactive table.\"\n",
              "            style=\"display:none;\">\n",
              "\n",
              "  <svg xmlns=\"http://www.w3.org/2000/svg\" height=\"24px\" viewBox=\"0 -960 960 960\">\n",
              "    <path d=\"M120-120v-720h720v720H120Zm60-500h600v-160H180v160Zm220 220h160v-160H400v160Zm0 220h160v-160H400v160ZM180-400h160v-160H180v160Zm440 0h160v-160H620v160ZM180-180h160v-160H180v160Zm440 0h160v-160H620v160Z\"/>\n",
              "  </svg>\n",
              "    </button>\n",
              "\n",
              "  <style>\n",
              "    .colab-df-container {\n",
              "      display:flex;\n",
              "      gap: 12px;\n",
              "    }\n",
              "\n",
              "    .colab-df-convert {\n",
              "      background-color: #E8F0FE;\n",
              "      border: none;\n",
              "      border-radius: 50%;\n",
              "      cursor: pointer;\n",
              "      display: none;\n",
              "      fill: #1967D2;\n",
              "      height: 32px;\n",
              "      padding: 0 0 0 0;\n",
              "      width: 32px;\n",
              "    }\n",
              "\n",
              "    .colab-df-convert:hover {\n",
              "      background-color: #E2EBFA;\n",
              "      box-shadow: 0px 1px 2px rgba(60, 64, 67, 0.3), 0px 1px 3px 1px rgba(60, 64, 67, 0.15);\n",
              "      fill: #174EA6;\n",
              "    }\n",
              "\n",
              "    .colab-df-buttons div {\n",
              "      margin-bottom: 4px;\n",
              "    }\n",
              "\n",
              "    [theme=dark] .colab-df-convert {\n",
              "      background-color: #3B4455;\n",
              "      fill: #D2E3FC;\n",
              "    }\n",
              "\n",
              "    [theme=dark] .colab-df-convert:hover {\n",
              "      background-color: #434B5C;\n",
              "      box-shadow: 0px 1px 3px 1px rgba(0, 0, 0, 0.15);\n",
              "      filter: drop-shadow(0px 1px 2px rgba(0, 0, 0, 0.3));\n",
              "      fill: #FFFFFF;\n",
              "    }\n",
              "  </style>\n",
              "\n",
              "    <script>\n",
              "      const buttonEl =\n",
              "        document.querySelector('#df-931168e7-838e-48cb-96f4-2ae60e17c0ef button.colab-df-convert');\n",
              "      buttonEl.style.display =\n",
              "        google.colab.kernel.accessAllowed ? 'block' : 'none';\n",
              "\n",
              "      async function convertToInteractive(key) {\n",
              "        const element = document.querySelector('#df-931168e7-838e-48cb-96f4-2ae60e17c0ef');\n",
              "        const dataTable =\n",
              "          await google.colab.kernel.invokeFunction('convertToInteractive',\n",
              "                                                    [key], {});\n",
              "        if (!dataTable) return;\n",
              "\n",
              "        const docLinkHtml = 'Like what you see? Visit the ' +\n",
              "          '<a target=\"_blank\" href=https://colab.research.google.com/notebooks/data_table.ipynb>data table notebook</a>'\n",
              "          + ' to learn more about interactive tables.';\n",
              "        element.innerHTML = '';\n",
              "        dataTable['output_type'] = 'display_data';\n",
              "        await google.colab.output.renderOutput(dataTable, element);\n",
              "        const docLink = document.createElement('div');\n",
              "        docLink.innerHTML = docLinkHtml;\n",
              "        element.appendChild(docLink);\n",
              "      }\n",
              "    </script>\n",
              "  </div>\n",
              "\n",
              "\n",
              "<div id=\"df-d50a9f40-5605-45f8-b3ce-56833702cfa2\">\n",
              "  <button class=\"colab-df-quickchart\" onclick=\"quickchart('df-d50a9f40-5605-45f8-b3ce-56833702cfa2')\"\n",
              "            title=\"Suggest charts.\"\n",
              "            style=\"display:none;\">\n",
              "\n",
              "<svg xmlns=\"http://www.w3.org/2000/svg\" height=\"24px\"viewBox=\"0 0 24 24\"\n",
              "     width=\"24px\">\n",
              "    <g>\n",
              "        <path d=\"M19 3H5c-1.1 0-2 .9-2 2v14c0 1.1.9 2 2 2h14c1.1 0 2-.9 2-2V5c0-1.1-.9-2-2-2zM9 17H7v-7h2v7zm4 0h-2V7h2v10zm4 0h-2v-4h2v4z\"/>\n",
              "    </g>\n",
              "</svg>\n",
              "  </button>\n",
              "\n",
              "<style>\n",
              "  .colab-df-quickchart {\n",
              "    background-color: #E8F0FE;\n",
              "    border: none;\n",
              "    border-radius: 50%;\n",
              "    cursor: pointer;\n",
              "    display: none;\n",
              "    fill: #1967D2;\n",
              "    height: 32px;\n",
              "    padding: 0 0 0 0;\n",
              "    width: 32px;\n",
              "  }\n",
              "\n",
              "  .colab-df-quickchart:hover {\n",
              "    background-color: #E2EBFA;\n",
              "    box-shadow: 0px 1px 2px rgba(60, 64, 67, 0.3), 0px 1px 3px 1px rgba(60, 64, 67, 0.15);\n",
              "    fill: #174EA6;\n",
              "  }\n",
              "\n",
              "  [theme=dark] .colab-df-quickchart {\n",
              "    background-color: #3B4455;\n",
              "    fill: #D2E3FC;\n",
              "  }\n",
              "\n",
              "  [theme=dark] .colab-df-quickchart:hover {\n",
              "    background-color: #434B5C;\n",
              "    box-shadow: 0px 1px 3px 1px rgba(0, 0, 0, 0.15);\n",
              "    filter: drop-shadow(0px 1px 2px rgba(0, 0, 0, 0.3));\n",
              "    fill: #FFFFFF;\n",
              "  }\n",
              "</style>\n",
              "\n",
              "  <script>\n",
              "    async function quickchart(key) {\n",
              "      const charts = await google.colab.kernel.invokeFunction(\n",
              "          'suggestCharts', [key], {});\n",
              "    }\n",
              "    (() => {\n",
              "      let quickchartButtonEl =\n",
              "        document.querySelector('#df-d50a9f40-5605-45f8-b3ce-56833702cfa2 button');\n",
              "      quickchartButtonEl.style.display =\n",
              "        google.colab.kernel.accessAllowed ? 'block' : 'none';\n",
              "    })();\n",
              "  </script>\n",
              "</div>\n",
              "    </div>\n",
              "  </div>\n"
            ]
          },
          "metadata": {},
          "execution_count": 10
        }
      ]
    },
    {
      "cell_type": "markdown",
      "source": [
        "5. **How does the concept of \"scope\" apply to functions in Python?**\n",
        "\n",
        "Ans :\n",
        "Scope is treated as accessible point of view inside the functions in python. when any function executes then from the life cycle of that function we can access some variables  like local variable or function scope or local scope, means this variable owner is only recognised inside that function, when the function execution stop after the runtime of that function, this variable we can't access or it can not be recognized or not identified , its existence only applicable inside that function. so we can say there are function scope and other hand there is block scope that means inside that specific block this variables only be accessed and it can't be executed outside of this block.\n",
        "\n",
        "**Explain the difference between local scope and global scope ?**\n",
        "\n",
        "Ans:\n",
        "There are mainly three types of scope that is Local Scope and Global Scope and nonlocal scope.\n",
        "Local scope is the code block or body of any Python function or lambda expression which contains the names that you define inside the function. These names will only be visible from the code of the function. and this scope is treated as local scope and it will only work inside that function and outside of the function there is no existence. so, as per my understanding every framework or language, there are two main scope like local and global scope. so in the other side global scope value is entirely accessible within or outside of the function.\n",
        "\n",
        "so, in the below cell we can show each one example ( local scope, global scope and non-local scope )"
      ],
      "metadata": {
        "id": "zaOndzzIQvcU"
      }
    },
    {
      "cell_type": "code",
      "source": [
        "### example of local scope in python\n",
        "def myfunc():\n",
        "  local_scope_var = \"kaushik\"\n",
        "  print(local_scope_var)\n",
        "\n",
        "myfunc()\n",
        "#Now if i print local_scope_var it will throw error.\n",
        "print(local_scope_var)"
      ],
      "metadata": {
        "colab": {
          "base_uri": "https://localhost:8080/",
          "height": 228
        },
        "id": "vv3m1G81UQH_",
        "outputId": "c80f632e-401d-4ddd-d0ab-13f331cbe53e"
      },
      "execution_count": 2,
      "outputs": [
        {
          "output_type": "stream",
          "name": "stdout",
          "text": [
            "kaushik\n"
          ]
        },
        {
          "output_type": "error",
          "ename": "NameError",
          "evalue": "ignored",
          "traceback": [
            "\u001b[0;31m---------------------------------------------------------------------------\u001b[0m",
            "\u001b[0;31mNameError\u001b[0m                                 Traceback (most recent call last)",
            "\u001b[0;32m<ipython-input-2-c0bc773841c9>\u001b[0m in \u001b[0;36m<cell line: 8>\u001b[0;34m()\u001b[0m\n\u001b[1;32m      6\u001b[0m \u001b[0mmyfunc\u001b[0m\u001b[0;34m(\u001b[0m\u001b[0;34m)\u001b[0m\u001b[0;34m\u001b[0m\u001b[0;34m\u001b[0m\u001b[0m\n\u001b[1;32m      7\u001b[0m \u001b[0;31m#Now if i print local_scope_var it will throw error.\u001b[0m\u001b[0;34m\u001b[0m\u001b[0;34m\u001b[0m\u001b[0m\n\u001b[0;32m----> 8\u001b[0;31m \u001b[0mprint\u001b[0m\u001b[0;34m(\u001b[0m\u001b[0mlocal_scope_var\u001b[0m\u001b[0;34m)\u001b[0m\u001b[0;34m\u001b[0m\u001b[0;34m\u001b[0m\u001b[0m\n\u001b[0m",
            "\u001b[0;31mNameError\u001b[0m: name 'local_scope_var' is not defined"
          ]
        }
      ]
    },
    {
      "cell_type": "code",
      "source": [
        "#The local variable can be accessed from a function within the function.\n",
        "def myfunc():\n",
        "  local_scope_var = True\n",
        "  def myinnerfunc():\n",
        "    print(local_scope_var)\n",
        "  myinnerfunc()\n",
        "\n",
        "myfunc()"
      ],
      "metadata": {
        "colab": {
          "base_uri": "https://localhost:8080/"
        },
        "id": "-wozg02NHoZH",
        "outputId": "2ba61540-ce0e-4f06-fc41-83a9577fd3d4"
      },
      "execution_count": 4,
      "outputs": [
        {
          "output_type": "stream",
          "name": "stdout",
          "text": [
            "True\n"
          ]
        }
      ]
    },
    {
      "cell_type": "code",
      "source": [
        "# now example with the global scope in python.\n",
        "# declare global variable\n",
        "message_bar = 'Hello'\n",
        "\n",
        "def greet():\n",
        "    # declare local variable\n",
        "    message_bar =\"new Hello\"\n",
        "    print('Local', message_bar)\n",
        "\n",
        "greet()\n",
        "print('Global', message_bar)\n",
        "#now we can understood here both message_bar is different . inside greet() this message_bar is different output and outside is different.\n",
        "#so we can say that outer message_bar is called global scope and inner message_bar is called local scope"
      ],
      "metadata": {
        "colab": {
          "base_uri": "https://localhost:8080/"
        },
        "id": "geNIiBXYIOE4",
        "outputId": "ae89b6e4-e43f-4b4e-c3f6-0a264db7dcc7"
      },
      "execution_count": 10,
      "outputs": [
        {
          "output_type": "stream",
          "name": "stdout",
          "text": [
            "Local new Hello\n",
            "Global Hello\n"
          ]
        }
      ]
    },
    {
      "cell_type": "code",
      "source": [
        "#example of non-local variable.\n",
        "# outside function\n",
        "def outer():\n",
        "    message = 'local'\n",
        "    # nested function\n",
        "    def inner():\n",
        "        # declare nonlocal variable\n",
        "        nonlocal message\n",
        "        message = 'nonlocal'\n",
        "        print(\"inner:\", message)\n",
        "    inner()\n",
        "    print(\"outer:\", message)\n",
        "outer()"
      ],
      "metadata": {
        "colab": {
          "base_uri": "https://localhost:8080/"
        },
        "id": "FoHqYoYcJoBF",
        "outputId": "8819aeb5-aa8a-4642-f902-cd161c21a202"
      },
      "execution_count": 11,
      "outputs": [
        {
          "output_type": "stream",
          "name": "stdout",
          "text": [
            "inner: nonlocal\n",
            "outer: nonlocal\n"
          ]
        }
      ]
    },
    {
      "cell_type": "markdown",
      "source": [
        "6. **How can you use the \"return\" statement in a Python function to return multiple values?**\n",
        "\n",
        "Ans : i can use dictionary for \"return\" statement in a python function to return multiple values. An working example is given below."
      ],
      "metadata": {
        "id": "TkyE35XBKKji"
      }
    },
    {
      "cell_type": "code",
      "source": [
        "#To return multiple values with one single return statement\n",
        "def dict_return(name,age,sal):\n",
        "  dict_return = {'name': name, 'age': age, 'salary': sal}\n",
        "  dict_return_with_decorated= f\"First name is {name}, age is {age} and salary is {sal} \"\n",
        "  return dict_return_with_decorated"
      ],
      "metadata": {
        "id": "3zNT60o3KroT"
      },
      "execution_count": 12,
      "outputs": []
    },
    {
      "cell_type": "code",
      "source": [
        "print(dict_return(\"kaushik\",20,12000))"
      ],
      "metadata": {
        "colab": {
          "base_uri": "https://localhost:8080/"
        },
        "id": "7y-1tagwLs9j",
        "outputId": "09b8142e-91d2-4664-baf9-3e9104a9f9f8"
      },
      "execution_count": 13,
      "outputs": [
        {
          "output_type": "stream",
          "name": "stdout",
          "text": [
            "First name is kaushik, age is 20 and salary is 12000 \n"
          ]
        }
      ]
    },
    {
      "cell_type": "code",
      "source": [
        "# There is another approach for returning multiple values with the list\n",
        "def test_list():\n",
        "    return ['kaushik', 30,1000000]\n",
        "result = test_list()\n",
        "print(result)\n",
        "print(type(result))"
      ],
      "metadata": {
        "colab": {
          "base_uri": "https://localhost:8080/"
        },
        "id": "nXXdXzx0LvOX",
        "outputId": "83b739ca-5167-44cc-96f4-685808aff936"
      },
      "execution_count": 15,
      "outputs": [
        {
          "output_type": "stream",
          "name": "stdout",
          "text": [
            "['kaushik', 30, 1000000]\n",
            "<class 'list'>\n"
          ]
        }
      ]
    },
    {
      "cell_type": "code",
      "source": [
        "# There is another approach for returning multiple values with the list\n",
        "def single_return_multiple_values():\n",
        "    return 'kaushik', 20, [1000, 20000, 30000]\n",
        "\n",
        "kaushik, rajesh, digvijoy = single_return_multiple_values()\n",
        "print(kaushik)  # it returns 'kaushik'\n",
        "print(rajesh)   # it returns 20\n",
        "print(digvijoy) # it returns [1000, 20000, 30000]"
      ],
      "metadata": {
        "colab": {
          "base_uri": "https://localhost:8080/"
        },
        "id": "Vi7jFz9bMCVH",
        "outputId": "3b424c98-cd8f-4e82-e4b0-98cddf3d14f9"
      },
      "execution_count": 17,
      "outputs": [
        {
          "output_type": "stream",
          "name": "stdout",
          "text": [
            "kaushik\n",
            "20\n",
            "[1000, 20000, 30000]\n"
          ]
        }
      ]
    },
    {
      "cell_type": "markdown",
      "source": [
        "7. **What is the difference between the \"pass by value\" and \"pass by reference\" concepts when it comes to function arguments in Python?**\n",
        "\n",
        "Ans: When pass function arguments by reference, those arguments are **only references to existing values**. In the other hand, when pass arguments by value, those **arguments become independent copies of the original values**.\n",
        "\n",
        "**Pass by Reference In Python ??**\n",
        "\n",
        "so, simply we can say that Pass by reference means that you have to pass the function (reference) to a variable which refers that the variable already exists in memory or stack. Here, the variable (the bucket) is passed into the function directly. The variable acts as a Package that comes with its contents(the objects).\n",
        "\n",
        "**Pass by Value In Python ??**\n",
        "\n",
        "In this approach, we pass a copy of actual variables in function as a parameter. Hence any modification on parameters inside the function will not reflect in the actual variable.\n",
        "\n",
        "\n"
      ],
      "metadata": {
        "id": "zNeBmJ8lNWF6"
      }
    },
    {
      "cell_type": "code",
      "source": [
        "## coding example of pass by reference\n",
        "def same_list(list):\n",
        "    return list\n",
        "my_list=[\"x\"]\n",
        "same_list(my_list)\n",
        "print(my_list)\n",
        "\n",
        "#Also, the function can reassign the contents of the variable with the same effect as below.\n",
        "def add(list):\n",
        "  list.append(\"B\")\n",
        "  return list\n",
        "\n",
        "mylist=[\"X\"]\n",
        "add(my_list)\n",
        "print(my_list)"
      ],
      "metadata": {
        "colab": {
          "base_uri": "https://localhost:8080/"
        },
        "id": "aZdd1eGOOJ9G",
        "outputId": "c0b1a10d-0591-48f2-b90b-225f1350630b"
      },
      "execution_count": 19,
      "outputs": [
        {
          "output_type": "stream",
          "name": "stdout",
          "text": [
            "['x']\n",
            "['x', 'B']\n"
          ]
        }
      ]
    },
    {
      "cell_type": "code",
      "source": [
        "## coding example of pass by value\n",
        "def same_list(list):\n",
        "    return list\n",
        "mylist=[\"X\"]\n",
        "same_list(my_list)\n",
        "print(my_list)\n",
        "\n",
        "def add(list):\n",
        "  #list.append[\"B\"]\n",
        "  return list\n",
        "\n",
        "mylist=[\"X\"]\n",
        "add(my_list)\n",
        "print(my_list)\n",
        "\n",
        "#To summarize the copies of the variables and the objects in the context of the caller of the function are completely isolated."
      ],
      "metadata": {
        "colab": {
          "base_uri": "https://localhost:8080/"
        },
        "id": "08GPUSOOSESL",
        "outputId": "53f48103-2f6d-4b9f-cbff-67edc61b76a8"
      },
      "execution_count": 23,
      "outputs": [
        {
          "output_type": "stream",
          "name": "stdout",
          "text": [
            "['x', 'B']\n",
            "['x', 'B']\n"
          ]
        }
      ]
    },
    {
      "cell_type": "markdown",
      "source": [
        " 8. **Create a function that can intake integer or decimal value and do following operations:**\n",
        "\n",
        "a. Logarithmic function (log x)\n",
        "\n",
        "b. Exponential function (exp(x))\n",
        "\n",
        "c. Power function with base 2 (2x)\n",
        "\n",
        "d. Square root\n",
        "\n",
        "Ans : The all four bullet point answer explanation with coding is given in next cell.\n",
        "\n",
        "\n"
      ],
      "metadata": {
        "id": "P6yyDI8h6o5N"
      }
    },
    {
      "cell_type": "code",
      "source": [
        "import math"
      ],
      "metadata": {
        "id": "Mn265lHGWAN-"
      },
      "execution_count": 25,
      "outputs": []
    },
    {
      "cell_type": "code",
      "source": [
        "#Logarithmic function (log x) :\n",
        "def Logarithmic_function(*argv):\n",
        "   for arg in argv:\n",
        "       return math.log(arg)\n",
        "\n",
        "print(f'The value of log 5 with base 3 is : \", end=\"\" : {Logarithmic_function(5,3)}')"
      ],
      "metadata": {
        "id": "aApxieha7C1A",
        "colab": {
          "base_uri": "https://localhost:8080/"
        },
        "outputId": "78643590-4ae3-48fc-f0c8-c0b387441f29"
      },
      "execution_count": 31,
      "outputs": [
        {
          "output_type": "stream",
          "name": "stdout",
          "text": [
            "The value of log 5 with base 3 is : \", end=\"\" : 1.6094379124341003\n"
          ]
        }
      ]
    },
    {
      "cell_type": "code",
      "source": [
        "#Exponential function (exp(x)) :\n",
        "def exponential_function(*argv):\n",
        "   for arg in argv:\n",
        "       return math.exp(arg)\n",
        "\n",
        "print(f'The e**4 value is : \", end=\"\" : {exponential_function(4)}')"
      ],
      "metadata": {
        "colab": {
          "base_uri": "https://localhost:8080/"
        },
        "id": "1Q6wIHJfXxAM",
        "outputId": "418c65e6-ffd6-4c4c-a388-335cacde3985"
      },
      "execution_count": 32,
      "outputs": [
        {
          "output_type": "stream",
          "name": "stdout",
          "text": [
            "The e**4 value is : \", end=\"\" : 54.598150033144236\n"
          ]
        }
      ]
    },
    {
      "cell_type": "code",
      "source": [
        "#Power function with base 2 (2x) :\n",
        "def power_function_with_base2(*argv):\n",
        "       return pow(*argv)\n",
        "\n",
        "print(f'The power function with base 2 is  : \", end=\"\" : { power_function_with_base2(2,2)}' )"
      ],
      "metadata": {
        "colab": {
          "base_uri": "https://localhost:8080/"
        },
        "id": "5XXsgdXWWDhb",
        "outputId": "2da650f3-7628-463f-81ef-2fe73449c343"
      },
      "execution_count": 43,
      "outputs": [
        {
          "output_type": "stream",
          "name": "stdout",
          "text": [
            "The power function with base 2 is  : \", end=\"\" : 4\n"
          ]
        }
      ]
    },
    {
      "cell_type": "code",
      "source": [
        "#Square root :\n",
        "def square_root(*argv):\n",
        "  for arg in argv:\n",
        "       return math.sqrt(arg)\n",
        "\n",
        "print(f'The square_root is  : \", end=\"\" : { square_root(3.5)}' )"
      ],
      "metadata": {
        "colab": {
          "base_uri": "https://localhost:8080/"
        },
        "id": "INx187L7aSQB",
        "outputId": "f7fd62d1-6e9e-4c47-cea3-f6552d0ae8f7"
      },
      "execution_count": 48,
      "outputs": [
        {
          "output_type": "stream",
          "name": "stdout",
          "text": [
            "The square_root is  : \", end=\"\" : 1.8708286933869707\n"
          ]
        }
      ]
    },
    {
      "cell_type": "code",
      "source": [
        "#alternatively we can create one function and controls other flow of execution.\n",
        "def general_function_for_math_calculation(arg1,*argv):\n",
        "    for arg in argv:\n",
        "      #Logarithmic function (log x)\n",
        "      if 'log' == arg1:\n",
        "          return math.log(arg)\n",
        "      #Exponential function (exp(x)) :\n",
        "      elif 'exp' == arg1:\n",
        "          return math.exp(arg)\n",
        "      elif 'pow' == arg1:\n",
        "          return pow(*argv)\n",
        "      elif 'sqrt' == arg1:\n",
        "          return math.sqrt(arg)\n",
        "\n",
        "\n",
        "print(f'The value of log 5 with base 3 is : \", end=\"\" : {general_function_for_math_calculation(\"log\",5,3)}')\n",
        "print(f'The e**4 value is : \", end=\"\" : {general_function_for_math_calculation(\"exp\",4)}')\n",
        "print(f'The power function with base 2 is  : \", end=\"\" : { general_function_for_math_calculation(\"pow\",2,2)}' )\n",
        "print(f'The square_root is  : \", end=\"\" : { general_function_for_math_calculation(\"sqrt\",3.5)}' )"
      ],
      "metadata": {
        "colab": {
          "base_uri": "https://localhost:8080/"
        },
        "id": "ERl-cxPVbfsb",
        "outputId": "7d9b5ca2-16cc-4ab7-f071-6ef628cacd34"
      },
      "execution_count": 62,
      "outputs": [
        {
          "output_type": "stream",
          "name": "stdout",
          "text": [
            "The value of log 5 with base 3 is : \", end=\"\" : 1.6094379124341003\n",
            "The e**4 value is : \", end=\"\" : 54.598150033144236\n",
            "The power function with base 2 is  : \", end=\"\" : 4\n",
            "The square_root is  : \", end=\"\" : 1.8708286933869707\n"
          ]
        }
      ]
    },
    {
      "cell_type": "markdown",
      "source": [
        "9. **Create a function that takes a full name as an argument and returns first name and last name ?**\n",
        "\n",
        "Ans : The answer is given in next cell."
      ],
      "metadata": {
        "id": "QyUSPhwh3Z-N"
      }
    },
    {
      "cell_type": "code",
      "source": [
        "!pip install colorama\n"
      ],
      "metadata": {
        "colab": {
          "base_uri": "https://localhost:8080/"
        },
        "id": "WcEgiyUB5lmf",
        "outputId": "c3164806-03c3-43f4-85c5-fb8be57e58da"
      },
      "execution_count": null,
      "outputs": [
        {
          "output_type": "stream",
          "name": "stdout",
          "text": [
            "Installing collected packages: colorama\n",
            "Successfully installed colorama-0.4.6\n"
          ]
        }
      ]
    },
    {
      "cell_type": "code",
      "source": [
        "from colorama import Fore\n",
        "def full_name_udf(fullName):\n",
        "    splitedValue = fullName.split()\n",
        "    firstName = splitedValue[0]\n",
        "    lastName = splitedValue[1]\n",
        "    return f\"so from this UDF we takes a {fullName} as argument and it returns first name is {Fore.YELLOW +firstName } and last name is {Fore.GREEN + lastName }\"\n",
        "\n",
        "print(full_name_udf(\"kaushik Dey\"))"
      ],
      "metadata": {
        "colab": {
          "base_uri": "https://localhost:8080/"
        },
        "id": "E6I4u8Wb3mLN",
        "outputId": "7e8e1891-ed44-46e1-dabf-07cfdf192e57"
      },
      "execution_count": null,
      "outputs": [
        {
          "output_type": "stream",
          "name": "stdout",
          "text": [
            "so from this UDF we takes a kaushik Dey as argument and it returns first name is \u001b[33mkaushik and last name is \u001b[32mDey\n"
          ]
        }
      ]
    }
  ]
}