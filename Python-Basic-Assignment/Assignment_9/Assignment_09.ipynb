{
  "nbformat": 4,
  "nbformat_minor": 0,
  "metadata": {
    "colab": {
      "provenance": []
    },
    "kernelspec": {
      "name": "python3",
      "display_name": "Python 3"
    },
    "language_info": {
      "name": "python"
    }
  },
  "cells": [
    {
      "cell_type": "markdown",
      "source": [
        "1. **What is a lambda function in Python, and how does it differ from a regular function?**\n",
        "\n",
        "Ans:\n",
        "\n",
        "Lambda functions are similar to UDF ( User Defined functions) like an anonymous functions. Lambda functions are efficient whenever you want to create a function that will only contain simple expressions - that is, expression that is single line of statement with less coding.\n",
        "\n",
        "Ans: The difference between regular functions and lambda functions are given below.\n",
        "\n",
        "Regular Functions\n",
        "\n",
        "in normal functions we can use def keyword for declaring or creating the functions. in python def defined functions are commonly used because of their simplicity. The def function must be declared in the namespace. The def functions can perform any python task including multiple conditions, nested conditions or loops of any level, printing, importing libaries and raising Exceptions.\n",
        "\n",
        "Lambda Functions The lambda functions can be used without any declaration in the namespace. this functions defined above are like single-line functions. the functions does not have parenthesis like the def defiend functions but instead, take parameters after the lambda keyword. The lambda function is treated as anonymyous function and there is no return keyword defined explicitly but the lambda function does return an object by default."
      ],
      "metadata": {
        "id": "vkwmQMZ-3Ud_"
      }
    },
    {
      "cell_type": "code",
      "source": [
        "### same functions in def keyword using\n",
        "# Define function to check if language is present in\n",
        "languages_list = ['Data', 'Nlp', 'Aws', 'Azure']\n",
        "\n",
        "def check_language_transfer(x):\n",
        "    if x in languages_list:\n",
        "        return True\n",
        "    return False\n",
        "\n",
        "# Call the def function to check if keyword 'English'\n",
        "# is present in the languages list and print it\n",
        "print(check_language_transfer('Nlp'))"
      ],
      "metadata": {
        "colab": {
          "base_uri": "https://localhost:8080/"
        },
        "id": "lqO53VvG3vZw",
        "outputId": "27a436a8-5276-4ee4-8c92-f729f5018bed"
      },
      "execution_count": 32,
      "outputs": [
        {
          "output_type": "stream",
          "name": "stdout",
          "text": [
            "True\n"
          ]
        }
      ]
    },
    {
      "cell_type": "code",
      "source": [
        "### same functions in lambda using\n",
        "languages_list = ['Data', 'Nlp', 'Aws', 'Azure']\n",
        "# Define function using lambda\n",
        "l_check_language_list = lambda x: True if x in languages_list else False\n",
        "# Call the lambda function\n",
        "print(l_check_language_list('Aws'))"
      ],
      "metadata": {
        "colab": {
          "base_uri": "https://localhost:8080/"
        },
        "id": "wkKzP25u4UO2",
        "outputId": "8ec670d4-3e1d-4581-999c-94a0c12916ce"
      },
      "execution_count": 33,
      "outputs": [
        {
          "output_type": "stream",
          "name": "stdout",
          "text": [
            "True\n"
          ]
        }
      ]
    },
    {
      "cell_type": "markdown",
      "source": [
        " 2. **Can a lambda function in Python have multiple arguments ? If yes, how can you define and use them?**\n",
        "\n",
        " Ans : They can have any number of arguments but only one expression. A lambda function cannot contain any statements, and it returns a function object which can be assigned to any variable. They are generally used for one-line expressions. But Normal functions are created using the def keyword.\n",
        "\n",
        " and yes, a lambda function in python have multiple arguments and the working code example is given in below cell."
      ],
      "metadata": {
        "id": "68xM2jfrkji2"
      }
    },
    {
      "cell_type": "code",
      "source": [
        "# Can a lambda function in pyhton have muliple arguments\n",
        "\n",
        "myStrings1_list = [\"data-Science\",\"Machine-Learning\",\"Natural Language Processing\",\"Statistics\"]\n",
        "myStrings2_list = [\"Python\",\"Powerbi\",\"Tableau\",\"Apache Spark\"]\n",
        "print(\"myStrings1:\",myStrings1_list)\n",
        "print(\"myStrings2:\",myStrings2_list)\n",
        "\n",
        "# Use lower() function\n",
        "lower_result = list(map(lambda x,y: x + ' ' + y, myStrings1_list, myStrings2_list)) #here we pass two arguments\n",
        "print(f'We are passing two arguments in this lambda function: {lower_result}')"
      ],
      "metadata": {
        "colab": {
          "base_uri": "https://localhost:8080/"
        },
        "id": "Yn9jFWvAzqaw",
        "outputId": "7ba2a85d-9631-4bd5-ac48-92b1d69aa507"
      },
      "execution_count": 20,
      "outputs": [
        {
          "output_type": "stream",
          "name": "stdout",
          "text": [
            "myStrings1: ['data-Science', 'Machine-Learning', 'Natural Language Processing', 'Statistics']\n",
            "myStrings2: ['Python', 'Powerbi', 'Tableau', 'Apache Spark']\n",
            "We are passing two arguments in this lambda function: ['data-Science Python', 'Machine-Learning Powerbi', 'Natural Language Processing Tableau', 'Statistics Apache Spark']\n"
          ]
        }
      ]
    },
    {
      "cell_type": "code",
      "source": [
        "simple_declaration_multiple_args = lambda x, y, z : x + y * z\n",
        "print(f'Here we pass three arguments in lambda function : {simple_declaration_multiple_args(10,20,30)}')"
      ],
      "metadata": {
        "colab": {
          "base_uri": "https://localhost:8080/"
        },
        "id": "owmVuj931Gd1",
        "outputId": "007ceb67-2efd-4a37-ebb8-fbd9ac3b73fb"
      },
      "execution_count": 23,
      "outputs": [
        {
          "output_type": "stream",
          "name": "stdout",
          "text": [
            "Here we pass three arguments in lambda function : 610\n"
          ]
        }
      ]
    },
    {
      "cell_type": "code",
      "source": [
        "# Create three lists with numbers\n",
        "numbers1_list = [2, 4, 5, 6, 3]\n",
        "numbers2_list = [1, 3, 2, 2, 4]\n",
        "numbers3_list = [5, 4, 3, 2, 1]\n",
        "\n",
        "add_fun = lambda x, y, z: x + y * z\n",
        "add_result = list(map(add_fun, numbers1_list, numbers2_list, numbers3_list))\n",
        "print(f'passing three arguments in this list {add_result}')"
      ],
      "metadata": {
        "colab": {
          "base_uri": "https://localhost:8080/"
        },
        "id": "lAMx5fvU2BKx",
        "outputId": "37c65e71-29d1-4fda-fcee-938f3f5606b1"
      },
      "execution_count": 28,
      "outputs": [
        {
          "output_type": "stream",
          "name": "stdout",
          "text": [
            "passing three arguments in this list [7, 16, 11, 10, 7]\n"
          ]
        }
      ]
    },
    {
      "cell_type": "code",
      "source": [
        "l1=[1,2,3,4] ##list passing\n",
        "l2=(1,2,3,4) ##tuple passing\n",
        "val=lambda *args : sum(args )\n",
        "print(val(*l1,*l2))"
      ],
      "metadata": {
        "colab": {
          "base_uri": "https://localhost:8080/"
        },
        "id": "y0tUWhkO227P",
        "outputId": "91b5a986-ecaa-4ed9-e68f-bf44897ab673"
      },
      "execution_count": 30,
      "outputs": [
        {
          "output_type": "stream",
          "name": "stdout",
          "text": [
            "20\n"
          ]
        }
      ]
    },
    {
      "cell_type": "markdown",
      "source": [
        " 3. **How are lambda functions typically used in Python? Provide an example use case.?**\n",
        "\n",
        " Ans : As per my understanding, Lambda functions are similar to user-defined functions but without a name. They're commonly referred to as anonymous functions.\n",
        "\n",
        " Lambda functions are efficient whenever you want to create a function that will only contain simple expressions and that are usually a single line of a statement. They're also useful when you want to use the function once.\n",
        "\n",
        " one note in the Lambda functions can have any number of arguments but they have only one expression. Firtsly, the expression is evaluated and then returned. We used Lambda functions wherever function objects are required.\n",
        "\n",
        " We use lambda functions once we require a nameless function for a brief period of your time.\n",
        "\n",
        " In Python, we generally use Lambda Functions as an argument to a higher-order function (a function that takes in other functions as arguments). They are used together with built in functions like **filter(), map() and reduce()**\n",
        "\n",
        " Example use case of lambda functions are given in next cell\n",
        "\n"
      ],
      "metadata": {
        "id": "MD4Y4VG-rTrE"
      }
    },
    {
      "cell_type": "markdown",
      "source": [
        "**Filter Method with lambda Example**\n",
        "\n",
        "The filter function is employed to pick some particular elements from a sequence of elements. The sequence used in this function is an iterator such as lists, sets, tuples, etc."
      ],
      "metadata": {
        "id": "vk_reJw8LRb3"
      }
    },
    {
      "cell_type": "code",
      "source": [
        "## Lambda functions use case\n",
        "#### FIRST USE CASE WITH FILTER () EXAMPLE\n",
        "sequences_list = [10,2,8,7,5,4,3,11,0, 1]\n",
        "filtered_answer = filter (lambda x: x > 6, sequences_list)\n",
        "print(f'use filter() methods {list(filtered_answer)}')\n"
      ],
      "metadata": {
        "colab": {
          "base_uri": "https://localhost:8080/"
        },
        "id": "iGPRMtL5KosJ",
        "outputId": "a4fa6bc1-89e1-4023-9d4b-f98a8f71e191"
      },
      "execution_count": 2,
      "outputs": [
        {
          "output_type": "stream",
          "name": "stdout",
          "text": [
            "use filter() methods [10, 8, 7, 11]\n"
          ]
        }
      ]
    },
    {
      "cell_type": "markdown",
      "source": [
        "**Map Method with lambda Example**\n",
        "\n",
        "The map function is employed to use a specific operation for each element in a sequence. Like filter(), it also takes 2 parameters: A function that defines how the operations to be performed on the elements. and One or more sequences."
      ],
      "metadata": {
        "id": "tHkNOHnyLi8D"
      }
    },
    {
      "cell_type": "code",
      "source": [
        "## Lambda functions use case\n",
        "#### SECOND USE CASE WITH Map () EXAMPLE\n",
        "sequences_list = [10,2,8,7,5,4,11]\n",
        "squared_result = map (lambda x: x*x, sequences_list)\n",
        "print(f'use Map() methods {list(squared_result)}')"
      ],
      "metadata": {
        "colab": {
          "base_uri": "https://localhost:8080/"
        },
        "id": "nwY8LYw9c3U5",
        "outputId": "dba2f86f-37f5-4ad7-d6c7-d7a8310c7843"
      },
      "execution_count": 4,
      "outputs": [
        {
          "output_type": "stream",
          "name": "stdout",
          "text": [
            "use Map() methods [100, 4, 64, 49, 25, 16, 121]\n"
          ]
        }
      ]
    },
    {
      "cell_type": "code",
      "source": [
        "### Lambda functions use case\n",
        "#### THIRD USE CASE WITH reduce() Example\n",
        "from functools import reduce\n",
        "sequences_list_reduce = [1,2,3,4,5,6]\n",
        "product_reduce_list = reduce (lambda x, y: x*y, sequences_list_reduce)\n",
        "print(f'use Reduce() methods {product_reduce_list}')"
      ],
      "metadata": {
        "colab": {
          "base_uri": "https://localhost:8080/"
        },
        "id": "U8KdyTouds4o",
        "outputId": "950ddddd-21e8-4037-ae07-d9d7752f4aa3"
      },
      "execution_count": 5,
      "outputs": [
        {
          "output_type": "stream",
          "name": "stdout",
          "text": [
            "use Reduce() methods 720\n"
          ]
        }
      ]
    },
    {
      "cell_type": "code",
      "source": [
        "### Lambda functions use case\n",
        "#### FOURTH USE CASE WITH if-else() Example\n",
        "Minimum_number = lambda x, y : x if (x < y) else y\n",
        "print('The Lower number is:', Minimum_number( 35, 74 ))"
      ],
      "metadata": {
        "colab": {
          "base_uri": "https://localhost:8080/"
        },
        "id": "LzmzH0YweJNp",
        "outputId": "5083c7ac-c7d4-437c-86cc-c236ee7b80d4"
      },
      "execution_count": 7,
      "outputs": [
        {
          "output_type": "stream",
          "name": "stdout",
          "text": [
            "The Lower number is: 35\n"
          ]
        }
      ]
    },
    {
      "cell_type": "code",
      "source": [
        "### Lambda functions use case\n",
        "#### Code to print the third largest number of the given list using the lambda function.\n",
        "my_List = [ [3, 5, 8, 6], [23, 54, 12, 87], [1, 2, 4, 12, 5] ]\n",
        "# sorting every sublist of the above list\n",
        "sort_List = lambda num : ( sorted(n) for n in num )\n",
        "# Getting the third largest number of the sublist\n",
        "third_Largest = lambda num, func : [ l[ len(l) - 2] for l in func(num)]\n",
        "result = third_Largest( my_List, sort_List)\n",
        "print('The third largest number from every sub list is:', result )"
      ],
      "metadata": {
        "colab": {
          "base_uri": "https://localhost:8080/"
        },
        "id": "CWOPpuXter87",
        "outputId": "0043476d-8ed2-4a0e-b9c2-9f27b792ab18"
      },
      "execution_count": 8,
      "outputs": [
        {
          "output_type": "stream",
          "name": "stdout",
          "text": [
            "The third largest number from every sub list is: [6, 54, 5]\n"
          ]
        }
      ]
    },
    {
      "cell_type": "code",
      "source": [
        "### Lambda functions use case\n",
        "discounted_price = lambda price, discount = 0.1, vat = 0.02 : price * (1 - discount) * (1 + vat)\n",
        "print(f'The discounted price is {discounted_price(1000, vat=0.04, discount=0.3)}')"
      ],
      "metadata": {
        "colab": {
          "base_uri": "https://localhost:8080/"
        },
        "id": "JIg3BlL1fh02",
        "outputId": "b0bdd02c-f003-4bf5-bced-c914f81e1318"
      },
      "execution_count": 11,
      "outputs": [
        {
          "output_type": "stream",
          "name": "stdout",
          "text": [
            "The discounted price is 728.0\n"
          ]
        }
      ]
    },
    {
      "cell_type": "code",
      "source": [
        "### Lambda functions use case\n",
        "#### Python lambda functions can also be executed within a list comprehension.\n",
        "my_list_lambda_func = [(lambda x: x * 2)(x) for x in range(10) if x % 2 == 0]\n",
        "print(f'My list for lambda function as follows {my_list_lambda_func}')"
      ],
      "metadata": {
        "colab": {
          "base_uri": "https://localhost:8080/"
        },
        "id": "5Mff-2UjgZd4",
        "outputId": "5dd1933a-4d6e-4666-c622-f3ac81b6487e"
      },
      "execution_count": 13,
      "outputs": [
        {
          "output_type": "stream",
          "name": "stdout",
          "text": [
            "My list for lambda function as follows [0, 4, 8, 12, 16]\n"
          ]
        }
      ]
    },
    {
      "cell_type": "code",
      "source": [
        "### Lambda functions use case\n",
        "strings = ['Nigeria', 'Ghana', 'Niger', 'Kenya', 'Ethiopia', 'South Africa', 'Tanzania', 'Egypt', 'Morocco', 'Uganda']\n",
        "length_of_strings = list(map(lambda x: len(x), strings))\n",
        "print(f'The length of each string is : {length_of_strings}')"
      ],
      "metadata": {
        "colab": {
          "base_uri": "https://localhost:8080/"
        },
        "id": "DLjCJPGCgsXm",
        "outputId": "37328999-d748-4d80-ab60-20ee3a3f5ea1"
      },
      "execution_count": 15,
      "outputs": [
        {
          "output_type": "stream",
          "name": "stdout",
          "text": [
            "The length of each string is : [7, 5, 5, 5, 8, 12, 8, 5, 7, 6]\n"
          ]
        }
      ]
    },
    {
      "cell_type": "markdown",
      "source": [
        "4. **What are the advantages and limitations of lambda functions compared to regular functions in Python ?**\n",
        "\n",
        "Ans:\n",
        "\n",
        "**The advantages of lambda function are given below:**\n",
        "\n",
        "Lambda helps you use a function only once, and hence, avoids cluttering up the code with function definitions. In short, Python's lambda keyword lets you define a function in a single line of code and use it immediately.\n",
        "\n",
        "A lambda function is an anonymous function (i.e., defined without a name) that can take any number of arguments but, unlike normal functions, evaluates and returns only one expression. Note that, unlike a normal function, we don't surround the parameters of a lambda function with parentheses.\n",
        "\n",
        "Lambda functions are similar to UDF ( User Defined functions) like an anonymous functions. Lambda functions are efficient whenever you want to create a function that will only contain simple expressions - that is, expression that is single line of statement with less coding.\n",
        "\n",
        "in normal functions: we can use def keyword for declaring or creating the functions. in python def defined functions are commonly used because of their simplicity. The def function must be declared in the namespace. The def functions can perform any python task including multiple conditions, nested conditions or loops of any level, printing, importing libaries and raising Exceptions.\n",
        "\n",
        "Lambda Functions: The lambda functions can be used without any declaration in the namespace. this functions defined above are like single-line functions. the functions does not have parenthesis like the def defiend functions but instead, take parameters after the lambda keyword. The lambda function is treated as anonymyous function and there is no return keyword defined explicitly but the lambda function does return an object by default."
      ],
      "metadata": {
        "id": "TXQ1mrr5hasg"
      }
    },
    {
      "cell_type": "markdown",
      "source": [
        "5. **Are lambda functions in Python able to access variables defined outside of their own scope? Explain with an example**.\n",
        "\n",
        "Ans:\n",
        "Lambda functions have their own local namespace and cannot access variables other than those in their parameter list and those in the global namespace.\n",
        "\n",
        "an coding working example are given in below cell."
      ],
      "metadata": {
        "id": "xo9xIq9U4pcW"
      }
    },
    {
      "cell_type": "code",
      "source": [
        "global midname\n",
        "midname ='Prasad'\n",
        "full_name = lambda first, last: f'Full name is: {first.title()} {midname} {last.title()} '\n",
        "full_name('Kaushik', 'Dey')\n",
        "## yes lambda function access variables defined outside of their own scope. Here midname is global namespace and just directly call inside this full_name function\n",
        "## and it is still access the outside variable inside this full_name lambda declaration."
      ],
      "metadata": {
        "colab": {
          "base_uri": "https://localhost:8080/",
          "height": 35
        },
        "id": "xuy_a02CFLyl",
        "outputId": "d189635e-e488-4749-9125-b938f09767d2"
      },
      "execution_count": 44,
      "outputs": [
        {
          "output_type": "execute_result",
          "data": {
            "text/plain": [
              "'Full name is: Kaushik Prasad Dey '"
            ],
            "application/vnd.google.colaboratory.intrinsic+json": {
              "type": "string"
            }
          },
          "metadata": {},
          "execution_count": 44
        }
      ]
    },
    {
      "cell_type": "markdown",
      "source": [
        "6. **Write a lambda function to calculate the square of a given number ?**\n",
        "\n",
        "Ans: The working example to calculate the square of a given number is given below cell."
      ],
      "metadata": {
        "id": "QLnIFkpK14Rw"
      }
    },
    {
      "cell_type": "code",
      "execution_count": null,
      "metadata": {
        "colab": {
          "base_uri": "https://localhost:8080/"
        },
        "id": "FQgHi0Yw1uY8",
        "outputId": "6fa1dfc6-17cb-4374-c074-2fb1fdca4c96"
      },
      "outputs": [
        {
          "output_type": "stream",
          "name": "stdout",
          "text": [
            "calculate the square of a given number: [4, 16, 25, 1, 9, 49, 64, 81, 100]\n"
          ]
        }
      ],
      "source": [
        "# write a lambda function to calculate the sqaure of a given number\n",
        "simple_list_input = [2, 4, 5, 1, 3, 7, 8, 9, 10]\n",
        "squared_number_list = list(map( lambda ds: ds ** 2 , simple_list_input ))\n",
        "print(f'calculate the square of a given number: {squared_number_list}' )"
      ]
    },
    {
      "cell_type": "markdown",
      "source": [
        "7. **Create a lambda function to find the maximum value in a list of integers ??**\n",
        "\n",
        "Ans : The working example to find the maximum value in a list of integers is given in below cell."
      ],
      "metadata": {
        "id": "BDDDFfzK3DaR"
      }
    },
    {
      "cell_type": "code",
      "source": [
        "# Create a lambda function to find the maximum value in a list of integers\n",
        "# First approach for using in built max function\n",
        "list_of_integers_first = [100, 17, 27, 97, 15]\n",
        "maximum_value_first_appraoch = max(list_of_integers_first)\n",
        "print(f\"First approach To find the maximum value in a list of integers is {maximum_value_first_appraoch}\")\n",
        "# Second approach for using in lambda function\n",
        "list_of_integers_second = [200, 107, 37, 49, 15,23]\n",
        "maximum_value_seconf_appraoch = max(list_of_integers_second, key=lambda x:x)\n",
        "print(f\"Second approach To find the maximum value in a list of integers is {maximum_value_seconf_appraoch}\")\n",
        "# Third approach for using in lambda function with tuple\n",
        "list = [(100,'first_value'), (300,'second_value'), (90,'fourth_value'), (50,'fifth_value')]\n",
        "print(f\"Third approach To find the maximum value in a list of integers is {max(list, key = lambda x: x[1])}\")"
      ],
      "metadata": {
        "colab": {
          "base_uri": "https://localhost:8080/"
        },
        "id": "8r9sNvDP3Xik",
        "outputId": "1c335d59-55db-4fcc-935a-a859f904fce2"
      },
      "execution_count": null,
      "outputs": [
        {
          "output_type": "stream",
          "name": "stdout",
          "text": [
            "First approach To find the maximum value in a list of integers is 100\n",
            "Second approach To find the maximum value in a list of integers is 200\n",
            "Third approach To find the maximum value in a list of integers is (300, 'second_value')\n"
          ]
        }
      ]
    },
    {
      "cell_type": "markdown",
      "source": [
        "8. **Implement a lambda function to filter out all the even numbers from a list of integers: ??**\n",
        "\n",
        "Ans : The working example to filter out all the even numbers from a list of integers is given below cell."
      ],
      "metadata": {
        "id": "PaCaKuig6KRL"
      }
    },
    {
      "cell_type": "code",
      "source": [
        "## Filter out all the even numbers from a list of integers using lambda function.\n",
        "numbers_input = [11, 22, 33, 44, 55, 66, 77, 88, 99, 100]\n",
        "even_nums = list(filter(lambda x: x%2 == 0, numbers_input))\n",
        "print(f'Filter out all the even numbers from a list of integers {even_nums}')"
      ],
      "metadata": {
        "colab": {
          "base_uri": "https://localhost:8080/"
        },
        "id": "4WZRR8G66bwY",
        "outputId": "01b7de0d-a31b-4585-808c-c5191fed7c5b"
      },
      "execution_count": null,
      "outputs": [
        {
          "output_type": "stream",
          "name": "stdout",
          "text": [
            "filter out all the even numbers from a list of integers [22, 44, 66, 88, 100]\n"
          ]
        }
      ]
    },
    {
      "cell_type": "markdown",
      "source": [
        "9. **Write a lambda function to sort a list of strings in ascending order based on the length of each string ??**\n",
        "\n",
        "Ans: To sort a list of integers in ascending order based on the length of each string are given in below cell.\n"
      ],
      "metadata": {
        "id": "l0q-t2baQw2g"
      }
    },
    {
      "cell_type": "code",
      "source": [
        "#lambda function to sort a list of strings in ascending order based on the length of each string\n",
        "input_strings =[\"b1\",\"cc2\",\"aaa3\",\"zzzz1\",\"mmmmm5\"]\n",
        "input_strings.sort(key = lambda x:len(x))\n",
        "print(f'To sort a list of integers in ascending order based on the length with first approach : {input_strings}')\n",
        "list_another = ['bb', 'a', 'ccc', 'zzzzzzzzzzz','dddd']\n",
        "list_another.sort(key = lambda x:len(x))\n",
        "print(f'To sort a list of integers in ascending order based on the length with second approach : {list_another}')"
      ],
      "metadata": {
        "colab": {
          "base_uri": "https://localhost:8080/"
        },
        "id": "VqJi-oS6RQow",
        "outputId": "857abbec-51dd-4092-ad10-96f370ee21d7"
      },
      "execution_count": null,
      "outputs": [
        {
          "output_type": "stream",
          "name": "stdout",
          "text": [
            "To sort a list of integers in ascending order based on the length with first approach : ['b1', 'cc2', 'aaa3', 'zzzz1', 'mmmmm5']\n",
            "To sort a list of integers in ascending order based on the length with second approach : ['a', 'bb', 'ccc', 'dddd', 'zzzzzzzzzzz']\n"
          ]
        }
      ]
    },
    {
      "cell_type": "markdown",
      "source": [
        "10. **Create a lambda function that takes two lists as input and returns a new list containing the common elements between the two lists ?**\n",
        "\n",
        "Ans: The working coding example for lambda function that takes two lists as input and returns a new list containing the common elements between the two lists are given in below cell."
      ],
      "metadata": {
        "id": "zgraHzuOTwME"
      }
    },
    {
      "cell_type": "code",
      "source": [
        "from functools import reduce\n",
        "def interSection(arr1,arr2):\n",
        "    result_list = list(filter(lambda x: x in arr1, arr2))\n",
        "    my_string_without_list = reduce(lambda x, y: x + ' and ' + y, result_list)\n",
        "    print (f\"Common element without list : {my_string_without_list}\")\n",
        "    print (f\"Common element with list : {result_list}\")\n",
        "\n",
        "# Driver program\n",
        "if __name__ == \"__main__\":\n",
        "  arr1 = input('Enter elements of a list separated by space ')\n",
        "  arr2 = input('Enter elements of a list separated by space ')\n",
        "  arr1_list = arr1.split()\n",
        "  arr2_list = arr2.split()\n",
        "  #print(arr1_list)\n",
        "  #print(arr2_list)\n",
        "  interSection(arr1_list,arr2_list)\n",
        "  # First user_input is : Kaushik Baban Rahul\n",
        "  # Second user_input is : Rahul Ghosh Baban"
      ],
      "metadata": {
        "colab": {
          "base_uri": "https://localhost:8080/"
        },
        "id": "-BjjqDaWadZU",
        "outputId": "5bea8c28-a0ec-40f7-925d-0ef5f256e706"
      },
      "execution_count": null,
      "outputs": [
        {
          "output_type": "stream",
          "name": "stdout",
          "text": [
            "Enter elements of a list separated by space Kaushik Baban Rahul\n",
            "Enter elements of a list separated by space Rahul Ghosh Baban\n",
            "Common element without list : Rahul and Baban\n",
            "Common element with list : ['Rahul', 'Baban']\n"
          ]
        }
      ]
    },
    {
      "cell_type": "markdown",
      "source": [
        "11. **Write a recursive function to calculate the factorial of a given positive integer ??**\n",
        "\n",
        "Ans: The working code example is given below cell."
      ],
      "metadata": {
        "id": "6XNp0lhSfU4b"
      }
    },
    {
      "cell_type": "code",
      "source": [
        "#Recursive function to calculate the factorial of a given positive integer\n",
        "# Factorial of a number using recursion\n",
        "def recurive_factorial_func(n):\n",
        "   if n == 1:\n",
        "       return n\n",
        "   else:\n",
        "       return n*recurive_factorial_func(n-1)\n",
        "\n",
        "\n",
        "if __name__ == \"__main__\":\n",
        "  num = int(input(\"provide positive integer...\"))\n",
        "  if num < 0:\n",
        "    print(f\"for the number of {num} factorial does not exist for negative numbers\")\n",
        "  elif num == 0:\n",
        "    print(\"The factorial of 0 is 1\")\n",
        "  else:\n",
        "    print(f\"The factorial of {num} is : {recurive_factorial_func(num)}\")\n"
      ],
      "metadata": {
        "colab": {
          "base_uri": "https://localhost:8080/"
        },
        "id": "tsLaQl8ZfxiZ",
        "outputId": "899fa069-9470-42ea-8b31-0c056b3d33c2"
      },
      "execution_count": null,
      "outputs": [
        {
          "output_type": "stream",
          "name": "stdout",
          "text": [
            "provide positive integer...7\n",
            "The factorial of 7 is : 5040\n"
          ]
        }
      ]
    },
    {
      "cell_type": "markdown",
      "source": [
        "12. **Implement a recursive function to compute the nth Fibonacci number ??**\n",
        "\n",
        "Ans: The working code example for a recursive function to compute the nth Fibonacci number is given below cell."
      ],
      "metadata": {
        "id": "-2FtSaM6hb60"
      }
    },
    {
      "cell_type": "code",
      "source": [
        "#Recurssion function to compute the nth Fibonacci number\n",
        "def Fibonacci_number_series(n):\n",
        "    if n<= 0:\n",
        "        print(\"Incorrect input ....\")\n",
        "    elif n == 1:\n",
        "        return 0\n",
        "    elif n == 2:\n",
        "        return 1\n",
        "    else:\n",
        "        return Fibonacci_number_series(n-1)+Fibonacci_number_series(n-2)\n",
        "\n",
        "#Driver Programme\n",
        "if __name__ == \"__main__\":\n",
        "    user_input= int(input(\"Take user input....\"))\n",
        "    print(f'Recursive function for {user_input} to compute the nth Fibonacci number is : {Fibonacci_number_series(user_input)}')"
      ],
      "metadata": {
        "colab": {
          "base_uri": "https://localhost:8080/"
        },
        "id": "RM0kMP5Niz4z",
        "outputId": "f0799a71-0547-4941-99e3-27571634993a"
      },
      "execution_count": null,
      "outputs": [
        {
          "output_type": "stream",
          "name": "stdout",
          "text": [
            "Take user input....10\n",
            "Recursive function for 10 to compute the nth Fibonacci number is : 34\n"
          ]
        }
      ]
    },
    {
      "cell_type": "markdown",
      "source": [
        "13. **Create a recursive function to find the sum of all the elements in a given list. ??**\n",
        "\n",
        "Ans : The working example for recursive function to find the sum of all the elements in a given list are given in below cell."
      ],
      "metadata": {
        "id": "Lbe7U3ZZlGFF"
      }
    },
    {
      "cell_type": "code",
      "source": [
        "#Recursive function to find the sum of all the elements in a given list.\n",
        "def find_Sum_Recursive(input_user, N):\n",
        "    if N <= 0:\n",
        "        return 0\n",
        "    else:\n",
        "        return find_Sum_Recursive(input_user, N - 1) + input_user[N - 1]\n",
        "\n",
        "#Driver Programme\n",
        "if __name__ == \"__main__\":\n",
        "     given_list = [1, 8, 3, 4, 5]\n",
        "     N_list = len(given_list)\n",
        "     ans_input_list =find_Sum_Recursive(given_list,N_list)\n",
        "     print(f'The sum of all the elements in a given list with recursive function is : {ans_input_list}')"
      ],
      "metadata": {
        "colab": {
          "base_uri": "https://localhost:8080/"
        },
        "id": "JuLunM-glcIo",
        "outputId": "4909b852-19cc-476d-9a23-e6d11d8840a5"
      },
      "execution_count": null,
      "outputs": [
        {
          "output_type": "stream",
          "name": "stdout",
          "text": [
            "The sum of all the elements in a given list with recursive function is : 21\n"
          ]
        }
      ]
    },
    {
      "cell_type": "markdown",
      "source": [
        "14. **Write a recursive function to determine whether a given string is a palindrome ??**\n",
        "\n",
        "Ans: The working coding example for a recurive function to determine whether a given string is a palindrome is given in below cell."
      ],
      "metadata": {
        "id": "TxOosC9PnFep"
      }
    },
    {
      "cell_type": "code",
      "source": [
        "#Given string is a palindrome or not.\n",
        "def isPalindrome_text(s, i):\n",
        "    if(i > len(s)/2):\n",
        "       return True\n",
        "    ans = False\n",
        "    if((s[i] is s[len(s) - i - 1]) and isPalindrome_text(s, i + 1)):\n",
        "      ans = True\n",
        "    return ans\n",
        "\n",
        "#Driver Programme\n",
        "if __name__ == \"__main__\":\n",
        "     str = \"keek\"\n",
        "     if (isPalindrome_text(str, 0)):\n",
        "         print(f\"Yes, the {str} is palindrome text\")\n",
        "     else:\n",
        "         print(f\"No, the {str} is not palindrome text\")"
      ],
      "metadata": {
        "colab": {
          "base_uri": "https://localhost:8080/"
        },
        "id": "AcLro9rxnlVT",
        "outputId": "a80ed96f-07ae-4605-d226-103410c1bec6"
      },
      "execution_count": null,
      "outputs": [
        {
          "output_type": "stream",
          "name": "stdout",
          "text": [
            "Yes, the keek is palindrome text\n"
          ]
        }
      ]
    },
    {
      "cell_type": "markdown",
      "source": [
        "15.  **Implement a recursive function to find the greatest common divisor (GCD) of two positive integers ??**\n",
        "\n",
        "Ans: The working coding example for recursive function to find the greatest common divisor (GCD) of two positive integers are given in below cell."
      ],
      "metadata": {
        "id": "pryQVYNBpTot"
      }
    },
    {
      "cell_type": "code",
      "source": [
        "#Greatest Common Divisor is given below.\n",
        "def calc_gcd_find_out(num1,num2):\n",
        "    if(num2 == 0):\n",
        "        return num1\n",
        "    else:\n",
        "        return calc_gcd_find_out(num2,num1%num2)\n",
        "\n",
        "\n",
        "#Driver Programme\n",
        "if __name__ == \"__main__\":\n",
        "    num1 = int(input(\"Enter the First Positive Integer Number is : \"))\n",
        "    num2 = int(input(\"Enter the Second Positive Integer Number is : \"))\n",
        "    result = calc_gcd_find_out(num1,num2)\n",
        "    print(f\"GCD of {num1} and {num2 } is : {result}\")"
      ],
      "metadata": {
        "colab": {
          "base_uri": "https://localhost:8080/"
        },
        "id": "XzagcpDgpvFF",
        "outputId": "42385a01-9ace-429d-ac1d-7cab4aeac0fb"
      },
      "execution_count": null,
      "outputs": [
        {
          "output_type": "stream",
          "name": "stdout",
          "text": [
            "Enter the First Positive Integer Number is : 100\n",
            "Enter the Second Positive Integer Number is : 50\n",
            "GCD of 100 and 50 is : 50\n"
          ]
        }
      ]
    }
  ]
}