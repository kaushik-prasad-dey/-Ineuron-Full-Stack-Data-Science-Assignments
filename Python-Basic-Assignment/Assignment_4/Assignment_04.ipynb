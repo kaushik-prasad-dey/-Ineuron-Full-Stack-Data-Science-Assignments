{
 "cells": [
  {
   "attachments": {},
   "cell_type": "markdown",
   "metadata": {},
   "source": [
    "What exactly is []? \n",
    "\n",
    "Ans : [] sign indicates that it is empty list item in python. we can assign any value with comma seperated inside this empty list item . in below cell one example is given."
   ]
  },
  {
   "cell_type": "code",
   "execution_count": 236,
   "metadata": {},
   "outputs": [
    {
     "name": "stdout",
     "output_type": "stream",
     "text": [
      "['FrontEnd', 'Backend', 'Data Science', 'FrontEnd', 'Cloud Computing', 'Cyber-Security']\n"
     ]
    }
   ],
   "source": [
    "#Question no 1. solutions\n",
    "# Empty list\n",
    "python_list =['FrontEnd','Backend','Data Science']\n",
    "python_list.extend(['FrontEnd','Cloud Computing'])\n",
    "python_list.append('Cyber-Security')\n",
    "print(python_list)\n",
    "# so we can say that list contain duplicate items.\n",
    "# with the help of extend keyword we can add multiple items where append can add only one item or one array items inside this list.\n"
   ]
  },
  {
   "attachments": {},
   "cell_type": "markdown",
   "metadata": {},
   "source": [
    "2. In a list of values stored in a variable called spam, how would you assign the value 'hello' as the third value? (Assume [2, 4, 6, 8, 10] are in spam.)  ?\n",
    "\n",
    "\n",
    "Ans :  spam[2]='hello' and the solution showing in below cell. list follow zero based indexing."
   ]
  },
  {
   "cell_type": "code",
   "execution_count": 237,
   "metadata": {},
   "outputs": [
    {
     "name": "stdout",
     "output_type": "stream",
     "text": [
      "original spam [2, 4, 6, 8, 10]\n",
      "after adding new item [2, 4, 'hello', 8, 10]\n"
     ]
    }
   ],
   "source": [
    "#Question no 2 solutions\n",
    "#list item container\n",
    "spam =[2,4,6,8,10]\n",
    "print(f'original spam {spam}') # normal spam list\n",
    "spam[2]='hello' # list or array indexing start from 0, so third item means 0,1,2\n",
    "print(f'after adding new item {spam}')"
   ]
  },
  {
   "attachments": {},
   "cell_type": "markdown",
   "metadata": {},
   "source": [
    "##### Let's pretend the spam includes the list ['a', 'b', 'c', 'd'] for the next three queries."
   ]
  },
  {
   "attachments": {},
   "cell_type": "markdown",
   "metadata": {},
   "source": [
    "3. What is the value of spam[int(int('3' * 2) / 11)]? \n",
    "\n",
    "Ans : 'd', please note '3' * 2 is the string '32', added to int() before divided by 11. This evaluates to 3, spam[3] is equal to d. and the solution is given below."
   ]
  },
  {
   "cell_type": "code",
   "execution_count": 238,
   "metadata": {},
   "outputs": [
    {
     "name": "stdout",
     "output_type": "stream",
     "text": [
      "The value of spam[int(int('3' * 2) / 11)] is :: d\n"
     ]
    }
   ],
   "source": [
    "#Question no 3 solutions\n",
    "spam=['a','b','c','d']\n",
    "spam = spam[int(int('3' * 2) / 11)]\n",
    "print(f\"The value of spam[int(int('3' * 2) / 11)] is :: {spam}\")"
   ]
  },
  {
   "attachments": {},
   "cell_type": "markdown",
   "metadata": {},
   "source": [
    "4. What is the value of spam[-1]?\n",
    "\n",
    "Ans : 'd' , list can support negative index, so spam[-1] returns d as per my understanding."
   ]
  },
  {
   "cell_type": "code",
   "execution_count": 239,
   "metadata": {},
   "outputs": [
    {
     "name": "stdout",
     "output_type": "stream",
     "text": [
      "The value of spam[-1] is :: d\n"
     ]
    }
   ],
   "source": [
    "# Question no 4 solutions\n",
    "spam=['a','b','c','d']\n",
    "spam = spam[-1]\n",
    "print(f\"The value of spam[-1] is :: {spam}\")\n"
   ]
  },
  {
   "attachments": {},
   "cell_type": "markdown",
   "metadata": {},
   "source": [
    "5. What is the value of spam[:2]? \n",
    "\n",
    "Ans : ['a', 'b'] , : slicing means upto 2 items , so this list contains 'a','b','c' and 'd' and :2 means first two items. that's why ['a','b'] ."
   ]
  },
  {
   "cell_type": "code",
   "execution_count": 240,
   "metadata": {},
   "outputs": [
    {
     "name": "stdout",
     "output_type": "stream",
     "text": [
      "The value of spam[:2] is :: ['a', 'b']\n"
     ]
    }
   ],
   "source": [
    "# Question no 5 solutions\n",
    "spam=['a','b','c','d']\n",
    "spam = spam[:2]\n",
    "print(f\"The value of spam[:2] is :: {spam}\")"
   ]
  },
  {
   "attachments": {},
   "cell_type": "markdown",
   "metadata": {},
   "source": [
    "##### Let's pretend bacon has the list [3.14, 'cat,' 11, 'cat,' True] for the next three questions."
   ]
  },
  {
   "attachments": {},
   "cell_type": "markdown",
   "metadata": {},
   "source": [
    "6. What is the value of bacon.index('cat')? \n",
    "\n",
    "Ans : the value of bacon.index('cat') is 1 "
   ]
  },
  {
   "cell_type": "code",
   "execution_count": 241,
   "metadata": {},
   "outputs": [
    {
     "name": "stdout",
     "output_type": "stream",
     "text": [
      "The value of bacon.index('cat') => 1\n"
     ]
    }
   ],
   "source": [
    "# Question no 6 solutions\n",
    "bacon=[3.14 ,'cat', 11, 'cat', True]\n",
    "print(f\"The value of bacon.index('cat') => {bacon.index('cat')}\")"
   ]
  },
  {
   "attachments": {},
   "cell_type": "markdown",
   "metadata": {},
   "source": [
    "7. How does bacon.append(99) change the look of the list value in bacon? \n",
    "\n",
    "Ans : bacon.append(99) change the look of the list value in bacon is [3.14, 'cat', 11, 'cat', True, 99]. "
   ]
  },
  {
   "cell_type": "code",
   "execution_count": 242,
   "metadata": {},
   "outputs": [
    {
     "name": "stdout",
     "output_type": "stream",
     "text": [
      "bacon.append(99) change the look of the list value in bacon is => [3.14, 'cat', 11, 'cat', True, 99]\n"
     ]
    }
   ],
   "source": [
    "#Question no 7 solutions\n",
    "bacon.append(99)\n",
    "print(f\"bacon.append(99) change the look of the list value in bacon is => {bacon}\")"
   ]
  },
  {
   "attachments": {},
   "cell_type": "markdown",
   "metadata": {},
   "source": [
    "8. How does bacon.remove('cat') change the look of the list in bacon?\n",
    "\n",
    "Ans : bacon.remove('cat') change the look of the list in bacon is [3.14, 11, True, 99]"
   ]
  },
  {
   "cell_type": "code",
   "execution_count": 243,
   "metadata": {},
   "outputs": [
    {
     "name": "stdout",
     "output_type": "stream",
     "text": [
      "bacon.remove('cat') change the look of the list in bacon is => [3.14, 11, 'cat', True, 99]\n"
     ]
    }
   ],
   "source": [
    "#Question no 8 solutions\n",
    "bacon.remove('cat')\n",
    "print(f\"bacon.remove('cat') change the look of the list in bacon is => {bacon}\")"
   ]
  },
  {
   "attachments": {},
   "cell_type": "markdown",
   "metadata": {},
   "source": [
    "9. What are the list concatenation and list replication operators? \n",
    "\n",
    "Ans : the list concatenation operators is '+' and the list replication operators is '*' . in below cell the solutions are given below."
   ]
  },
  {
   "cell_type": "code",
   "execution_count": 244,
   "metadata": {},
   "outputs": [
    {
     "name": "stdout",
     "output_type": "stream",
     "text": [
      "<class 'list'>\n",
      "the list concatenation operator is => ['frontEnd', 'backend', 'database', 'ML', 'DL', 'AI', False, 200, True]\n",
      "the list replication operator for list1 is => ['frontEnd', 'backend', 'database', 'frontEnd', 'backend', 'database', 'frontEnd', 'backend', 'database']\n",
      "the list replication operator for list2 is => ['ML', 'DL', 'AI', 'ML', 'DL', 'AI', 'ML', 'DL', 'AI']\n",
      "the list replication operator for list3 is => [False, 200, True, False, 200, True, False, 200, True]\n",
      "the list replication operator for all three items are => ['frontEnd', 'backend', 'database', 'ML', 'DL', 'AI', False, 200, True, 'frontEnd', 'backend', 'database', 'ML', 'DL', 'AI', False, 200, True, 'frontEnd', 'backend', 'database', 'ML', 'DL', 'AI', False, 200, True]\n"
     ]
    }
   ],
   "source": [
    "#Question no 9 solutions\n",
    "list1 = ['frontEnd','backend','database']\n",
    "list2 = ['ML','DL','AI']\n",
    "list3 =[False,200,True]\n",
    "print(type(list1+list2+list3))\n",
    "\n",
    "print(f'the list concatenation operator is => {list1+list2+list3}')\n",
    "print(f'the list replication operator for list1 is => {list1*3}')\n",
    "print(f'the list replication operator for list2 is => {list2*3}')\n",
    "print(f'the list replication operator for list3 is => {list3*3}')\n",
    "print(f'the list replication operator for all three items are => {(list1+list2+list3)*3}')"
   ]
  },
  {
   "attachments": {},
   "cell_type": "markdown",
   "metadata": {},
   "source": [
    "10. What is difference between the list methods append() and insert()? \n",
    "\n",
    "Ans : The difference between the list methods append() && insert() is that, append=>() adds an item to the end of a list, where insert()=> inserts and item in a specified position in the list.\n",
    "\n",
    "in below cell one solution is given."
   ]
  },
  {
   "cell_type": "code",
   "execution_count": 245,
   "metadata": {},
   "outputs": [
    {
     "name": "stdout",
     "output_type": "stream",
     "text": [
      "the append method adds an item to the end of a list, ['ML', 'DL', 'ANN', 'RNN', 'frontEnd']\n",
      "the insert method adds an item to the specified position in the list, ['ML', 'DL', 'ANN', 'backend', 'RNN', 'frontEnd']\n",
      "the insert method adds an item to the specified position in the list, ['ML', 'DL', 'ANN', 'backend', 'cloud-computing', 'RNN', 'frontEnd']\n"
     ]
    }
   ],
   "source": [
    "#Question no 10 solutions\n",
    "list1 = ['ML','DL','ANN','RNN']\n",
    "list1.append('frontEnd')\n",
    "print(f'the append method adds an item to the end of a list, {list1}')\n",
    "list1.insert(3,'backend')\n",
    "print(f'the insert method adds an item to the specified position in the list, {list1}')\n",
    "list1.insert(4,'cloud-computing')\n",
    "print(f'the insert method adds an item to the specified position in the list, {list1}')\n"
   ]
  },
  {
   "attachments": {},
   "cell_type": "markdown",
   "metadata": {},
   "source": [
    "11. What are the two methods for removing items from a list? \n",
    "\n",
    "Ans : the two methods for removing items from a list is remove() and pop(). in below cell the example is given below."
   ]
  },
  {
   "cell_type": "code",
   "execution_count": 246,
   "metadata": {},
   "outputs": [
    {
     "name": "stdout",
     "output_type": "stream",
     "text": [
      "['ML', 'DL', 'backend', 'RNN', 'frontEnd']\n",
      "['ML', 'backend', 'RNN', 'frontEnd']\n",
      "['backend', 'RNN', 'frontEnd']\n"
     ]
    }
   ],
   "source": [
    "#Question no 11 solutions\n",
    "list2 = ['ML', 'DL', 'ANN', 'backend', 'RNN', 'frontEnd']\n",
    "#first method name is remove() where we can add the item name to be removed.\n",
    "list2.remove('ANN')\n",
    "print(list2)\n",
    "#second method name is pop() where we can provide the index value to be removed from that particular position.\n",
    "list2.pop(1)\n",
    "print(list2)\n",
    "#third method name is del where with the help of del keyword we can delete that particular indexed item.\n",
    "del list2[0]\n",
    "print(list2)"
   ]
  },
  {
   "attachments": {},
   "cell_type": "markdown",
   "metadata": {},
   "source": [
    "12. Describe how list values and string values are identical ?\n",
    "\n",
    "Ans : from the list values and string values can say for similarity perspective is that both are in sequence manner. both can accept len() keyword and we can use for loop in both cases . but one difference is that List are mutable where String are immutable. secondly, items inside the list are different types or multiple items we can add where string only contains charecters. \n",
    "\n",
    "in below cell the example is given."
   ]
  },
  {
   "cell_type": "code",
   "execution_count": 247,
   "metadata": {},
   "outputs": [
    {
     "name": "stdout",
     "output_type": "stream",
     "text": [
      "4\n",
      "18\n",
      "==========\n",
      "ML\n",
      "DL\n",
      "FrontEnd\n",
      "Backend\n",
      "==========\n",
      "W\n",
      "e\n",
      "l\n",
      "c\n",
      "o\n",
      "m\n",
      "e\n",
      " \n",
      "t\n",
      "o\n",
      " \n",
      "i\n",
      "n\n",
      "e\n",
      "u\n",
      "r\n",
      "o\n",
      "n\n",
      "['ML', 'DL', 'FrontEnd', 'Backend', 'newValue']\n"
     ]
    },
    {
     "ename": "TypeError",
     "evalue": "'str' object does not support item assignment",
     "output_type": "error",
     "traceback": [
      "\u001b[1;31m---------------------------------------------------------------------------\u001b[0m",
      "\u001b[1;31mTypeError\u001b[0m                                 Traceback (most recent call last)",
      "Cell \u001b[1;32mIn[247], line 17\u001b[0m\n\u001b[0;32m     15\u001b[0m list1\u001b[39m.\u001b[39mappend(\u001b[39m'\u001b[39m\u001b[39mnewValue\u001b[39m\u001b[39m'\u001b[39m)\n\u001b[0;32m     16\u001b[0m \u001b[39mprint\u001b[39m(list1)\n\u001b[1;32m---> 17\u001b[0m string1[\u001b[39m0\u001b[39;49m]\u001b[39m=\u001b[39m\u001b[39m\"\u001b[39m\u001b[39mnew value\u001b[39m\u001b[39m\"\u001b[39m\n\u001b[0;32m     18\u001b[0m \u001b[39mprint\u001b[39m(string1)\n\u001b[0;32m     19\u001b[0m \u001b[39m# producing TypeError: 'str' object does not support item assignment\u001b[39;00m\n",
      "\u001b[1;31mTypeError\u001b[0m: 'str' object does not support item assignment"
     ]
    }
   ],
   "source": [
    "#Question no 11 solutions \n",
    "list1=['ML','DL','FrontEnd','Backend']\n",
    "string1 =\"Welcome to ineuron\"\n",
    "#Both can use len keyword for its size\n",
    "print(len(list1))\n",
    "print(len(string1))\n",
    "print(\"==========\")\n",
    "# Both can use for loop\n",
    "for i in list1:\n",
    "    print(i)\n",
    "print(\"==========\")\n",
    "for i in string1:\n",
    "    print(i)\n",
    "#List are mutable where strings are immutable\n",
    "list1.append('newValue')\n",
    "print(list1)\n",
    "string1[0]=\"new value\"\n",
    "print(string1)\n",
    "# producing TypeError: 'str' object does not support item assignment"
   ]
  },
  {
   "attachments": {},
   "cell_type": "markdown",
   "metadata": {},
   "source": [
    "13. What's the difference between tuples and lists?\n",
    "\n",
    "Ans : \n",
    "\n",
    "The list are following features .\n",
    "\n",
    "Python lists to store data of multiple types simultaneously.\n",
    "\n",
    "Lists are dynamic.\n",
    "\n",
    "Lists are mutable.\n",
    "\n",
    "Lists are ordered.\n",
    "\n",
    "An index is used to traverse a list.\n",
    "\n",
    "Lists are slicable.\n",
    "\n",
    "Lists help preserve data sequences and further process those sequences in other ways.\n",
    "\n",
    "\n",
    "The syntax of list is [].\n",
    "\n",
    "\n",
    "The tuple are following features\n",
    "\n",
    "\n",
    "Tuples are immutable in nature.\n",
    "\n",
    "Tuples are used to store heterogeneous and homogeneous data.\n",
    "\n",
    "An index is used to traverse a tuple.\n",
    "\n",
    "Tuples are also slicable.\n",
    "\n",
    "As tuples are immutable, they are faster than the list because they are static.\n",
    "\n",
    "\n",
    "The syntax of tuple is ().\n",
    "\n",
    "in below cell one example is given\n",
    "\n"
   ]
  },
  {
   "cell_type": "code",
   "execution_count": null,
   "metadata": {},
   "outputs": [
    {
     "name": "stdout",
     "output_type": "stream",
     "text": [
      "['ML', 'DL', 'Front']\n",
      "3\n",
      "['ML']\n",
      "<class 'list'>\n",
      "ML\n",
      "Front\n",
      "['ML', 'DL']\n",
      "['ML', 'DL', 'Front']\n",
      "===================\n",
      "('ML', 'DL', 'ANN')\n",
      "3\n",
      "('ML',)\n",
      "('frontend', [8, 4, 'backend'], (1, 2, 3))\n",
      "<class 'tuple'>\n",
      "ML\n",
      "ANN\n",
      "('ML', 'DL')\n",
      "('ML', 'DL', 'ANN')\n",
      "1\n",
      "0\n"
     ]
    }
   ],
   "source": [
    "#Question no 12 solutions\n",
    "#example of list\n",
    "listbar =[]\n",
    "listbar.extend(['ML','DL',\"Front\"])\n",
    "print(listbar)\n",
    "print(len(listbar))\n",
    "print(listbar[:1])\n",
    "print(type(listbar))\n",
    "# accessing list elements using indexing\n",
    "print(listbar[0])\n",
    "# accessing tuple elements using negative indexing\n",
    "print(listbar[-1])\n",
    "# elements 2nd to end\n",
    "print(listbar[:2])\n",
    "#prints all elements\n",
    "print(listbar[:])\n",
    "#example of tuple\n",
    "print(\"===================\")\n",
    "tuple1=(\"ML\",\"DL\",\"ANN\")\n",
    "print(tuple1)\n",
    "print(len(tuple1))\n",
    "print(tuple1[:1])\n",
    "nested_tuple = (\"frontend\", [8, 4, 'backend'], (1, 2, 3))\n",
    "print(nested_tuple)\n",
    "print(type(tuple1))\n",
    "# accessing tuple elements using indexing\n",
    "print(tuple1[0])\n",
    "# accessing tuple elements using negative indexing\n",
    "print(tuple1[-1])\n",
    "# elements 2nd to end\n",
    "print(tuple1[:2])\n",
    "#prints all elements\n",
    "print(tuple1[:])\n",
    "#Tuple Methods\n",
    "print(tuple1.count('DL'))\n",
    "print(tuple1.index('ML'))"
   ]
  },
  {
   "attachments": {},
   "cell_type": "markdown",
   "metadata": {},
   "source": [
    "14. How do you type a tuple value that only contains the integer 42?\n",
    "\n",
    "Ans : (42,) The trailing comma is must. otherwise its considered as a int by python Interpreter. in below cell the example is given"
   ]
  },
  {
   "cell_type": "code",
   "execution_count": null,
   "metadata": {},
   "outputs": [
    {
     "name": "stdout",
     "output_type": "stream",
     "text": [
      "<class 'int'>\n",
      "<class 'tuple'>\n"
     ]
    }
   ],
   "source": [
    "#Question no 14 solutions\n",
    "\n",
    "new_tup_1=(42)\n",
    "new_tup_2=(42,)\n",
    "#treated as integer\n",
    "print(type(new_tup_1))\n",
    "#treated as tuple\n",
    "print(type(new_tup_2))"
   ]
  },
  {
   "attachments": {},
   "cell_type": "markdown",
   "metadata": {},
   "source": [
    "15. How do you get a list value's tuple form? How do you get a tuple value's list form? \n",
    "\n",
    "Ans : The tuple() and list() functions are used to convert a list to tuple and vice versa. in below cell the example is given .\n"
   ]
  },
  {
   "attachments": {
    "image.png": {
     "image/png": "[encoded data removed]"
    }
   },
   "cell_type": "markdown",
   "metadata": {},
   "source": [
    "![image.png](attachment:image.png)"
   ]
  },
  {
   "attachments": {
    "image.png": {
     "image/png": "[encoded data removed]"
    }
   },
   "cell_type": "markdown",
   "metadata": {},
   "source": [
    "![image.png](attachment:image.png)"
   ]
  },
  {
   "attachments": {
    "image.png": {
     "image/png": "[encoded data removed]"
    }
   },
   "cell_type": "markdown",
   "metadata": {},
   "source": [
    "16. Variables that \"contain\" list values are not necessarily lists themselves. Instead, what do they contain? \n",
    "\n",
    "Ans : Variables will contain references to list values rather than list values themselves. But remember that for strings and integer values, variables simply contain the string or integer value.\n",
    "\n",
    "![image.png](attachment:image.png)"
   ]
  },
  {
   "attachments": {},
   "cell_type": "markdown",
   "metadata": {},
   "source": [
    "17. How do you distinguish between copy.copy() and copy.deepcopy()? \n",
    "\n",
    "Ans : The copy.copy() function will taken a shallow copy of a list, while the copy.deepcopy() function will do a deep copy of a list. That is, only copy.deepcopy() will duplicate any lists inside the list. \n",
    "\n",
    "A shallow copy constructs a new compound object and then (to the extent possible) inserts references into it to the objects found in the original.\n",
    "\n",
    "A deep copy constructs a new compound object and then, recursively, inserts copies into it of the objects found in the original."
   ]
  },
  {
   "cell_type": "code",
   "execution_count": 248,
   "metadata": {},
   "outputs": [
    {
     "name": "stdout",
     "output_type": "stream",
     "text": [
      "Using normal assignment operatings to copy:\n",
      "True\n",
      "True\n",
      "Using a shallow copy\n",
      "False\n",
      "True\n",
      "False\n",
      "False\n"
     ]
    }
   ],
   "source": [
    "import copy\n",
    "a = [1, 2, 3]\n",
    "b = [4, 5, 6]\n",
    "c = [a, b]\n",
    "# Using normal assignment operatings to copy:\n",
    "d = c\n",
    "print(\"Using normal assignment operatings to copy:\")\n",
    "print (id(c) == id(d))\n",
    "print (id(c[0]) == id(d[0]))\n",
    "\n",
    "# Using a shallow copy\n",
    "d = copy.copy(c)\n",
    "print(\"Using a shallow copy\")\n",
    "print (id(c) == id(d))  \n",
    "print (id(c[0]) == id(d[0]))\n",
    "\n",
    "#Using a deep copy\n",
    "d = copy.deepcopy(c)\n",
    "print (id(c) == id(d))          \n",
    "print (id(c[0]) == id(d[0]))   "
   ]
  }
 ],
 "metadata": {
  "kernelspec": {
   "display_name": "Python 3",
   "language": "python",
   "name": "python3"
  },
  "language_info": {
   "codemirror_mode": {
    "name": "ipython",
    "version": 3
   },
   "file_extension": ".py",
   "mimetype": "text/x-python",
   "name": "python",
   "nbconvert_exporter": "python",
   "pygments_lexer": "ipython3",
   "version": "3.11.2"
  },
  "orig_nbformat": 4
 },
 "nbformat": 4,
 "nbformat_minor": 2
}
