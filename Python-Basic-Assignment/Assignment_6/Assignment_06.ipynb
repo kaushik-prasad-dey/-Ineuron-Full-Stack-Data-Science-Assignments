{
  "nbformat": 4,
  "nbformat_minor": 0,
  "metadata": {
    "colab": {
      "provenance": []
    },
    "kernelspec": {
      "name": "python3",
      "display_name": "Python 3"
    },
    "language_info": {
      "name": "python"
    }
  },
  "cells": [
    {
      "cell_type": "markdown",
      "source": [
        "**Q1. What are keywords in python? Using the keyword library, print all the python keywords.**\n",
        "\n",
        "Ans : Python keywords are special reserved word and it has specific purpose and meaning. we cannot take any variable name with that python keyword otherwise it creates ambiguity in that programme. this keywords are always never have to import them in that code and its different from python's inbuit functionality."
      ],
      "metadata": {
        "id": "sJeQQrMH01N8"
      }
    },
    {
      "cell_type": "code",
      "source": [
        "import keyword\n",
        "print(\"Using the keyword library, print all the python keywords\")\n",
        "print(keyword.kwlist)"
      ],
      "metadata": {
        "colab": {
          "base_uri": "https://localhost:8080/"
        },
        "id": "iEGoZGMA0sBt",
        "outputId": "e2239f91-29d3-4b12-e29e-6681901bdee6"
      },
      "execution_count": null,
      "outputs": [
        {
          "output_type": "stream",
          "name": "stdout",
          "text": [
            "Using the keyword library, print all the python keywords\n",
            "['False', 'None', 'True', 'and', 'as', 'assert', 'async', 'await', 'break', 'class', 'continue', 'def', 'del', 'elif', 'else', 'except', 'finally', 'for', 'from', 'global', 'if', 'import', 'in', 'is', 'lambda', 'nonlocal', 'not', 'or', 'pass', 'raise', 'return', 'try', 'while', 'with', 'yield']\n"
          ]
        }
      ]
    },
    {
      "cell_type": "markdown",
      "source": [
        "**Q.2. What are the rules to create variables in python?**\n",
        "\n",
        "Ans: **Rules to create variables in python are given below:**\n",
        "\n",
        "1. A variable name must start with a letter or the underscore character.\n",
        "2. we can't start variable name with a number.\n",
        "3. A variable name can only contain alpha-numeric characters and underscores (A-z, 0-9, and _ )\n",
        "4. Variable names are case-sensitive (name, designation but  Name and DESIGNATION are different variables)\n",
        "\n",
        "\n"
      ],
      "metadata": {
        "id": "1bVdsspU-lVY"
      }
    },
    {
      "cell_type": "code",
      "source": [
        "#example of creating different variable names are given below.\n",
        "name = \"kaushik\"\n",
        "NAME = \"Ineuron\"\n",
        "de_si_na_ti_on = \"Data Scientist\"\n",
        "_location = \"kolkata\"\n",
        "experience_ = 12\n",
        "_Industry_ = \"IT\"\n",
        "print(name)\n",
        "print(NAME)\n",
        "print(de_si_na_ti_on)\n",
        "print(_location)\n",
        "print(experience_)\n",
        "print(_Industry_)\n",
        "print('#99=True # we can not start variable name with number')\n",
        "print('@experience=12years, we cannot start variable name with any special charecter')\n",
        "print(\"4t=56, can print invalid decimal literal\")"
      ],
      "metadata": {
        "colab": {
          "base_uri": "https://localhost:8080/"
        },
        "id": "ccLyGkiK_waa",
        "outputId": "483425ea-87a0-45b6-a653-a608fb3ab8f8"
      },
      "execution_count": null,
      "outputs": [
        {
          "output_type": "stream",
          "name": "stdout",
          "text": [
            "kaushik\n",
            "Ineuron\n",
            "Data Scientist\n",
            "kolkata\n",
            "12\n",
            "IT\n",
            "#99=True # we can not start variable name with number\n",
            "@experience=12years, we cannot start variable name with any special charecter\n",
            "4t=56, can print invalid decimal literal\n"
          ]
        }
      ]
    },
    {
      "cell_type": "markdown",
      "source": [
        "**Q.3. What are the standards and conventions followed for the nomenclature of variables in python to improve code readability and maintainability?**\n",
        "\n",
        "Ans: Coding standards are a set of guidelines to produce maintainable and scalable code.\n",
        "\n",
        "### **General rules for Naming Conventions in Python**\n",
        "1. what we should more concentrate and what we should avoid for naming conventions.\n",
        "\n",
        "a. Don't use names that look too general or wordy. Maintain a fine line between the two.\n",
        "\n",
        "b. with the naming conventions other developer should understood that what purpose you have taken this variable name.\n",
        "\n",
        "c. Don't be naive and name things like \"X\", \"Y\" or \"Z.\" Use CamelCase only when it makes sense.\n",
        "\n",
        "### **How we can declare name a Package in Python**\n",
        "1. use lowercase while naming a Package in Python.\n",
        "2. Use an underscore as a separator to join multiple words when needed and produce a logical name.\n",
        "\n",
        "### **What should be Module name**\n",
        "1. Python takes the small case alphabets and suggests that module names should also follow the suite.\n",
        "2. Like Packages, combine multiple words with an underscore to generate a meaningful module name.\n",
        "\n",
        "### **How to choose a Class name in Python**\n",
        "1. Python Class is subjected to a different naming scheme called as CapWords convention. class name is always starting with capital letters not small letters.\n",
        "\n",
        "2. Contrary to the above principle, Python has built-in classes with names in lowercase.\n",
        "\n",
        "3. Exception classes should always have trailing words as Error.\n",
        "\n",
        "### **Should name Globals differently**\n",
        "1. Global variables must all be in lowercase.\n",
        "2. The underscore should be used as a separator while forming a variable with multiple words.\n",
        "\n",
        "### **Good Instance variable name**\n",
        "1. Instance variable names should follow the lowercase convention.\n",
        "2. Have the underscore as a separator while naming a multi-word instance variable.\n",
        "3. Begin a non-public instance variable name with a single underscore.\n",
        "Use two consecutive underscores at the beginning of an instance variable.\n",
        "\n",
        "### **The Code layout**\n",
        "This carriers of Indentation, the maximum line length to be used, line breaks and blank lines, imports in python, and dunder names.\n",
        "\n",
        "### **Imports, Blank Lines and the indentations**\n",
        "The import should be in a particular sequence. At first, the standard libraries, then the third party, and at the last, the local libraries should be imported.\n",
        "\n",
        "The preferred method of indentation is spaces, the 4 spaces indentation is accepted and accurate.\n",
        "\n",
        "### **A function name should convey what it does**\n",
        "1. Function names should follow the lowercase naming convention.\n",
        "2. They should also use an underscore to separate words in a function name.\n",
        "3. An underscore should separate words in a method name.\n",
        "\n",
        "\n"
      ],
      "metadata": {
        "id": "VKr6I5htBkZf"
      }
    },
    {
      "cell_type": "code",
      "source": [
        "#some practical approaches for naming convention\n",
        "def sample_function (arg1, arg2):\n",
        "  '''\n",
        "  The document string length for a single line should be less than\n",
        "  72 characters. So that long texts should be adjusted in a single\n",
        "  window\n",
        "  '''\n",
        "  #  code has maximum lengths of 79 characters, can use backslash\n",
        "  # to break the line\n",
        "  list_of_subjects = ['Python', 'Data-Science', 'Statistics', 'R',  'Javascript']\n"
      ],
      "metadata": {
        "id": "qo6RICt7lN56"
      },
      "execution_count": null,
      "outputs": []
    },
    {
      "cell_type": "code",
      "source": [
        "# class name follows camelcase convention\n",
        "class CourseDetails:\n",
        "  def __init__(self, course_name, course_duration):\n",
        "    self.course_name = course_name\n",
        "    self.course_duration = course_duration\n",
        "  # Method name, variable names in lowercase joined with an underscore\n",
        "  def grade(self, marks_obtained):\n",
        "  # constants in capital\n",
        "    GRACE = 2\n",
        "    marks_obtained = GRACE + marks_obtained\n",
        "    if marks_obtained > 90:\n",
        "        self.student_grade = 'A'\n",
        "    elif marks_obtained > 70:\n",
        "        student_grade = 'B'\n",
        "    else:\n",
        "      student_grade = 'C'"
      ],
      "metadata": {
        "id": "aux3NEE-nPXn"
      },
      "execution_count": null,
      "outputs": []
    },
    {
      "cell_type": "markdown",
      "source": [
        "**Q.4. What will happen if a keyword is used as a variable name ?**\n",
        "\n",
        "Ans: no, we can't use a keyword as a varibale name and its also not the good practices in any programming languages. Keywords define the language's syntax rules and structure, and they cannot be used as variable names. variable names should be human readable and they are used to define the syntax and structure of the Python language.\n",
        "\n"
      ],
      "metadata": {
        "id": "cri_OU0jn1CP"
      }
    },
    {
      "cell_type": "markdown",
      "source": [
        "Ans : If you use a keyword as a variable name in Python, you will get a syntax error. Keywords in Python are reserved for specific purposes, and they cannot be used as identifiers for variables, functions, or other user-defined names.\n"
      ],
      "metadata": {
        "id": "UfOJXajDrdkc"
      }
    },
    {
      "cell_type": "code",
      "source": [
        "# we can not take keyword as variable name in python.\n",
        "#if = 20 #its not recomended\n",
        "#print(if) # producing invalid syntax\n",
        "#class =\"ineuron\" #producing invalid syntax\n",
        "#print(class) #producing invalid syntax"
      ],
      "metadata": {
        "id": "9j8vqz5Xnut_"
      },
      "execution_count": null,
      "outputs": []
    },
    {
      "cell_type": "code",
      "source": [
        "#For example, if you try to use a keyword like \"if\" as a variable name:\n",
        "while = 10  # This will result in a syntax error"
      ],
      "metadata": {
        "colab": {
          "base_uri": "https://localhost:8080/",
          "height": 141
        },
        "id": "dpwFb5V-rsX0",
        "outputId": "1a72a78e-87b3-4fbe-93f6-814885466d26"
      },
      "execution_count": 7,
      "outputs": [
        {
          "output_type": "error",
          "ename": "SyntaxError",
          "evalue": "ignored",
          "traceback": [
            "\u001b[0;36m  File \u001b[0;32m\"<ipython-input-7-c00705f86135>\"\u001b[0;36m, line \u001b[0;32m2\u001b[0m\n\u001b[0;31m    while = 10  # This will result in a syntax error\u001b[0m\n\u001b[0m          ^\u001b[0m\n\u001b[0;31mSyntaxError\u001b[0m\u001b[0;31m:\u001b[0m invalid syntax\n"
          ]
        }
      ]
    },
    {
      "cell_type": "markdown",
      "source": [
        "Python will raise a SyntaxError because \"while\" is a keyword used for conditional statements, and it cannot be redefined as a variable."
      ],
      "metadata": {
        "id": "RkO4w0Karzlg"
      }
    },
    {
      "cell_type": "markdown",
      "source": [
        "**Q.5. For what purpose def keyword is used ?**\n",
        "\n",
        "Ans: def keyword is used to create a method and it is used to create a method or function in python.\n"
      ],
      "metadata": {
        "id": "FPdnu2bGrfby"
      }
    },
    {
      "cell_type": "markdown",
      "source": [
        "In Python, the def keyword is used to define functions. Functions are blocks of reusable code that perform a specific task when called.\n",
        "Here's how you use the def keyword to define a function:"
      ],
      "metadata": {
        "id": "o6wvi80Xr_84"
      }
    },
    {
      "cell_type": "code",
      "source": [
        "#example of def keyword in python\n",
        "def hello_ineuron():\n",
        "  # Function body\n",
        "  print(\"welcome to data science...\")\n",
        "\n",
        "#call the function\n",
        "hello_ineuron()"
      ],
      "metadata": {
        "colab": {
          "base_uri": "https://localhost:8080/"
        },
        "id": "0duv9lSssZRG",
        "outputId": "0e0ae1ea-f65c-40bc-927d-067d6acce512"
      },
      "execution_count": null,
      "outputs": [
        {
          "output_type": "stream",
          "name": "stdout",
          "text": [
            "welcome to data science...\n"
          ]
        }
      ]
    },
    {
      "cell_type": "code",
      "source": [
        "#one example of def keyword in python\n",
        "def my_name_print(fname,lname):\n",
        "    # Function body\n",
        "   full_name= fname + \" \" + lname\n",
        "   # Optionally, you can return a value using the \"return\" statement\n",
        "   return full_name"
      ],
      "metadata": {
        "id": "DErfMbVMsU2h"
      },
      "execution_count": 13,
      "outputs": []
    },
    {
      "cell_type": "markdown",
      "source": [
        "**Q.6. What is the operation of this special character '\\'?**\n",
        "\n",
        "Ans : In Python strings, the backslash \"\\\" is a special character, also called the \"escape\" character. It is used in representing certain whitespace characters. Escape sequence allows you to include special charecters in a string."
      ],
      "metadata": {
        "id": "IPmL_mXxAZ6B"
      }
    },
    {
      "cell_type": "code",
      "source": [
        "# the operation of this special character '\\' is given below.\n",
        "my_str = 'bobby\\nhadz\\ncom\\n'\n",
        "print(\"only showing the charecters string\",my_str)\n",
        "print(\"showing special charecters with the string in python\",repr(my_str))"
      ],
      "metadata": {
        "id": "O-5rcVzZsoJF",
        "colab": {
          "base_uri": "https://localhost:8080/"
        },
        "outputId": "75df3752-f30b-4d95-df94-569b2668ef50"
      },
      "execution_count": null,
      "outputs": [
        {
          "output_type": "stream",
          "name": "stdout",
          "text": [
            "only showing the charecters string bobby\n",
            "hadz\n",
            "com\n",
            "\n",
            "showing special charecters with the string in python 'bobby\\nhadz\\ncom\\n'\n"
          ]
        }
      ]
    },
    {
      "cell_type": "markdown",
      "source": [
        "**Q.7. Give an example of the following conditions:**\n",
        "1. Homogeneous list\n",
        "2. Heterogeneous set\n",
        "3. Homogeneous tuple\n",
        "\n",
        "**1.Homogeneous list** means data elements will be the same data type. it is a list where the elements are restricted to a specific type. Lists are mutable sequences, typically used to store collections of homogeneous items.The Python list can be either **homogeneous** or heterogeneous.\n",
        "\n",
        "\n",
        "\n"
      ],
      "metadata": {
        "id": "pBTNU-5kCVT6"
      }
    },
    {
      "cell_type": "code",
      "source": [
        "# Homogeneous list condition\n",
        "homogenious_list = [\"data-science\",\"python coding\",\"Machine Learning\"]\n",
        "print(type(homogenious_list))\n"
      ],
      "metadata": {
        "colab": {
          "base_uri": "https://localhost:8080/"
        },
        "id": "RX7NzaleC30i",
        "outputId": "b1430bdd-c76f-4c8c-d2d5-a6a334431b88"
      },
      "execution_count": null,
      "outputs": [
        {
          "output_type": "stream",
          "name": "stdout",
          "text": [
            "<class 'list'>\n"
          ]
        }
      ]
    },
    {
      "cell_type": "markdown",
      "source": [
        "**2.Heterogeneous set** can store heterogeneous items in it. a set can store a mixture of string, integer, boolean, etc datatypes."
      ],
      "metadata": {
        "id": "LHmKMO_xF0nK"
      }
    },
    {
      "cell_type": "code",
      "source": [
        "#Heterogeneous set example\n",
        "data_science_list = {\"Data-Science\", \"Machine-Learning\", \"Python\"}\n",
        "data_science_fees = {1000, 2000, 3000}\n",
        "data_science_course_reviews = {True, True, False}\n",
        "heterogeneous_set = data_science_list.union(data_science_fees).union(data_science_course_reviews)\n",
        "print(\"when joining two list we can use .join() method but when we join two set we have to use .union()\")\n",
        "print(\"example of heterogeneous set\",heterogeneous_set)"
      ],
      "metadata": {
        "colab": {
          "base_uri": "https://localhost:8080/"
        },
        "id": "qb2T75KnGAUI",
        "outputId": "56cb87d4-6817-498c-e27a-6b415ed41757"
      },
      "execution_count": null,
      "outputs": [
        {
          "output_type": "stream",
          "name": "stdout",
          "text": [
            "when joining two list we can use .join() method but when we join two set we have to use .union()\n",
            "example of heterogeneous set {2000, False, True, 'Data-Science', 'Machine-Learning', 3000, 1000, 'Python'}\n"
          ]
        }
      ]
    },
    {
      "cell_type": "markdown",
      "source": [
        "**3.Homogeneous tuple** tuples are immutable that means we can't change its data and homogeneous tuple means same kind of data type should be assigned inside this tuple."
      ],
      "metadata": {
        "id": "gX1c7d-ZH9_y"
      }
    },
    {
      "cell_type": "code",
      "source": [
        "#Homogeneous tuple example\n",
        "homo_genious_tuple = (\"tuple1\", \"tuple2\", \"tuple3\")\n",
        "print(homo_genious_tuple)"
      ],
      "metadata": {
        "colab": {
          "base_uri": "https://localhost:8080/"
        },
        "id": "QxzhEuKFJUln",
        "outputId": "a9a41f7d-2b87-4265-98f5-57ee1157b9ed"
      },
      "execution_count": null,
      "outputs": [
        {
          "output_type": "stream",
          "name": "stdout",
          "text": [
            "('tuple1', 'tuple2', 'tuple3')\n"
          ]
        }
      ]
    },
    {
      "cell_type": "code",
      "source": [
        "#now call the driver function\n",
        "if __name__==\"__main__\":\n",
        "  print(my_name_print(\"kaushik\",\"Dey\"))"
      ],
      "metadata": {
        "colab": {
          "base_uri": "https://localhost:8080/"
        },
        "id": "6eYRj2lbsmIK",
        "outputId": "ccd25c0a-acbf-4eb4-b4ba-8c83b6e8d74a"
      },
      "execution_count": 14,
      "outputs": [
        {
          "output_type": "stream",
          "name": "stdout",
          "text": [
            "kaushik Dey\n"
          ]
        }
      ]
    },
    {
      "cell_type": "markdown",
      "source": [
        " Q.08. **Explain the mutable and immutable data types with proper explanation & examples?**\n",
        "\n",
        " Ans:\n",
        "  In programming, you have an **immutable object** if you **can't change** the object's state after you've created it. In contrast, a **mutable object** allows you to **modify its internal state after creation**.\n",
        "\n",
        "  In short, whether you're able to change an object's state or contained data is what defines if that object is mutable or immutable.\n",
        "\n",
        "  Python is a multiparadigm programming language, it provides mutable and immutable objects for you to choose from when solving a problem.\n",
        "\n",
        "  some names of **mutable objects** are given below.\n",
        "\n",
        "  A mutable object can be changed after it is created.\n",
        "  the examples of mutable objects are List, Set and Dictionary.\n",
        "\n",
        "  some names of **Immutable objects** are given below.\n",
        "\n",
        "  Ans: An immutable object cannot be changed after it is created. the example of immutable objects are tuples, int, float, bool, frozenset.\n",
        "\n"
      ],
      "metadata": {
        "id": "5eqk3RjMKYSN"
      }
    },
    {
      "cell_type": "code",
      "source": [
        "#Mutable objects example are given below\n",
        "mut_list = [1, 2, 3]\n",
        "print(\"The list in Python\",mut_list)\n",
        "mut_list[0] = 'ineuron'\n",
        "mut_list\n",
        "print(\"The list in Python after changing value\",mut_list)"
      ],
      "metadata": {
        "colab": {
          "base_uri": "https://localhost:8080/"
        },
        "id": "yxcYWr_9NluB",
        "outputId": "3461bfa1-f09e-4fe6-f6b8-739d04845b8a"
      },
      "execution_count": null,
      "outputs": [
        {
          "output_type": "stream",
          "name": "stdout",
          "text": [
            "The list in Python [1, 2, 3]\n",
            "The list in Python after changing value ['ineuron', 2, 3]\n"
          ]
        }
      ]
    },
    {
      "cell_type": "code",
      "source": [
        "#Mutable objects example are given below\n",
        "mut_list = [1, 2, 3]\n",
        "print(\"The list in Python\",mut_list)\n",
        "print(\"the id of the list is \",id(mut_list))\n",
        "mut_list[0] = 'ineuron'\n",
        "mut_list\n",
        "print(\"The mut list in Python after changing value\",mut_list)\n",
        "print(\"the id of the list is post change in value\",id(mut_list))"
      ],
      "metadata": {
        "colab": {
          "base_uri": "https://localhost:8080/"
        },
        "id": "wuGSJe2tO7Bg",
        "outputId": "b14a7c07-06fa-4a93-d34a-eda03c1c2b1f"
      },
      "execution_count": null,
      "outputs": [
        {
          "output_type": "stream",
          "name": "stdout",
          "text": [
            "The list in Python [1, 2, 3]\n",
            "the id of the list is  139865190625472\n",
            "The mut list in Python after changing value ['ineuron', 2, 3]\n",
            "the id of the list is post change in value 139865190625472\n"
          ]
        }
      ]
    },
    {
      "cell_type": "markdown",
      "source": [
        "**Immutable objects** in Python are objects wherein the instances do not change over the period. Immutable instances of a specific type, once created, we can't change, and this can be verified using the id method of Python."
      ],
      "metadata": {
        "id": "wVZ3SCSBFbk2"
      }
    },
    {
      "cell_type": "code",
      "source": [
        "#ImMutable objects example are given below\n",
        "tuples_bar=(12,11,'kaushik')\n",
        "print(\"the id of the list is \",id(tuples_bar))\n",
        "tuples_bar[3] = 10\n",
        "#from this error we can understood that tuple object does not support item assignment."
      ],
      "metadata": {
        "colab": {
          "base_uri": "https://localhost:8080/",
          "height": 235
        },
        "id": "KXs8LRWGE1qP",
        "outputId": "f226543b-a11f-4ddc-d6e9-5a21feb4b631"
      },
      "execution_count": null,
      "outputs": [
        {
          "output_type": "stream",
          "name": "stdout",
          "text": [
            "the id of the list is  139830515011456\n"
          ]
        },
        {
          "output_type": "error",
          "ename": "TypeError",
          "evalue": "ignored",
          "traceback": [
            "\u001b[0;31m---------------------------------------------------------------------------\u001b[0m",
            "\u001b[0;31mTypeError\u001b[0m                                 Traceback (most recent call last)",
            "\u001b[0;32m<ipython-input-2-6688e307b620>\u001b[0m in \u001b[0;36m<cell line: 4>\u001b[0;34m()\u001b[0m\n\u001b[1;32m      2\u001b[0m \u001b[0mtuples_bar\u001b[0m\u001b[0;34m=\u001b[0m\u001b[0;34m(\u001b[0m\u001b[0;36m12\u001b[0m\u001b[0;34m,\u001b[0m\u001b[0;36m11\u001b[0m\u001b[0;34m,\u001b[0m\u001b[0;34m'kaushik'\u001b[0m\u001b[0;34m)\u001b[0m\u001b[0;34m\u001b[0m\u001b[0;34m\u001b[0m\u001b[0m\n\u001b[1;32m      3\u001b[0m \u001b[0mprint\u001b[0m\u001b[0;34m(\u001b[0m\u001b[0;34m\"the id of the list is \"\u001b[0m\u001b[0;34m,\u001b[0m\u001b[0mid\u001b[0m\u001b[0;34m(\u001b[0m\u001b[0mtuples_bar\u001b[0m\u001b[0;34m)\u001b[0m\u001b[0;34m)\u001b[0m\u001b[0;34m\u001b[0m\u001b[0;34m\u001b[0m\u001b[0m\n\u001b[0;32m----> 4\u001b[0;31m \u001b[0mtuples_bar\u001b[0m\u001b[0;34m[\u001b[0m\u001b[0;36m3\u001b[0m\u001b[0;34m]\u001b[0m \u001b[0;34m=\u001b[0m \u001b[0;36m10\u001b[0m\u001b[0;34m\u001b[0m\u001b[0;34m\u001b[0m\u001b[0m\n\u001b[0m\u001b[1;32m      5\u001b[0m \u001b[0;31m#from this error we can understood that tuple object does not support item assignment\u001b[0m\u001b[0;34m\u001b[0m\u001b[0;34m\u001b[0m\u001b[0m\n",
            "\u001b[0;31mTypeError\u001b[0m: 'tuple' object does not support item assignment"
          ]
        }
      ]
    },
    {
      "cell_type": "markdown",
      "source": [
        "**Q.09. Write a code to create the given structure using only for loop ??**\n"
      ],
      "metadata": {
        "id": "ad3jpnHYK7vv"
      }
    },
    {
      "cell_type": "code",
      "source": [
        "def triangle(n):\n",
        "    k = n - 1\n",
        "    for i in range(0, n):\n",
        "        for j in range(0, k):\n",
        "            print(end=\" \")\n",
        "        k = k - 1\n",
        "        for j in range(0, i+1):\n",
        "            print(\"* \", end=\"\")\n",
        "        print(\"\\r\")\n",
        "\n",
        "# Driver Code\n",
        "if __name__==\"__main__\":\n",
        "    n = 5\n",
        "    triangle(n)"
      ],
      "metadata": {
        "id": "HBRUMnOCLAnb",
        "colab": {
          "base_uri": "https://localhost:8080/"
        },
        "outputId": "875636bd-f39a-4300-edc7-d6c832c1d53b"
      },
      "execution_count": 6,
      "outputs": [
        {
          "output_type": "stream",
          "name": "stdout",
          "text": [
            "    * \r\n",
            "   * * \r\n",
            "  * * * \r\n",
            " * * * * \r\n",
            "* * * * * \r\n"
          ]
        }
      ]
    },
    {
      "cell_type": "markdown",
      "source": [
        "**Q.10. Write a code to create the given structure using while loop?**"
      ],
      "metadata": {
        "id": "AGBwH8mRpahw"
      }
    },
    {
      "cell_type": "code",
      "source": [
        "def given_structure_loop():\n",
        "  num_rows = 5\n",
        "  pipes = 9\n",
        "  while num_rows > 0:\n",
        "      i = 0\n",
        "      while i < pipes:\n",
        "          print('|', end='')\n",
        "          i += 1\n",
        "      print()\n",
        "      num_rows -= 1\n",
        "      pipes -= 2"
      ],
      "metadata": {
        "id": "fjEIEK0XpnwZ"
      },
      "execution_count": 4,
      "outputs": []
    },
    {
      "cell_type": "code",
      "source": [
        "#call the driver function\n",
        "if __name__==\"__main__\":\n",
        "  #now call the loop\n",
        "  given_structure_loop()"
      ],
      "metadata": {
        "colab": {
          "base_uri": "https://localhost:8080/"
        },
        "id": "te2Ig7X-qQJZ",
        "outputId": "ade18543-2496-431c-efbe-87a7a4bdaca7"
      },
      "execution_count": 5,
      "outputs": [
        {
          "output_type": "stream",
          "name": "stdout",
          "text": [
            "|||||||||\n",
            "|||||||\n",
            "|||||\n",
            "|||\n",
            "|\n"
          ]
        }
      ]
    }
  ]
}