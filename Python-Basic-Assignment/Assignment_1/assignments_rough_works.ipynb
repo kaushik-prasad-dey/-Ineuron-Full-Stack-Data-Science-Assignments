{
 "cells": [
  {
   "cell_type": "markdown",
   "id": "d0afe1ea-cebb-4ddb-bfb8-72877f6a2921",
   "metadata": {},
   "source": [
    "### Data Types Examples"
   ]
  },
  {
   "cell_type": "markdown",
   "id": "96844b2e-75a8-4ca7-ab87-2cf6cfb772e7",
   "metadata": {},
   "source": [
    "#### Numeric Data Types"
   ]
  },
  {
   "cell_type": "code",
   "execution_count": 3,
   "id": "1c753cbf-3a7f-4e5c-b90d-1daaa757267c",
   "metadata": {},
   "outputs": [
    {
     "name": "stdout",
     "output_type": "stream",
     "text": [
      "The type of variable having value 10  is  <class 'int'>\n"
     ]
    }
   ],
   "source": [
    "#variable with integer value.\n",
    "a=10\n",
    "print(\"The type of variable having value\", a, \" is \", type(a))"
   ]
  },
  {
   "cell_type": "code",
   "execution_count": 4,
   "id": "b25d5b71-e2e0-4ca5-96d2-5103ee330aa8",
   "metadata": {},
   "outputs": [
    {
     "name": "stdout",
     "output_type": "stream",
     "text": [
      "The type of variable having value 11.2389  is  <class 'float'>\n"
     ]
    }
   ],
   "source": [
    "# variable with float value.\n",
    "b=11.2389\n",
    "print(\"The type of variable having value\", b, \" is \", type(b))"
   ]
  },
  {
   "cell_type": "code",
   "execution_count": 10,
   "id": "25419226-0d29-45f0-9a34-265c1e2ada6f",
   "metadata": {},
   "outputs": [
    {
     "name": "stdout",
     "output_type": "stream",
     "text": [
      "The type of variable having value (2000+4j)  is  <class 'complex'>\n"
     ]
    }
   ],
   "source": [
    "# variable with complex value.\n",
    "c=2000+4j\n",
    "print(\"The type of variable having value\", c, \" is \", type(c))"
   ]
  },
  {
   "cell_type": "markdown",
   "id": "f7265a1d-4252-49a5-8490-90a24067006a",
   "metadata": {},
   "source": [
    "### String Data Types"
   ]
  },
  {
   "cell_type": "code",
   "execution_count": 13,
   "id": "000d1df2-6439-44c8-9440-eb6a747b345a",
   "metadata": {},
   "outputs": [
    {
     "name": "stdout",
     "output_type": "stream",
     "text": [
      "The value of a is  kaushik-dey and it is <class 'str'>\n"
     ]
    }
   ],
   "source": [
    "# Assigning a string to a variable is done with the variable name followed by an equal sign and the string:\n",
    "# single string\n",
    "a = \"kaushik-dey\"\n",
    "print(\"The value of a is \", a, \"and it is\", type(a) )"
   ]
  },
  {
   "cell_type": "code",
   "execution_count": 18,
   "id": "bef16610-7ad6-45db-8483-9e32897a956e",
   "metadata": {},
   "outputs": [
    {
     "name": "stdout",
     "output_type": "stream",
     "text": [
      "The value of a is  in ineuron learning full stack,\n",
      "data science course with hands on examples,\n",
      "4 live classes are done with starting python module\n",
      "5 assignments given to us to check our knowledge. and it is <class 'str'>\n"
     ]
    }
   ],
   "source": [
    "# You can assign a multiline string to a variable by using three quotes:\n",
    "# Multi line string  \n",
    "multi_string = \"\"\"in ineuron learning full stack,\n",
    "data science course with hands on examples,\n",
    "4 live classes are done with starting python module\n",
    "5 assignments given to us to check our knowledge.\"\"\"\n",
    "print(\"The value of a is \", multi_string, \"and it is\", type(multi_string) )"
   ]
  },
  {
   "cell_type": "code",
   "execution_count": 26,
   "id": "914f368a-87d4-4de0-a06e-a32bd782db28",
   "metadata": {},
   "outputs": [
    {
     "name": "stdout",
     "output_type": "stream",
     "text": [
      "The value of a is  I'm learning Python.\n",
      "I refer to ineuron.\n",
      "It is the most popular course for Python programmers.\n",
      " and it is <class 'str'>\n"
     ]
    }
   ],
   "source": [
    "# You can assign a multiline string to a variable by using three quotes:\n",
    "# New line string  \n",
    "new_line_str = \"I'm learning Python.\\nI refer to ineuron.\\nIt is the most popular course for Python programmers.\\n\"\n",
    "print(\"The value of a is \", new_line_str, \"and it is\", type(new_line_str) )"
   ]
  },
  {
   "cell_type": "markdown",
   "id": "4da7d468-4c36-4ca9-9e23-25dd3a37bfc2",
   "metadata": {},
   "source": [
    "### Slicing Strings"
   ]
  },
  {
   "cell_type": "code",
   "execution_count": 29,
   "id": "764fa7ec-bb73-4d57-9bfa-0d25339199e7",
   "metadata": {},
   "outputs": [
    {
     "name": "stdout",
     "output_type": "stream",
     "text": [
      "llo\n",
      "Hello\n",
      "llo, Kaushik!\n",
      "shi\n"
     ]
    }
   ],
   "source": [
    "# slicing string\n",
    "slicing_string = \"Hello, Kaushik!\"\n",
    "print(slicing_string[2:5])\n",
    "# slicing from the start\n",
    "slice_from_start = \"Hello, Kaushik!\"\n",
    "print(slice_from_start[:5])\n",
    "# slice to end\n",
    "slice_to_end = \"Hello, Kaushik!\"\n",
    "print(slice_to_end[2:])\n",
    "# negative indexing\n",
    "negative_indexing = \"Hello, Kaushik!\"\n",
    "print(negative_indexing[-5:-2])"
   ]
  },
  {
   "cell_type": "markdown",
   "id": "90f10633-b3d2-475e-8fc0-5ce5b01f4ba8",
   "metadata": {},
   "source": [
    "### Modifying Strings"
   ]
  },
  {
   "cell_type": "code",
   "execution_count": 45,
   "id": "7596319a-c1e8-4574-b04c-144532e91722",
   "metadata": {},
   "outputs": [
    {
     "name": "stdout",
     "output_type": "stream",
     "text": [
      "HELLO, KAUSHIK!\n",
      "hello, kaushik!\n",
      "Hello, Kaushik!\n",
      "Welcome, Ineuron!\n",
      "['Data Science course', ' Learning Data Science']\n"
     ]
    }
   ],
   "source": [
    "# Modifying strings\n",
    "# string upper\n",
    "string_upper = \"Hello, Kaushik!\"\n",
    "print(string_upper.upper())\n",
    "# string lower\n",
    "string_lower = \"Hello, Kaushik!\"\n",
    "print(string_lower.lower())\n",
    "# remove whitespace\n",
    "string_strip = \" Hello, Kaushik! \"\n",
    "print(string_strip.strip())\n",
    "# replacing strings\n",
    "string_replace = \"Helcome, Ineuron!\"\n",
    "print(string_replace.replace(\"H\", \"W\"))\n",
    "# spliting strings\n",
    "string_split = \"Data Science course, Learning Data Science\"\n",
    "print(string_split.split(','))"
   ]
  },
  {
   "cell_type": "code",
   "execution_count": 47,
   "id": "8f9f5cf7-2816-46bd-9c31-eb3c68327ac9",
   "metadata": {},
   "outputs": [
    {
     "name": "stdout",
     "output_type": "stream",
     "text": [
      "Welcome to Ineuron\n"
     ]
    }
   ],
   "source": [
    "### Concat strings\n",
    "string_a = \"Welcome to \"\n",
    "string_b = \"Ineuron\"\n",
    "final_result = string_a + string_b\n",
    "print(final_result)"
   ]
  },
  {
   "cell_type": "code",
   "execution_count": 49,
   "id": "0f0dee0e-9ff1-4f2d-8bf4-0e375c6000ba",
   "metadata": {},
   "outputs": [
    {
     "name": "stdout",
     "output_type": "stream",
     "text": [
      "Full Stack Data Science Course, and the course fees are Rs. 20000\n"
     ]
    }
   ],
   "source": [
    "### String Format\n",
    "course_fees = 20000\n",
    "course_name = \"Full Stack Data Science Course, and the course fees are Rs. {}\"\n",
    "print(course_name.format(course_fees))"
   ]
  },
  {
   "cell_type": "code",
   "execution_count": 50,
   "id": "b05a6c0e-4648-4c8c-aff1-07d337b0007c",
   "metadata": {},
   "outputs": [
    {
     "name": "stdout",
     "output_type": "stream",
     "text": [
      "['FrontEnd', 'Backend', 'DataScience']\n"
     ]
    }
   ],
   "source": [
    "### Create a list\n",
    "custom_list = [\"FrontEnd\", \"Backend\", \"DataScience\"]\n",
    "print(custom_list)"
   ]
  },
  {
   "cell_type": "code",
   "execution_count": 51,
   "id": "9efa94b7-bb7c-406f-aa77-0747e53d106b",
   "metadata": {},
   "outputs": [
    {
     "name": "stdout",
     "output_type": "stream",
     "text": [
      "['apple', 'banana', 'cherry', 'apple', 'cherry']\n"
     ]
    }
   ],
   "source": [
    "# Allow duplicate\n",
    "duplicate_list = [\"apple\", \"banana\", \"cherry\", \"apple\", \"cherry\"]\n",
    "print(duplicate_list)\n"
   ]
  },
  {
   "cell_type": "code",
   "execution_count": 52,
   "id": "5c0f3e60-ae75-4ad6-ade7-5f7e8bb6f7e0",
   "metadata": {},
   "outputs": [
    {
     "name": "stdout",
     "output_type": "stream",
     "text": [
      "3\n"
     ]
    }
   ],
   "source": [
    "# get the size of list\n",
    "length_list = [\"FrontEnd\", \"Backend\", \"DataScience\"]\n",
    "print(len(length_list))"
   ]
  },
  {
   "cell_type": "code",
   "execution_count": 53,
   "id": "e5eaf1f5-553d-4f93-98b3-64823025a94b",
   "metadata": {},
   "outputs": [
    {
     "name": "stdout",
     "output_type": "stream",
     "text": [
      "['FrontEnd', 'Backend', 'DataScience']\n",
      "['FrontEnd', 'Backend', 'DataScience', 'BlockChain']\n"
     ]
    }
   ],
   "source": [
    "### Original list items\n",
    "original_list = [\"FrontEnd\", \"Backend\", \"DataScience\"]\n",
    "print(original_list)\n",
    "# Append new items in that list\n",
    "original_list.append(\"BlockChain\")\n",
    "print(original_list)"
   ]
  },
  {
   "cell_type": "code",
   "execution_count": 63,
   "id": "e978f2c8-1c4d-435c-b5f7-3d40ccd41a1b",
   "metadata": {},
   "outputs": [
    {
     "name": "stdout",
     "output_type": "stream",
     "text": [
      "['apple', 'banana', 'cherry', 1, 5, 7, 9, 3, True, False, False]\n"
     ]
    }
   ],
   "source": [
    "# it can contain different data type\n",
    "list1 = [\"apple\", \"banana\", \"cherry\"]\n",
    "list2 = [1, 5, 7, 9, 3]\n",
    "list3 = [True, False, False]\n",
    "list4 = list1 + list2 + list3\n",
    "print(list4)"
   ]
  },
  {
   "cell_type": "code",
   "execution_count": 73,
   "id": "77893ecd-dd04-4644-8e30-f0df3fb46b13",
   "metadata": {},
   "outputs": [
    {
     "name": "stdout",
     "output_type": "stream",
     "text": [
      "apple\n",
      "banana\n",
      "cherry\n"
     ]
    }
   ],
   "source": [
    "### we can also for loop the list\n",
    "for_loop_items = [\"apple\", \"banana\", \"cherry\"]\n",
    "for i in range(len(for_loop_items)):\n",
    "    print(for_loop_items[i])"
   ]
  },
  {
   "cell_type": "code",
   "execution_count": 74,
   "id": "eb5c6d3c-c3b7-433a-9cd1-d18125877af5",
   "metadata": {},
   "outputs": [
    {
     "name": "stdout",
     "output_type": "stream",
     "text": [
      "<class 'list'>\n"
     ]
    }
   ],
   "source": [
    "# From Python's perspective, lists are defined as objects with the data type 'list':\n",
    "mylist_type = [\"apple\", \"banana\", \"cherry\"]\n",
    "print(type(mylist_type))"
   ]
  },
  {
   "cell_type": "code",
   "execution_count": 75,
   "id": "694d0e96-9334-4958-a678-cbe025076e5d",
   "metadata": {},
   "outputs": [
    {
     "name": "stdout",
     "output_type": "stream",
     "text": [
      "Backend\n"
     ]
    }
   ],
   "source": [
    "# access the list items\n",
    "thislist = [\"FrontEnd\", \"Backend\", \"DataScience\"]\n",
    "# list index are starting from 0\n",
    "print(thislist[1])"
   ]
  },
  {
   "cell_type": "code",
   "execution_count": 76,
   "id": "f5dbab23-66f0-4b54-a62a-6e0efc94ad46",
   "metadata": {},
   "outputs": [
    {
     "name": "stdout",
     "output_type": "stream",
     "text": [
      "DataScience\n"
     ]
    }
   ],
   "source": [
    "# print the last items\n",
    "thislist = [\"FrontEnd\", \"Backend\", \"DataScience\"]\n",
    "print(thislist[-1])"
   ]
  },
  {
   "cell_type": "code",
   "execution_count": 77,
   "id": "7030674e-5b3d-4a6c-ac4d-0c7d2808df71",
   "metadata": {},
   "outputs": [
    {
     "name": "stdout",
     "output_type": "stream",
     "text": [
      "['FrontEnd', 'DataScience']\n"
     ]
    }
   ],
   "source": [
    "# remove list items\n",
    "thislist = [\"FrontEnd\", \"Backend\", \"DataScience\"]\n",
    "thislist.remove(\"Backend\")\n",
    "print(thislist)"
   ]
  },
  {
   "cell_type": "code",
   "execution_count": 79,
   "id": "90c77c35-1067-451b-b3f3-274230c385e2",
   "metadata": {},
   "outputs": [
    {
     "name": "stdout",
     "output_type": "stream",
     "text": [
      "['FrontEnd', 'Backend']\n"
     ]
    }
   ],
   "source": [
    "# pop methond removes specific index\n",
    "thislist = [\"FrontEnd\", \"Backend\", \"DataScience\"]\n",
    "thislist.pop(2)\n",
    "print(thislist)"
   ]
  },
  {
   "cell_type": "code",
   "execution_count": 80,
   "id": "d5ea4118-c6b9-4488-a8c3-a9b9b11bc518",
   "metadata": {},
   "outputs": [
    {
     "name": "stdout",
     "output_type": "stream",
     "text": [
      "['banana', 'kiwi', 'mango', 'orange', 'pineapple']\n"
     ]
    }
   ],
   "source": [
    "# sort the list items\n",
    "sort_list = [\"orange\", \"mango\", \"kiwi\", \"pineapple\", \"banana\"]\n",
    "sort_list.sort()\n",
    "print(sort_list)"
   ]
  },
  {
   "cell_type": "code",
   "execution_count": 83,
   "id": "50607410-5924-4b13-ba92-f28f501e49d8",
   "metadata": {},
   "outputs": [
    {
     "name": "stdout",
     "output_type": "stream",
     "text": [
      "['FrontEnd', 'Backend', 'DataScience', 'BlockChain', 1, 2, 3]\n"
     ]
    }
   ],
   "source": [
    "#join the list items\n",
    "course_list = [\"FrontEnd\", \"Backend\" , \"DataScience\",\"BlockChain\"]\n",
    "list2 = [1, 2, 3]\n",
    "\n",
    "for x in list2:\n",
    "  course_list.append(x)\n",
    "\n",
    "print(course_list)"
   ]
  },
  {
   "cell_type": "code",
   "execution_count": 84,
   "id": "af43df67-f1d6-4d86-8c11-c3df2ec69b65",
   "metadata": {},
   "outputs": [
    {
     "name": "stdout",
     "output_type": "stream",
     "text": [
      "['a', 'b', 'c', 1, 2, 3]\n"
     ]
    }
   ],
   "source": [
    "#we can also extend the list\n",
    "list1 = [\"a\", \"b\" , \"c\"]\n",
    "list2 = [1, 2, 3]\n",
    "list1.extend(list2)\n",
    "print(list1)"
   ]
  },
  {
   "cell_type": "markdown",
   "id": "1116c692-0895-4423-af7c-052910fda958",
   "metadata": {},
   "source": [
    "### Expression "
   ]
  },
  {
   "cell_type": "code",
   "execution_count": 85,
   "id": "b86a3f03-662e-49d4-adac-ce0a6f5850c2",
   "metadata": {},
   "outputs": [
    {
     "name": "stdout",
     "output_type": "stream",
     "text": [
      "22.3\n"
     ]
    }
   ],
   "source": [
    "# constant expression\n",
    "x = 20 + 2.3\n",
    "print(x)"
   ]
  },
  {
   "cell_type": "code",
   "execution_count": 86,
   "id": "df5e1e18-ae40-4269-8504-f467301cd774",
   "metadata": {},
   "outputs": [
    {
     "name": "stdout",
     "output_type": "stream",
     "text": [
      "70\n",
      "30\n",
      "1000\n",
      "2.5\n"
     ]
    }
   ],
   "source": [
    "### airthmatic expression\n",
    "x = 50\n",
    "y = 20\n",
    "  \n",
    "add = x + y\n",
    "sub = x - y\n",
    "pro = x * y\n",
    "div = x / y\n",
    "  \n",
    "print(add)\n",
    "print(sub)\n",
    "print(pro)\n",
    "print(div)"
   ]
  },
  {
   "cell_type": "code",
   "execution_count": 87,
   "id": "dfa5db27-cf0d-4e73-95f1-8d70f984aff0",
   "metadata": {},
   "outputs": [
    {
     "name": "stdout",
     "output_type": "stream",
     "text": [
      "Integral Expresion 25\n"
     ]
    }
   ],
   "source": [
    "# Integral Expressions\n",
    "a = 13\n",
    "b = 12.0\n",
    "c = a + int(b)\n",
    "print(\"Integral Expresion\",c )"
   ]
  },
  {
   "cell_type": "code",
   "execution_count": 88,
   "id": "2d152a2e-f3aa-4f3c-b442-1ef8b1d436fc",
   "metadata": {},
   "outputs": [
    {
     "name": "stdout",
     "output_type": "stream",
     "text": [
      "2.6\n"
     ]
    }
   ],
   "source": [
    "# Floating Expressions\n",
    "a = 13\n",
    "b = 5\n",
    "\n",
    "c = a / b\n",
    "print(c)"
   ]
  },
  {
   "cell_type": "code",
   "execution_count": 89,
   "id": "7a085420-7865-4475-a8a1-3b1702ad7d50",
   "metadata": {},
   "outputs": [
    {
     "name": "stdout",
     "output_type": "stream",
     "text": [
      "True\n"
     ]
    }
   ],
   "source": [
    "# Relational Expressions\n",
    "a = 21\n",
    "b = 13\n",
    "c = 40\n",
    "d = 37\n",
    "\n",
    "p = (a + b) >= (c - d)\n",
    "print(p)"
   ]
  },
  {
   "cell_type": "code",
   "execution_count": 90,
   "id": "ccc1a3c3-b344-44c3-9f88-502ef3e4dff2",
   "metadata": {},
   "outputs": [
    {
     "name": "stdout",
     "output_type": "stream",
     "text": [
      "False\n",
      "True\n",
      "True\n"
     ]
    }
   ],
   "source": [
    "P = (10 == 9)\n",
    "Q = (7 > 5)\n",
    "# Logical Expressions\n",
    "R = P and Q\n",
    "S = P or Q\n",
    "T = not P\n",
    "\n",
    "print(R)\n",
    "print(S)\n",
    "print(T)"
   ]
  },
  {
   "cell_type": "code",
   "execution_count": 91,
   "id": "6e4a1e4d-711e-48bb-bfc3-7f775153d6be",
   "metadata": {},
   "outputs": [
    {
     "name": "stdout",
     "output_type": "stream",
     "text": [
      "22\n"
     ]
    }
   ],
   "source": [
    "# Combinational Expressions\n",
    "a = 16\n",
    "b = 12\n",
    "c = a + (b >> 1)\n",
    "print(c)"
   ]
  },
  {
   "cell_type": "code",
   "execution_count": 92,
   "id": "ec05063a-71d2-4cca-b35d-8c849ee2deab",
   "metadata": {},
   "outputs": [
    {
     "name": "stdout",
     "output_type": "stream",
     "text": [
      "22\n"
     ]
    }
   ],
   "source": [
    "# After running the following code, what does the variable bacon contain?\n",
    "bacon = 22\n",
    "bacon + 1\n",
    "print(bacon)"
   ]
  },
  {
   "cell_type": "code",
   "execution_count": 93,
   "id": "0303b481-59dc-4e93-be58-56d5de97cad9",
   "metadata": {},
   "outputs": [
    {
     "data": {
      "text/plain": [
       "'spamspamspam'"
      ]
     },
     "execution_count": 93,
     "metadata": {},
     "output_type": "execute_result"
    }
   ],
   "source": [
    "'spam' + 'spamspam'\n",
    "'spam' * 3"
   ]
  },
  {
   "cell_type": "code",
   "execution_count": 98,
   "id": "067f96a5-5dc0-4d66-b780-7b4a2f7af3cc",
   "metadata": {},
   "outputs": [
    {
     "ename": "TypeError",
     "evalue": "can only concatenate str (not \"int\") to str",
     "output_type": "error",
     "traceback": [
      "\u001b[0;31m---------------------------------------------------------------------------\u001b[0m",
      "\u001b[0;31mTypeError\u001b[0m                                 Traceback (most recent call last)",
      "Cell \u001b[0;32mIn [98], line 2\u001b[0m\n\u001b[1;32m      1\u001b[0m \u001b[38;5;66;03m# typeError in python\u001b[39;00m\n\u001b[0;32m----> 2\u001b[0m vv \u001b[38;5;241m=\u001b[39m \u001b[38;5;124;43m'\u001b[39;49m\u001b[38;5;124;43mI have eaten \u001b[39;49m\u001b[38;5;124;43m'\u001b[39;49m\u001b[43m \u001b[49m\u001b[38;5;241;43m+\u001b[39;49m\u001b[43m \u001b[49m\u001b[38;5;241;43m99\u001b[39;49m \u001b[38;5;241m+\u001b[39m \u001b[38;5;124m'\u001b[39m\u001b[38;5;124m burritos.\u001b[39m\u001b[38;5;124m'\u001b[39m\n\u001b[1;32m      3\u001b[0m vv\n",
      "\u001b[0;31mTypeError\u001b[0m: can only concatenate str (not \"int\") to str"
     ]
    }
   ],
   "source": [
    "# typeError in python\n",
    "vv = 'I have eaten ' + 99 + ' burritos.'\n",
    "vv"
   ]
  },
  {
   "cell_type": "code",
   "execution_count": null,
   "id": "8f379813-48d4-409f-835f-06613d9a6019",
   "metadata": {},
   "outputs": [],
   "source": [
    "# to fix the error\n",
    "vv = 'I have eaten ' + str(99) + ' burritos.'\n",
    "vv"
   ]
  },
  {
   "cell_type": "markdown",
   "id": "74710e6a-2e7d-4690-aefe-864a925f1e3e",
   "metadata": {},
   "source": [
    "### Strings & Variables"
   ]
  },
  {
   "cell_type": "code",
   "execution_count": 22,
   "id": "849c0a1c-6c1a-4f15-ac9c-6f5bfc8d8f1a",
   "metadata": {},
   "outputs": [
    {
     "ename": "SyntaxError",
     "evalue": "invalid decimal literal (2588137167.py, line 2)",
     "output_type": "error",
     "traceback": [
      "\u001b[0;36m  Cell \u001b[0;32mIn [22], line 2\u001b[0;36m\u001b[0m\n\u001b[0;31m    90p=90\u001b[0m\n\u001b[0m     ^\u001b[0m\n\u001b[0;31mSyntaxError\u001b[0m\u001b[0;31m:\u001b[0m invalid decimal literal\n"
     ]
    }
   ],
   "source": [
    "# cant start with number while assigning any value to variable\n",
    "90p=90\n",
    "90p"
   ]
  },
  {
   "cell_type": "code",
   "execution_count": 24,
   "id": "1e4f6167-ed69-4395-8d4b-684dcf6514a6",
   "metadata": {},
   "outputs": [
    {
     "ename": "SyntaxError",
     "evalue": "invalid syntax. Maybe you meant '==' or ':=' instead of '='? (2147526880.py, line 1)",
     "output_type": "error",
     "traceback": [
      "\u001b[0;36m  Cell \u001b[0;32mIn [24], line 1\u001b[0;36m\u001b[0m\n\u001b[0;31m    @pokl89 = \"hello new course\"\u001b[0m\n\u001b[0m     ^\u001b[0m\n\u001b[0;31mSyntaxError\u001b[0m\u001b[0;31m:\u001b[0m invalid syntax. Maybe you meant '==' or ':=' instead of '='?\n"
     ]
    }
   ],
   "source": [
    "@pokl89 = \"hello new course\"\n",
    "print(@pokl89)"
   ]
  },
  {
   "cell_type": "code",
   "execution_count": 8,
   "id": "6a06e034-4f47-4b3d-9193-46a55510878e",
   "metadata": {},
   "outputs": [
    {
     "name": "stdout",
     "output_type": "stream",
     "text": [
      "the true data types are True and its class is  <class 'bool'> and its numeric values 1\n",
      "the true data types are False and its class is  <class 'bool'> and its numeric values 0\n"
     ]
    }
   ],
   "source": [
    "# how to write the boolean values in python\n",
    "bool_a=True\n",
    "print(\"the true data types are\", bool_a ,'and its class is ',type(bool_a) , 'and its numeric values', int(bool_a))\n",
    "bool_b=False\n",
    "print(\"the true data types are\", bool_b ,'and its class is ',type(bool_b),'and its numeric values', int(bool_b))"
   ]
  },
  {
   "cell_type": "code",
   "execution_count": 10,
   "id": "38657085-d988-4804-9b1c-95c226f48d64",
   "metadata": {},
   "outputs": [
    {
     "name": "stdout",
     "output_type": "stream",
     "text": [
      "x == y: False\n",
      "x != y: True\n",
      "x < y: True\n",
      "x > y: False\n",
      "x <= y: True\n",
      "x >= y: False\n"
     ]
    }
   ],
   "source": [
    "x = 5\n",
    "y = 8\n",
    "print(\"x == y:\", x == y)\n",
    "print(\"x != y:\", x != y)\n",
    "print(\"x < y:\", x < y)\n",
    "print(\"x > y:\", x > y)\n",
    "print(\"x <= y:\", x <= y)\n",
    "print(\"x >= y:\", x >= y)"
   ]
  },
  {
   "cell_type": "code",
   "execution_count": 12,
   "id": "7889eb6a-7d8b-48f8-a44f-dac0e1b731b7",
   "metadata": {},
   "outputs": [
    {
     "name": "stdout",
     "output_type": "stream",
     "text": [
      "x == y: False\n"
     ]
    }
   ],
   "source": [
    "#comparison operator\n",
    "x = 5\n",
    "y = 8\n",
    "print(\"x == y:\", x == y)"
   ]
  },
  {
   "cell_type": "code",
   "execution_count": 13,
   "id": "5778949a-7ca0-4b19-9c7a-3951f5e03d29",
   "metadata": {},
   "outputs": [
    {
     "name": "stdout",
     "output_type": "stream",
     "text": [
      "True\n"
     ]
    }
   ],
   "source": [
    "#Logical Operators \n",
    "print((9 > 7) and (2 < 4))"
   ]
  },
  {
   "cell_type": "code",
   "execution_count": 14,
   "id": "97f13c17-fd3c-4676-9ae3-2a45688e4dd9",
   "metadata": {},
   "outputs": [
    {
     "name": "stdout",
     "output_type": "stream",
     "text": [
      "True\n"
     ]
    }
   ],
   "source": [
    "#Logical Operators\n",
    "print((8 == 8) or (6 != 6))"
   ]
  },
  {
   "cell_type": "code",
   "execution_count": 15,
   "id": "36e1cf81-e2cc-478b-aa88-f6889928d631",
   "metadata": {},
   "outputs": [
    {
     "name": "stdout",
     "output_type": "stream",
     "text": [
      "True\n"
     ]
    }
   ],
   "source": [
    "#Logical Operators\n",
    "print(not(3 <= 1))"
   ]
  },
  {
   "cell_type": "code",
   "execution_count": 16,
   "id": "f9539c19-beb0-4da5-9c8e-49178e1db659",
   "metadata": {},
   "outputs": [
    {
     "data": {
      "text/plain": [
       "False"
      ]
     },
     "execution_count": 16,
     "metadata": {},
     "output_type": "execute_result"
    }
   ],
   "source": [
    "#expression 1\n",
    "(5 > 4) and (3 == 5)"
   ]
  },
  {
   "cell_type": "code",
   "execution_count": 17,
   "id": "f8ba383b-3c3f-4f78-acd1-218b071c6109",
   "metadata": {},
   "outputs": [
    {
     "data": {
      "text/plain": [
       "False"
      ]
     },
     "execution_count": 17,
     "metadata": {},
     "output_type": "execute_result"
    }
   ],
   "source": [
    "#expression 2\n",
    "not (5 > 4)"
   ]
  },
  {
   "cell_type": "code",
   "execution_count": 18,
   "id": "c5560e95-20c6-4785-a717-3598ea120637",
   "metadata": {},
   "outputs": [
    {
     "data": {
      "text/plain": [
       "True"
      ]
     },
     "execution_count": 18,
     "metadata": {},
     "output_type": "execute_result"
    }
   ],
   "source": [
    "#expression 3\n",
    "(5 > 4) or (3 == 5)"
   ]
  },
  {
   "cell_type": "code",
   "execution_count": 19,
   "id": "e88249dd-2676-43ac-a050-d7021de31faf",
   "metadata": {},
   "outputs": [
    {
     "data": {
      "text/plain": [
       "False"
      ]
     },
     "execution_count": 19,
     "metadata": {},
     "output_type": "execute_result"
    }
   ],
   "source": [
    "#expression 4\n",
    "not ((5 > 4) or (3 == 5))"
   ]
  },
  {
   "cell_type": "code",
   "execution_count": 20,
   "id": "73091157-70c2-4d3d-920f-d7de3bb921e7",
   "metadata": {},
   "outputs": [
    {
     "data": {
      "text/plain": [
       "False"
      ]
     },
     "execution_count": 20,
     "metadata": {},
     "output_type": "execute_result"
    }
   ],
   "source": [
    "#expression 5\n",
    "(True and True) and (True == False)"
   ]
  },
  {
   "cell_type": "code",
   "execution_count": 21,
   "id": "c4fe6721-6309-447c-aad1-a692a5df5b5c",
   "metadata": {},
   "outputs": [
    {
     "data": {
      "text/plain": [
       "True"
      ]
     },
     "execution_count": 21,
     "metadata": {},
     "output_type": "execute_result"
    }
   ],
   "source": [
    "#expression 6\n",
    "(not False) or (not True)"
   ]
  },
  {
   "cell_type": "code",
   "execution_count": 31,
   "id": "201be1b9-e57c-407c-91fb-1bcffe6f35c2",
   "metadata": {},
   "outputs": [
    {
     "name": "stdout",
     "output_type": "stream",
     "text": [
      "Greetings!\n"
     ]
    }
   ],
   "source": [
    "# different differnt condition different prints as in output\n",
    "#first spam initialization\n",
    "spam=\"ineuron\";\n",
    "#if value 1 is stored in spam then prints Hello\n",
    "if spam==1:\n",
    "    print(\"Hello\")\n",
    "#if 2 is stored in spam then prints Howdy\n",
    "elif spam==2:\n",
    "    print(\"Howdy\")\n",
    "# if anything stored is spam then prints Greetings\n",
    "else :\n",
    "    print(\"Greetings!\")"
   ]
  },
  {
   "cell_type": "code",
   "execution_count": 32,
   "id": "8f79f27d-b676-4886-ac94-e042ea4485b9",
   "metadata": {},
   "outputs": [
    {
     "name": "stdout",
     "output_type": "stream",
     "text": [
      "Outer For Loop Iteration: 0\n",
      "--Inner For Loop Iteration: 0\n",
      "--Inner For Loop Iteration: 1\n",
      "--Inner For Loop Iteration: 2\n",
      "--Inner For Loop Iteration: 3\n",
      "--Inner For Loop Iteration: 4\n",
      "Outer For Loop Iteration: 1\n",
      "--Inner For Loop Iteration: 0\n",
      "--Inner For Loop Iteration: 1\n",
      "--Inner For Loop Iteration: 2\n",
      "--Inner For Loop Iteration: 3\n",
      "--Inner For Loop Iteration: 4\n",
      "Outer For Loop Iteration: 2\n",
      "--Inner For Loop Iteration: 0\n",
      "--Inner For Loop Iteration: 1\n",
      "--Inner For Loop Iteration: 2\n",
      "--Inner For Loop Iteration: 3\n",
      "--Inner For Loop Iteration: 4\n",
      "Outer For Loop Iteration: 3\n",
      "--Inner For Loop Iteration: 0\n",
      "--Inner For Loop Iteration: 1\n",
      "--Inner For Loop Iteration: 2\n",
      "--Inner For Loop Iteration: 3\n",
      "--Inner For Loop Iteration: 4\n",
      "Outer For Loop Iteration: 4\n",
      "--Inner For Loop Iteration: 0\n",
      "--Inner For Loop Iteration: 1\n",
      "--Inner For Loop Iteration: 2\n",
      "--Inner For Loop Iteration: 3\n",
      "--Inner For Loop Iteration: 4\n"
     ]
    }
   ],
   "source": [
    "#example of break statement \n",
    "for kaushik in range(0,5):\n",
    "    print(f'Outer For Loop Iteration: {kaushik}')\n",
    "    for ineuron in range(0,10):\n",
    "        if ineuron == 5:\n",
    "            break\n",
    "        print(f'--Inner For Loop Iteration: {ineuron}')"
   ]
  },
  {
   "cell_type": "code",
   "execution_count": 33,
   "id": "c34dca92-688c-4803-940c-f98e65334805",
   "metadata": {},
   "outputs": [
    {
     "name": "stdin",
     "output_type": "stream",
     "text": [
      "\n",
      "Enter a password: python\n"
     ]
    },
    {
     "name": "stdout",
     "output_type": "stream",
     "text": [
      "--correct password\n",
      " --- unlocking your system\n"
     ]
    }
   ],
   "source": [
    "#break statement\n",
    "for chance in range(1,4):\n",
    "    passw = input(\"\\nEnter a password:\")\n",
    "    if passw == 'python':\n",
    "       print (\"--correct password\\n --- unlocking your system\")\n",
    "       break\n",
    "    print(f\"incorrect attemt: {chance}\")"
   ]
  },
  {
   "cell_type": "code",
   "execution_count": 35,
   "id": "654fe023-4e9b-47c3-beed-3ba36ac2c095",
   "metadata": {},
   "outputs": [
    {
     "name": "stdout",
     "output_type": "stream",
     "text": [
      "Iteration: 0\n",
      "Iteration: 1\n",
      "Iteration: 2\n",
      "Iteration: 3\n",
      "Iteration: 4\n",
      "Iteration: 6\n",
      "Iteration: 7\n"
     ]
    }
   ],
   "source": [
    "#example of continue statement\n",
    "for kaushik in range(0,8):\n",
    "    if kaushik == 5:\n",
    "        continue\n",
    "    print(f'Iteration: {kaushik}')"
   ]
  },
  {
   "cell_type": "code",
   "execution_count": 36,
   "id": "ff059e5b-5824-4e1e-9354-61fb29a8f3d5",
   "metadata": {},
   "outputs": [
    {
     "name": "stdout",
     "output_type": "stream",
     "text": [
      "itr: 0\n",
      "itr: 1\n",
      "itr: 2\n",
      "itr: 3\n",
      "itr: 4\n",
      "itr: 5\n",
      "itr: 6\n",
      "itr: 7\n",
      "itr: 8\n",
      "itr: 9\n"
     ]
    }
   ],
   "source": [
    "#range10\n",
    "for kaushik1 in range(10):\n",
    "    print(f'itr: {kaushik1}')"
   ]
  },
  {
   "cell_type": "code",
   "execution_count": 37,
   "id": "07f83659-cca6-4602-97a3-a76aaaf80a95",
   "metadata": {},
   "outputs": [
    {
     "name": "stdout",
     "output_type": "stream",
     "text": [
      "itr: 0\n",
      "itr: 1\n",
      "itr: 2\n",
      "itr: 3\n",
      "itr: 4\n",
      "itr: 5\n",
      "itr: 6\n",
      "itr: 7\n",
      "itr: 8\n",
      "itr: 9\n"
     ]
    }
   ],
   "source": [
    "#range(0,10)\n",
    "for kaushik1 in range(0,10):\n",
    "    print(f'itr: {kaushik1}')"
   ]
  },
  {
   "cell_type": "code",
   "execution_count": 38,
   "id": "5a587001-0aa0-4d06-8b6f-79a56b1860e6",
   "metadata": {},
   "outputs": [
    {
     "name": "stdout",
     "output_type": "stream",
     "text": [
      "itr: 0\n",
      "itr: 1\n",
      "itr: 2\n",
      "itr: 3\n",
      "itr: 4\n",
      "itr: 5\n",
      "itr: 6\n",
      "itr: 7\n",
      "itr: 8\n",
      "itr: 9\n"
     ]
    }
   ],
   "source": [
    "#range(0,10,1)\n",
    "for kaushik1 in range(0,10,1):\n",
    "    print(f'itr: {kaushik1}')"
   ]
  },
  {
   "cell_type": "code",
   "execution_count": 1,
   "id": "2b23d86f-1760-436e-985b-c3722b7f27e2",
   "metadata": {},
   "outputs": [
    {
     "name": "stdout",
     "output_type": "stream",
     "text": [
      "1\n",
      "2\n",
      "3\n",
      "4\n",
      "5\n",
      "6\n",
      "7\n",
      "8\n",
      "9\n",
      "10\n"
     ]
    }
   ],
   "source": [
    "#prints the numbers 1 to 10 using a for loop\n",
    "for i in range(1, 11):\n",
    "    print(i)"
   ]
  },
  {
   "cell_type": "code",
   "execution_count": null,
   "id": "d72fba17-2ac9-4e31-a968-bf8d69421135",
   "metadata": {},
   "outputs": [],
   "source": [
    "#prints the numbers 1 to 10 using while loop\n",
    "# init the value i =1\n",
    "i = 1\n",
    "while(i<=10):\n",
    "    print(i)\n",
    "    i += 1"
   ]
  },
  {
   "cell_type": "code",
   "execution_count": null,
   "id": "0ba24699-3b83-42f4-a50f-0b55aa177a90",
   "metadata": {},
   "outputs": [],
   "source": []
  }
 ],
 "metadata": {
  "kernelspec": {
   "display_name": "Python 3 (ipykernel)",
   "language": "python",
   "name": "python3"
  },
  "language_info": {
   "codemirror_mode": {
    "name": "ipython",
    "version": 3
   },
   "file_extension": ".py",
   "mimetype": "text/x-python",
   "name": "python",
   "nbconvert_exporter": "python",
   "pygments_lexer": "ipython3",
   "version": "3.10.6"
  }
 },
 "nbformat": 4,
 "nbformat_minor": 5
}
