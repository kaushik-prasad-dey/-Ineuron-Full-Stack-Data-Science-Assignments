{
  "nbformat": 4,
  "nbformat_minor": 0,
  "metadata": {
    "colab": {
      "provenance": []
    },
    "kernelspec": {
      "name": "python3",
      "display_name": "Python 3"
    },
    "language_info": {
      "name": "python"
    }
  },
  "cells": [
    {
      "cell_type": "markdown",
      "source": [
        "1.What does an empty dictionary's code look like?\n",
        "\n",
        "**Ans:** Python empty dictionary means that it does not contain any key-value pair elements.\n",
        "An empty dictionary is often represented by two empty curly brackets."
      ],
      "metadata": {
        "id": "mYaZ8u9L4Kj4"
      }
    },
    {
      "cell_type": "code",
      "execution_count": 4,
      "metadata": {
        "colab": {
          "base_uri": "https://localhost:8080/"
        },
        "id": "hz7DwK1Vz-CT",
        "outputId": "b8a8514b-8ad7-4a03-dbeb-9de39c826109"
      },
      "outputs": [
        {
          "output_type": "stream",
          "name": "stdout",
          "text": [
            "<class 'dict'>\n",
            "<class 'dict'>\n"
          ]
        }
      ],
      "source": [
        "#The code syntax for python empty dict is given below.\n",
        "my_dict = {}\n",
        "my_dic = dict()\n",
        "print(type(my_dict))\n",
        "print(type(my_dic))"
      ]
    },
    {
      "cell_type": "markdown",
      "source": [
        "2.What is the value of a dictionary value with the key 'foo' and the value 42?\n",
        "\n",
        "**Ans:** The value of a dictionary value with the key 'foo' and the value 42 is {'foo':42}"
      ],
      "metadata": {
        "id": "Gi5UuQu34zID"
      }
    },
    {
      "cell_type": "code",
      "source": [
        "#the syntax of key 'foo' and the value 42\n",
        "my_custom_dict = {'foo':42}\n",
        "my_custom_dict\n",
        "print(my_custom_dict)\n",
        "print(type(my_custom_dict))"
      ],
      "metadata": {
        "colab": {
          "base_uri": "https://localhost:8080/"
        },
        "id": "UwjE9BuR-BB0",
        "outputId": "a85fc888-014a-471a-d3a5-fef45a79ff0f"
      },
      "execution_count": 6,
      "outputs": [
        {
          "output_type": "stream",
          "name": "stdout",
          "text": [
            "{'foo': 42}\n",
            "<class 'dict'>\n"
          ]
        }
      ]
    },
    {
      "cell_type": "markdown",
      "source": [
        "3. What is the most significant distinction between a dictionary and a list?\n",
        "**Ans**\n",
        "\n",
        "Lists are used to store the data in ordered and sequential.\n",
        "dictionary is used to store large amounts of data for easy and quick access. List is ordered and mutable, dictionaries are unordered and mutable."
      ],
      "metadata": {
        "id": "MRIn7LAf-XJl"
      }
    },
    {
      "cell_type": "code",
      "source": [
        "#the syntax for List and dict are given below\n",
        "# create a list\n",
        "list1 = ['I', 'like', 'Apple']\n",
        "# print the list with multiple values. It is the same as a 1D array in C, and C++.\n",
        "print(list1[0])\n",
        "print(list1[1])\n",
        "print(list1[2])\n",
        "\n",
        "# create a list with multiple dimensions, like a 2D array.\n",
        "list2 = [[\"I\"], [\"love\"], [\"chinese\", \"italian\", \"indian\"]]\n",
        "# print the list l2, showing the multiple dimension, i.e., 2D.\n",
        "print(list2)\n",
        "print(list2[0])\n",
        "print(list2[1])\n",
        "print(list2[2])"
      ],
      "metadata": {
        "colab": {
          "base_uri": "https://localhost:8080/"
        },
        "id": "7Jq-0nKv-z30",
        "outputId": "8be05620-1012-42c5-a870-ac00adf7c269"
      },
      "execution_count": 10,
      "outputs": [
        {
          "output_type": "stream",
          "name": "stdout",
          "text": [
            "I\n",
            "like\n",
            "Apple\n",
            "[['I'], ['love'], ['chinese', 'italian', 'indian']]\n",
            "['I']\n",
            "['love']\n",
            "['chinese', 'italian', 'indian']\n"
          ]
        }
      ]
    },
    {
      "cell_type": "code",
      "source": [
        "# create a dict with numeric keys. While accessing the elements of d1, it looks like a list, but it is a dictionary.\n",
        "dict1 = {\n",
        "    1 : \"I\",\n",
        "    2 : \"enroll\",\n",
        "    3 : \"Ineuron\"\n",
        "}\n",
        "\n",
        "print(\"Dictionary with numeric keys:\")\n",
        "print(dict1[1])\n",
        "print(dict1[2])\n",
        "print(dict1[3])\n",
        "\n",
        "# dict with non-numeric keys\n",
        "dict2 = {\n",
        "    \"course_name\" : \"Full-Stack-Data-Science\",\n",
        "    \"course_duration\" : \"1 year\",\n",
        "    \"Venue\" : \"Online\"\n",
        "}\n",
        "print(\"Dictionary with non-numeric keys\")\n",
        "print(dict2[\"course_name\"])\n",
        "print(dict2[\"course_duration\"])\n",
        "print(dict2[\"Venue\"])"
      ],
      "metadata": {
        "colab": {
          "base_uri": "https://localhost:8080/"
        },
        "id": "DiYaelcU_-Ss",
        "outputId": "e27f9dd3-1706-4c8f-aaab-f3f9b81225b8"
      },
      "execution_count": 14,
      "outputs": [
        {
          "output_type": "stream",
          "name": "stdout",
          "text": [
            "Dictionary with numeric keys:\n",
            "I\n",
            "enroll\n",
            "Ineuron\n",
            "Dictionary with non-numeric keys\n",
            "Full-Stack-Data-Science\n",
            "1 year\n",
            "Online\n"
          ]
        }
      ]
    },
    {
      "cell_type": "markdown",
      "source": [
        "4. What happens if you try to access spam['foo'] if spam is {'bar': 100} ?\n",
        "\n",
        "**Ans:** it will provide us key error."
      ],
      "metadata": {
        "id": "vhF5l08TBSue"
      }
    },
    {
      "cell_type": "code",
      "source": [
        "\n",
        "spam = {'bar':100}\n",
        "spam['foo']"
      ],
      "metadata": {
        "colab": {
          "base_uri": "https://localhost:8080/",
          "height": 200
        },
        "id": "shvlG_JnBO-J",
        "outputId": "2c7806d1-6b16-4f7a-9791-e6ed7501ff59"
      },
      "execution_count": 15,
      "outputs": [
        {
          "output_type": "error",
          "ename": "KeyError",
          "evalue": "ignored",
          "traceback": [
            "\u001b[0;31m---------------------------------------------------------------------------\u001b[0m",
            "\u001b[0;31mKeyError\u001b[0m                                  Traceback (most recent call last)",
            "\u001b[0;32m<ipython-input-15-3d68fc6babd3>\u001b[0m in \u001b[0;36m<cell line: 2>\u001b[0;34m()\u001b[0m\n\u001b[1;32m      1\u001b[0m \u001b[0mspam\u001b[0m \u001b[0;34m=\u001b[0m \u001b[0;34m{\u001b[0m\u001b[0;34m'bar'\u001b[0m\u001b[0;34m:\u001b[0m\u001b[0;36m100\u001b[0m\u001b[0;34m}\u001b[0m\u001b[0;34m\u001b[0m\u001b[0;34m\u001b[0m\u001b[0m\n\u001b[0;32m----> 2\u001b[0;31m \u001b[0mspam\u001b[0m\u001b[0;34m[\u001b[0m\u001b[0;34m'foo'\u001b[0m\u001b[0;34m]\u001b[0m\u001b[0;34m\u001b[0m\u001b[0;34m\u001b[0m\u001b[0m\n\u001b[0m\u001b[1;32m      3\u001b[0m \u001b[0;31m#This will give us key error\u001b[0m\u001b[0;34m\u001b[0m\u001b[0;34m\u001b[0m\u001b[0m\n",
            "\u001b[0;31mKeyError\u001b[0m: 'foo'"
          ]
        }
      ]
    },
    {
      "cell_type": "markdown",
      "source": [
        "5. If a dictionary is stored in spam, what is the difference between the expressions 'cat' in spam and 'cat' in spam.keys()?\n",
        "\n",
        "**Ans :**  \n",
        "There is no difference as such.\n",
        "The operator checks whether a value exits as a key inside the dictionary or not.\n",
        "\n"
      ],
      "metadata": {
        "id": "q_qg5ICpBrCk"
      }
    },
    {
      "cell_type": "code",
      "source": [
        "#dict stored in spam, The above question's code syntax is given below.\n",
        "spam ={'cat':'in jungle'}\n",
        "'cat' in spam"
      ],
      "metadata": {
        "colab": {
          "base_uri": "https://localhost:8080/"
        },
        "id": "trVW5DTAMBsr",
        "outputId": "e09784ef-9441-488b-b433-688d8fa8949a"
      },
      "execution_count": 16,
      "outputs": [
        {
          "output_type": "execute_result",
          "data": {
            "text/plain": [
              "True"
            ]
          },
          "metadata": {},
          "execution_count": 16
        }
      ]
    },
    {
      "cell_type": "code",
      "source": [
        "print(\"There is no differnce, both check if 'cat' is key of the dictionary and if its a key, returns True.\")\n",
        "print('cat' in spam.keys())"
      ],
      "metadata": {
        "colab": {
          "base_uri": "https://localhost:8080/"
        },
        "id": "vTjqYmXjNMVB",
        "outputId": "a3d5522c-1037-43c5-be28-c90960a975d2"
      },
      "execution_count": 20,
      "outputs": [
        {
          "output_type": "stream",
          "name": "stdout",
          "text": [
            "There is no differnce, both check if 'cat' is key of the dictionary and if its a key, returns True.\n",
            "True\n"
          ]
        }
      ]
    },
    {
      "cell_type": "markdown",
      "source": [
        "6. If a dictionary is stored in spam, what is the difference between the expressions 'cat' in spam and 'cat' in spam.values()?  \n",
        "\n",
        "**Ans:**\n",
        "'cat' in spam checks there is a 'cat' key in the dictionary, where as 'cat' in spam.values() checks whether there is a value 'cat' for one of the keys in spam."
      ],
      "metadata": {
        "id": "6_XW2Y3OMrVu"
      }
    },
    {
      "cell_type": "code",
      "source": [
        "#If a dictionary is stored in spam, what is the difference between the expressions 'cat' in spam and 'cat' in spam.values(),\n",
        "#The above question's code syntax is given below.\n",
        "spam_var ={'cat':'in jungle 2'}\n",
        "print(\"cat in spam_var checks whether there is a 'cat' key in the dictionary\")\n",
        "print('cat' in spam_var)\n",
        "spam_var_1 ={'cat':'in jungle 3'}\n",
        "print(\"cat in spam_var_1.values() checks whether there is a value 'cat' for one of the keys in spam.\")\n",
        "print('cat' in spam_var_1.values())"
      ],
      "metadata": {
        "colab": {
          "base_uri": "https://localhost:8080/"
        },
        "id": "27glaePuM_zA",
        "outputId": "3919838e-3f92-4d9a-d299-df15a2640f07"
      },
      "execution_count": 27,
      "outputs": [
        {
          "output_type": "stream",
          "name": "stdout",
          "text": [
            "cat in spam_var checks whether there is a 'cat' key in the dictionary\n",
            "True\n",
            "cat in spam_var_1.values() checks whether there is a value 'cat' for one of the keys in spam.\n",
            "False\n"
          ]
        }
      ]
    },
    {
      "cell_type": "markdown",
      "source": [
        "7. What is a shortcut for the following code?\n",
        "\n",
        "  if 'color' not in spam: spam['color'] ='black'\n",
        "\n",
        "**Ans:**  'Black'\n"
      ],
      "metadata": {
        "id": "xZz-f5EwOZ0z"
      }
    },
    {
      "cell_type": "code",
      "source": [
        "#The following code syntax for the above code.\n",
        "setdefault_spam = spam.setdefault('color','black')\n",
        "print(setdefault_spam)\n",
        "print(type(setdefault_spam))"
      ],
      "metadata": {
        "colab": {
          "base_uri": "https://localhost:8080/"
        },
        "id": "pQHP9LH7Onwa",
        "outputId": "8c67fedc-fbd5-45ff-d81f-7e79b080c14c"
      },
      "execution_count": 30,
      "outputs": [
        {
          "output_type": "stream",
          "name": "stdout",
          "text": [
            "black\n",
            "<class 'str'>\n"
          ]
        }
      ]
    },
    {
      "cell_type": "markdown",
      "source": [
        "8. How do you \"pretty print\" dictionary values using which module and function?\n",
        "\n",
        "**Ans:**"
      ],
      "metadata": {
        "id": "nltFOz2nPtBd"
      }
    },
    {
      "cell_type": "code",
      "source": [
        "#first we have to import pprint\n",
        "import pprint"
      ],
      "metadata": {
        "id": "nH2fLAFhQRZq"
      },
      "execution_count": 32,
      "outputs": []
    },
    {
      "cell_type": "code",
      "source": [
        "#create one dictionary\n",
        "my_cricket_dict = [\n",
        "    {'Player_name': 'Sachin', 'Player_city': 'Mumbai', 'Player_country': 'India','Specialist':'Bat'},\n",
        "    {'Player_name': 'Sourav', 'Player_city': 'Kolkata', 'Player_country': 'India','Specialist':'Bat'},\n",
        "    {'Player_name': 'Soheb', 'Player_city': 'Karachi', 'Player_country': 'Pakistan','Specialist':'Ball'},\n",
        "    {'Player_name': 'Ricky', 'Player_city': 'Melbourne', 'Player_country': 'Australia','Specialist':'Bat'}\n",
        "]"
      ],
      "metadata": {
        "id": "n1DMGbjhR1qH"
      },
      "execution_count": 33,
      "outputs": []
    },
    {
      "cell_type": "code",
      "source": [
        "# printing with pprint()\n",
        "pprint.pprint(my_cricket_dict)"
      ],
      "metadata": {
        "colab": {
          "base_uri": "https://localhost:8080/"
        },
        "id": "rWBvz8g5R3Rg",
        "outputId": "cf00ed6f-43f9-4c28-928b-4273c632a257"
      },
      "execution_count": 34,
      "outputs": [
        {
          "output_type": "stream",
          "name": "stdout",
          "text": [
            "[{'Player_city': 'Mumbai',\n",
            "  'Player_country': 'India',\n",
            "  'Player_name': 'Sachin',\n",
            "  'Specialist': 'Bat'},\n",
            " {'Player_city': 'Kolkata',\n",
            "  'Player_country': 'India',\n",
            "  'Player_name': 'Sourav',\n",
            "  'Specialist': 'Bat'},\n",
            " {'Player_city': 'Karachi',\n",
            "  'Player_country': 'Pakistan',\n",
            "  'Player_name': 'Soheb',\n",
            "  'Specialist': 'Ball'},\n",
            " {'Player_city': 'Melbourne',\n",
            "  'Player_country': 'Australia',\n",
            "  'Player_name': 'Ricky',\n",
            "  'Specialist': 'Bat'}]\n"
          ]
        }
      ]
    },
    {
      "cell_type": "code",
      "source": [
        "#How many players from India ?\n",
        "def my_custom_filter(obj):\n",
        "  if obj['Player_country'] == 'India':\n",
        "      return obj['Player_name']\n",
        "\n",
        "player_list = list(filter(my_custom_filter, my_cricket_dict))\n",
        "pprint.pprint(player_list)\n",
        "#for player_details in player_list:\n",
        "    #pprint.pprint(player_details)"
      ],
      "metadata": {
        "colab": {
          "base_uri": "https://localhost:8080/"
        },
        "id": "dTr8IoaNSFJd",
        "outputId": "0e63116f-e20c-46b5-d3d1-46411f65c196"
      },
      "execution_count": 60,
      "outputs": [
        {
          "output_type": "stream",
          "name": "stdout",
          "text": [
            "[{'Player_city': 'Mumbai',\n",
            "  'Player_country': 'India',\n",
            "  'Player_name': 'Sachin',\n",
            "  'Specialist': 'Bat'},\n",
            " {'Player_city': 'Kolkata',\n",
            "  'Player_country': 'India',\n",
            "  'Player_name': 'Sourav',\n",
            "  'Specialist': 'Bat'}]\n"
          ]
        }
      ]
    },
    {
      "cell_type": "code",
      "source": [
        "#try this above functions with Lambda keyword ?\n",
        "#lambda_list = list(filter(lambda x: x['Player_country'] == 'Australia', my_cricket_dict))\n",
        "pprint.pprint(list(filter(lambda x: x['Player_country'] == 'Australia', my_cricket_dict)))"
      ],
      "metadata": {
        "colab": {
          "base_uri": "https://localhost:8080/"
        },
        "id": "SKDsYDb2WiJV",
        "outputId": "d9a6e0cb-510b-4d27-eb25-e35b8dff1dd6"
      },
      "execution_count": 62,
      "outputs": [
        {
          "output_type": "stream",
          "name": "stdout",
          "text": [
            "[{'Player_city': 'Melbourne',\n",
            "  'Player_country': 'Australia',\n",
            "  'Player_name': 'Ricky',\n",
            "  'Specialist': 'Bat'}]\n"
          ]
        }
      ]
    },
    {
      "cell_type": "code",
      "source": [
        "#convert dict into dataframe in python\n",
        "import pandas as pd"
      ],
      "metadata": {
        "id": "vJtir7w4ax71"
      },
      "execution_count": 63,
      "outputs": []
    },
    {
      "cell_type": "code",
      "source": [
        "new_df = pd.DataFrame.from_dict(my_cricket_dict)\n",
        "filter_country = new_df[new_df['Player_country']=='India']\n",
        "filter_city = filter_country[filter_country['Player_city']=='Kolkata']\n",
        "filter_city.head()"
      ],
      "metadata": {
        "colab": {
          "base_uri": "https://localhost:8080/",
          "height": 81
        },
        "id": "82gv4n40bFPw",
        "outputId": "f8989a97-5085-4b18-8add-2dabd5b5031e"
      },
      "execution_count": 74,
      "outputs": [
        {
          "output_type": "execute_result",
          "data": {
            "text/plain": [
              "  Player_name Player_city Player_country Specialist\n",
              "1      Sourav     Kolkata          India        Bat"
            ],
            "text/html": [
              "\n",
              "  <div id=\"df-8338d9e0-11d7-4354-8ebe-b6105c587c2a\">\n",
              "    <div class=\"colab-df-container\">\n",
              "      <div>\n",
              "<style scoped>\n",
              "    .dataframe tbody tr th:only-of-type {\n",
              "        vertical-align: middle;\n",
              "    }\n",
              "\n",
              "    .dataframe tbody tr th {\n",
              "        vertical-align: top;\n",
              "    }\n",
              "\n",
              "    .dataframe thead th {\n",
              "        text-align: right;\n",
              "    }\n",
              "</style>\n",
              "<table border=\"1\" class=\"dataframe\">\n",
              "  <thead>\n",
              "    <tr style=\"text-align: right;\">\n",
              "      <th></th>\n",
              "      <th>Player_name</th>\n",
              "      <th>Player_city</th>\n",
              "      <th>Player_country</th>\n",
              "      <th>Specialist</th>\n",
              "    </tr>\n",
              "  </thead>\n",
              "  <tbody>\n",
              "    <tr>\n",
              "      <th>1</th>\n",
              "      <td>Sourav</td>\n",
              "      <td>Kolkata</td>\n",
              "      <td>India</td>\n",
              "      <td>Bat</td>\n",
              "    </tr>\n",
              "  </tbody>\n",
              "</table>\n",
              "</div>\n",
              "      <button class=\"colab-df-convert\" onclick=\"convertToInteractive('df-8338d9e0-11d7-4354-8ebe-b6105c587c2a')\"\n",
              "              title=\"Convert this dataframe to an interactive table.\"\n",
              "              style=\"display:none;\">\n",
              "        \n",
              "  <svg xmlns=\"http://www.w3.org/2000/svg\" height=\"24px\"viewBox=\"0 0 24 24\"\n",
              "       width=\"24px\">\n",
              "    <path d=\"M0 0h24v24H0V0z\" fill=\"none\"/>\n",
              "    <path d=\"M18.56 5.44l.94 2.06.94-2.06 2.06-.94-2.06-.94-.94-2.06-.94 2.06-2.06.94zm-11 1L8.5 8.5l.94-2.06 2.06-.94-2.06-.94L8.5 2.5l-.94 2.06-2.06.94zm10 10l.94 2.06.94-2.06 2.06-.94-2.06-.94-.94-2.06-.94 2.06-2.06.94z\"/><path d=\"M17.41 7.96l-1.37-1.37c-.4-.4-.92-.59-1.43-.59-.52 0-1.04.2-1.43.59L10.3 9.45l-7.72 7.72c-.78.78-.78 2.05 0 2.83L4 21.41c.39.39.9.59 1.41.59.51 0 1.02-.2 1.41-.59l7.78-7.78 2.81-2.81c.8-.78.8-2.07 0-2.86zM5.41 20L4 18.59l7.72-7.72 1.47 1.35L5.41 20z\"/>\n",
              "  </svg>\n",
              "      </button>\n",
              "      \n",
              "  <style>\n",
              "    .colab-df-container {\n",
              "      display:flex;\n",
              "      flex-wrap:wrap;\n",
              "      gap: 12px;\n",
              "    }\n",
              "\n",
              "    .colab-df-convert {\n",
              "      background-color: #E8F0FE;\n",
              "      border: none;\n",
              "      border-radius: 50%;\n",
              "      cursor: pointer;\n",
              "      display: none;\n",
              "      fill: #1967D2;\n",
              "      height: 32px;\n",
              "      padding: 0 0 0 0;\n",
              "      width: 32px;\n",
              "    }\n",
              "\n",
              "    .colab-df-convert:hover {\n",
              "      background-color: #E2EBFA;\n",
              "      box-shadow: 0px 1px 2px rgba(60, 64, 67, 0.3), 0px 1px 3px 1px rgba(60, 64, 67, 0.15);\n",
              "      fill: #174EA6;\n",
              "    }\n",
              "\n",
              "    [theme=dark] .colab-df-convert {\n",
              "      background-color: #3B4455;\n",
              "      fill: #D2E3FC;\n",
              "    }\n",
              "\n",
              "    [theme=dark] .colab-df-convert:hover {\n",
              "      background-color: #434B5C;\n",
              "      box-shadow: 0px 1px 3px 1px rgba(0, 0, 0, 0.15);\n",
              "      filter: drop-shadow(0px 1px 2px rgba(0, 0, 0, 0.3));\n",
              "      fill: #FFFFFF;\n",
              "    }\n",
              "  </style>\n",
              "\n",
              "      <script>\n",
              "        const buttonEl =\n",
              "          document.querySelector('#df-8338d9e0-11d7-4354-8ebe-b6105c587c2a button.colab-df-convert');\n",
              "        buttonEl.style.display =\n",
              "          google.colab.kernel.accessAllowed ? 'block' : 'none';\n",
              "\n",
              "        async function convertToInteractive(key) {\n",
              "          const element = document.querySelector('#df-8338d9e0-11d7-4354-8ebe-b6105c587c2a');\n",
              "          const dataTable =\n",
              "            await google.colab.kernel.invokeFunction('convertToInteractive',\n",
              "                                                     [key], {});\n",
              "          if (!dataTable) return;\n",
              "\n",
              "          const docLinkHtml = 'Like what you see? Visit the ' +\n",
              "            '<a target=\"_blank\" href=https://colab.research.google.com/notebooks/data_table.ipynb>data table notebook</a>'\n",
              "            + ' to learn more about interactive tables.';\n",
              "          element.innerHTML = '';\n",
              "          dataTable['output_type'] = 'display_data';\n",
              "          await google.colab.output.renderOutput(dataTable, element);\n",
              "          const docLink = document.createElement('div');\n",
              "          docLink.innerHTML = docLinkHtml;\n",
              "          element.appendChild(docLink);\n",
              "        }\n",
              "      </script>\n",
              "    </div>\n",
              "  </div>\n",
              "  "
            ]
          },
          "metadata": {},
          "execution_count": 74
        }
      ]
    },
    {
      "cell_type": "code",
      "source": [
        "import json\n",
        "dump = json.dumps(my_cricket_dict, indent=4)\n",
        "print('Printing using dumps() method\\n', dump)\n",
        "print('-'*70)"
      ],
      "metadata": {
        "colab": {
          "base_uri": "https://localhost:8080/"
        },
        "id": "m-nvZuDlcf-q",
        "outputId": "1432bfb8-e861-4749-93bd-650c35591285"
      },
      "execution_count": 76,
      "outputs": [
        {
          "output_type": "stream",
          "name": "stdout",
          "text": [
            "Printing using dumps() method\n",
            " [\n",
            "    {\n",
            "        \"Player_name\": \"Sachin\",\n",
            "        \"Player_city\": \"Mumbai\",\n",
            "        \"Player_country\": \"India\",\n",
            "        \"Specialist\": \"Bat\"\n",
            "    },\n",
            "    {\n",
            "        \"Player_name\": \"Sourav\",\n",
            "        \"Player_city\": \"Kolkata\",\n",
            "        \"Player_country\": \"India\",\n",
            "        \"Specialist\": \"Bat\"\n",
            "    },\n",
            "    {\n",
            "        \"Player_name\": \"Soheb\",\n",
            "        \"Player_city\": \"Karachi\",\n",
            "        \"Player_country\": \"Pakistan\",\n",
            "        \"Specialist\": \"Ball\"\n",
            "    },\n",
            "    {\n",
            "        \"Player_name\": \"Ricky\",\n",
            "        \"Player_city\": \"Melbourne\",\n",
            "        \"Player_country\": \"Australia\",\n",
            "        \"Specialist\": \"Bat\"\n",
            "    }\n",
            "]\n",
            "----------------------------------------------------------------------\n"
          ]
        }
      ]
    },
    {
      "cell_type": "code",
      "source": [
        "import yaml\n",
        "dump = yaml.dump(my_cricket_dict)\n",
        "print('Printing using dump() method\\n', dump)"
      ],
      "metadata": {
        "colab": {
          "base_uri": "https://localhost:8080/"
        },
        "id": "hWjm7Q0JdGN0",
        "outputId": "34597018-48ad-43df-e783-a36e99f1763e"
      },
      "execution_count": 77,
      "outputs": [
        {
          "output_type": "stream",
          "name": "stdout",
          "text": [
            "Printing using dump() method\n",
            " - Player_city: Mumbai\n",
            "  Player_country: India\n",
            "  Player_name: Sachin\n",
            "  Specialist: Bat\n",
            "- Player_city: Kolkata\n",
            "  Player_country: India\n",
            "  Player_name: Sourav\n",
            "  Specialist: Bat\n",
            "- Player_city: Karachi\n",
            "  Player_country: Pakistan\n",
            "  Player_name: Soheb\n",
            "  Specialist: Ball\n",
            "- Player_city: Melbourne\n",
            "  Player_country: Australia\n",
            "  Player_name: Ricky\n",
            "  Specialist: Bat\n",
            "\n"
          ]
        }
      ]
    }
  ]
}