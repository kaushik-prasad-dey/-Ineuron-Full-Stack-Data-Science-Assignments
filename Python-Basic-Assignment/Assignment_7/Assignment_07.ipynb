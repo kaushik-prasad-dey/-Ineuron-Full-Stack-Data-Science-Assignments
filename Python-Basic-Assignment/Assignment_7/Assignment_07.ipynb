{
  "nbformat": 4,
  "nbformat_minor": 0,
  "metadata": {
    "colab": {
      "provenance": []
    },
    "kernelspec": {
      "name": "python3",
      "display_name": "Python 3"
    },
    "language_info": {
      "name": "python"
    }
  },
  "cells": [
    {
      "cell_type": "markdown",
      "source": [
        "** Q.1. Create two int type variables, apply addition, subtraction, division and multiplications\n",
        "and store the results in variables. Then print the data in the following format by calling the\n",
        "variables ?? **"
      ],
      "metadata": {
        "id": "UueG7znhU5Fv"
      }
    },
    {
      "cell_type": "code",
      "source": [
        "#the Question solution is\n",
        "a=9\n",
        "b=5\n",
        "print(f\"First variable type is {type(a)} & second variable type is {type(b)}\")\n",
        "print(f\"First variable is {a} & second variable is {b}\")\n",
        "print(f\"Addition: {a} + {b} = {a + b}\")\n",
        "print(f\"Subtraction: {a} - {b} = {a - b}\")\n",
        "print(f\"Multiplication: {a} * {b} = {a * b}\")\n",
        "print(f\"Division: {a} / {b} = {a / b}\")"
      ],
      "metadata": {
        "colab": {
          "base_uri": "https://localhost:8080/"
        },
        "id": "e26jUNe1U6z4",
        "outputId": "4d527e37-8358-4c19-f351-e29686186a4a"
      },
      "execution_count": null,
      "outputs": [
        {
          "output_type": "stream",
          "name": "stdout",
          "text": [
            "First variable type is <class 'int'> & second variable type is <class 'int'>\n",
            "First variable is 9 & second variable is 5\n",
            "Addition: 9 + 5 = 14\n",
            "Subtraction: 9 - 5 = 4\n",
            "Multiplication: 9 * 5 = 45\n",
            "Division: 9 / 5 = 1.8\n"
          ]
        }
      ]
    },
    {
      "cell_type": "code",
      "source": [
        "#we can also create a dynamic with the help of input\n",
        "a=int(input(\"First variable is :\"))\n",
        "b=int(input(\"Second variable is :\"))\n",
        "print(f\"First variable type is {type(a)} & second variable type is {type(b)}\")\n",
        "print(f\"First variable is {a} & second variable is {b}\")\n",
        "print(f\"Addition: {a} + {b} = {a + b}\")\n",
        "print(f\"Subtraction: {a} - {b} = {a - b}\")\n",
        "print(f\"Multiplication: {a} * {b} = {a * b}\")\n",
        "print(f\"Division: {a} / {b} = {a / b}\")"
      ],
      "metadata": {
        "colab": {
          "base_uri": "https://localhost:8080/"
        },
        "id": "R0mDk46mXLFj",
        "outputId": "ff69988a-4ac7-49c6-e5a6-da304450c621"
      },
      "execution_count": null,
      "outputs": [
        {
          "output_type": "stream",
          "name": "stdout",
          "text": [
            "First variable is :8\n",
            "Second variable is :7\n",
            "First variable type is <class 'int'> & second variable type is <class 'int'>\n",
            "First variable is 8 & second variable is 7\n",
            "Addition: 8 + 7 = 15\n",
            "Subtraction: 8 - 7 = 1\n",
            "Multiplication: 8 * 7 = 56\n",
            "Division: 8 / 7 = 1.1428571428571428\n"
          ]
        }
      ]
    },
    {
      "cell_type": "markdown",
      "source": [
        "**Q.2. What is the difference between the following operators:**\n",
        "1. '/' & '//'\n",
        "2. '**' & '^'\n"
      ],
      "metadata": {
        "id": "y5cg1aQkXuh5"
      }
    },
    {
      "cell_type": "markdown",
      "source": [
        "Ans :\n",
        "1. '/' means division where '//' means floor division. The examples are given below."
      ],
      "metadata": {
        "id": "j5j3W6LgYhrv"
      }
    },
    {
      "cell_type": "code",
      "source": [
        "#example of '/'\n",
        "var_a = 12\n",
        "var_b = 3\n",
        "print(f\"the output of '/' operator is {var_a / var_b}\")"
      ],
      "metadata": {
        "colab": {
          "base_uri": "https://localhost:8080/"
        },
        "id": "cE3p691pX9r3",
        "outputId": "0f5b0618-4f09-4950-e28f-f025b639ad6e"
      },
      "execution_count": null,
      "outputs": [
        {
          "output_type": "stream",
          "name": "stdout",
          "text": [
            "the output of '/' operator is 4.0\n"
          ]
        }
      ]
    },
    {
      "cell_type": "code",
      "source": [
        "#example of '//'\n",
        "var_a = 12\n",
        "var_b = 3\n",
        "print(f\"the output of '//' operator is {var_a // var_b}\")"
      ],
      "metadata": {
        "colab": {
          "base_uri": "https://localhost:8080/"
        },
        "id": "WVoNMVghY_59",
        "outputId": "f4ddf311-e604-452a-918d-c105caaed65b"
      },
      "execution_count": null,
      "outputs": [
        {
          "output_type": "stream",
          "name": "stdout",
          "text": [
            "the output of '//' operator is 4\n"
          ]
        }
      ]
    },
    {
      "cell_type": "markdown",
      "source": [
        "2. '**' means Exponentiation operator\n",
        "where '^' means XOR operator which Sets each bit to 1 if only one of two bits is 1. The examples are given below."
      ],
      "metadata": {
        "id": "zTBuAHCFZJFl"
      }
    },
    {
      "cell_type": "code",
      "source": [
        "#example of ** (Exponentiation) operator is:\n",
        "var_a = 2\n",
        "var_b = 5\n",
        "print(f\"The output for Exponentiation operator is {var_a ** var_b}\") #same as 2*2*2*2*2"
      ],
      "metadata": {
        "colab": {
          "base_uri": "https://localhost:8080/"
        },
        "id": "oPbtXA6IZwb6",
        "outputId": "953c1b1d-4d55-4de7-acec-4dce1a6bb995"
      },
      "execution_count": null,
      "outputs": [
        {
          "output_type": "stream",
          "name": "stdout",
          "text": [
            "The output for Exponentiation operator is 32\n"
          ]
        }
      ]
    },
    {
      "cell_type": "code",
      "source": [
        "#example of ^ (XOR) operator is:\n",
        "var_a=6\n",
        "var_b=3\n",
        "print(\"=========Sets each bit to 1 if only one of two bits is 1========\")\n",
        "print( f\"the output for XOR operator is  {var_a ^ var_b}\" )"
      ],
      "metadata": {
        "colab": {
          "base_uri": "https://localhost:8080/"
        },
        "id": "K3lSmXGOahGk",
        "outputId": "3bef5934-351d-4c5b-e825-faf46af92eeb"
      },
      "execution_count": null,
      "outputs": [
        {
          "output_type": "stream",
          "name": "stdout",
          "text": [
            "=========Sets each bit to 1 if only one of two bits is 1========\n",
            "the output for XOR operator is  5\n"
          ]
        }
      ]
    },
    {
      "cell_type": "markdown",
      "source": [
        "**3.  List the logical operators ?**\n",
        "\n",
        "Ans : All logical operators names are given below with examples."
      ],
      "metadata": {
        "id": "T9x0MCLFcJn3"
      }
    },
    {
      "cell_type": "markdown",
      "source": [
        "The First Logical operator name is **and** and the example is given below.\n",
        "\n",
        "Note : Returns True if both statements are true."
      ],
      "metadata": {
        "id": "7tKLamOnc02b"
      }
    },
    {
      "cell_type": "code",
      "source": [
        "# The First Logical operator name is and\n",
        "var_a = 5\n",
        "print(f\"the first logical operator and example is {var_a > 3 and var_a < 10}\")"
      ],
      "metadata": {
        "colab": {
          "base_uri": "https://localhost:8080/"
        },
        "id": "Jx1C3_rmcWr9",
        "outputId": "dbc6aaee-8679-43fb-8db6-c20fe666cd7f"
      },
      "execution_count": null,
      "outputs": [
        {
          "output_type": "stream",
          "name": "stdout",
          "text": [
            "the first logical operator and example is True\n"
          ]
        }
      ]
    },
    {
      "cell_type": "markdown",
      "source": [
        "The Second Logical operator name is **or** and the example is given below.\n",
        "\n",
        "Note : Returns True if one of the statements is true."
      ],
      "metadata": {
        "id": "R1HiWPYldj2f"
      }
    },
    {
      "cell_type": "code",
      "source": [
        "# The Second Logical operator name is or\n",
        "var_a = 5\n",
        "print(f\"the second logical operator or example is {var_a > 3 or var_a < 10}\")"
      ],
      "metadata": {
        "colab": {
          "base_uri": "https://localhost:8080/"
        },
        "id": "ldsKOUm7dwvK",
        "outputId": "17efc915-742a-4554-dc6b-cb342e3bcb97"
      },
      "execution_count": null,
      "outputs": [
        {
          "output_type": "stream",
          "name": "stdout",
          "text": [
            "the second logical operator or example is True\n"
          ]
        }
      ]
    },
    {
      "cell_type": "markdown",
      "source": [
        "The Third Logical operator name is **not** and the example is given below.\n",
        "\n",
        "Note : Reverse the result, returns False if the result is true."
      ],
      "metadata": {
        "id": "ZNwKeqMGeVUo"
      }
    },
    {
      "cell_type": "code",
      "source": [
        "# The Third Logical operator name is not\n",
        "var_a = 5\n",
        "print(f\"the Third logical operator not example is {not(var_a > 3 and var_a < 10)}\")"
      ],
      "metadata": {
        "colab": {
          "base_uri": "https://localhost:8080/"
        },
        "id": "s1uw57jieQKt",
        "outputId": "e148811e-3847-4bec-b374-cb67e8072b97"
      },
      "execution_count": null,
      "outputs": [
        {
          "output_type": "stream",
          "name": "stdout",
          "text": [
            "the Third logical operator not example is False\n"
          ]
        }
      ]
    },
    {
      "cell_type": "markdown",
      "source": [
        "4. Explain right shift operator and left shift operator with examples ?\n",
        "\n",
        "Ans : in python language >> is called right shift operator and it is a bitwise operator and it requires bitwise representation of objects as first operand. Bits are shifted to right by number of bits stipulated by second operator.\n",
        "\n",
        "Shift right by pushing copies of the leftmost bit in from the left and let the rightmost bits fall off."
      ],
      "metadata": {
        "id": "Mrk0MWHJe3vj"
      }
    },
    {
      "cell_type": "code",
      "source": [
        "#example of >> (right shift) operator is\n",
        "print(f\"The example of right shift operator is  {8 >> 2} \")\n",
        "\"\"\"\n",
        "The >> operator moves each bit the specified number of times to the right. Empty holes at the left are filled with 0's.\n",
        "If you move each bit 2 times to the right, 8 becomes 2:\n",
        " 8 = 0000000000001000\n",
        "becomes\n",
        " 2 = 0000000000000010\n",
        "\n",
        "Decimal numbers and their binary values:\n",
        " 0 = 0000000000000000\n",
        " 1 = 0000000000000001\n",
        " 2 = 0000000000000010\n",
        " 3 = 0000000000000011\n",
        " 4 = 0000000000000100\n",
        " 5 = 0000000000000101\n",
        " 6 = 0000000000000110\n",
        " 7 = 0000000000000111\n",
        " 8 = 0000000000001000\n",
        " 9 = 0000000000001001\n",
        "10 = 0000000000001010\n",
        "11 = 0000000000001011\n",
        "12 = 0000000000001100\n",
        "\"\"\""
      ],
      "metadata": {
        "colab": {
          "base_uri": "https://localhost:8080/",
          "height": 105
        },
        "id": "EQOr9J78giAk",
        "outputId": "d3c65159-48d0-4bc4-ff93-73a185ae8022"
      },
      "execution_count": null,
      "outputs": [
        {
          "output_type": "stream",
          "name": "stdout",
          "text": [
            "The example of right shift operator is  2 \n"
          ]
        },
        {
          "output_type": "execute_result",
          "data": {
            "text/plain": [
              "\"\\nThe >> operator moves each bit the specified number of times to the right. Empty holes at the left are filled with 0's.\\nIf you move each bit 2 times to the right, 8 becomes 2:\\n 8 = 0000000000001000\\nbecomes\\n 2 = 0000000000000010\\n\\nDecimal numbers and their binary values:\\n 0 = 0000000000000000\\n 1 = 0000000000000001\\n 2 = 0000000000000010\\n 3 = 0000000000000011\\n 4 = 0000000000000100\\n 5 = 0000000000000101\\n 6 = 0000000000000110\\n 7 = 0000000000000111\\n 8 = 0000000000001000\\n 9 = 0000000000001001\\n10 = 0000000000001010\\n11 = 0000000000001011\\n12 = 0000000000001100\\n\""
            ],
            "application/vnd.google.colaboratory.intrinsic+json": {
              "type": "string"
            }
          },
          "metadata": {},
          "execution_count": 35
        }
      ]
    },
    {
      "cell_type": "code",
      "source": [
        "### Example of left shift operator\n",
        "var = 2;\n",
        "print(\"var      = \", var<<0)  #same number\n",
        "print(\"var * 2  = \", var<<1) #1 position to the left\n",
        "print(\"var * 4  = \", var<<2) #2 position to the left\n",
        "print(\"var * 8  = \", var<<3) #3 position to the left\n",
        "print(\"var * 16 = \", var<<4) #4 position to the left\n",
        "print(\"var * 32 = \", var<<5) #5 position to the left\n",
        "print(f\"The example of left shift operator is : {8 << 2} \")"
      ],
      "metadata": {
        "colab": {
          "base_uri": "https://localhost:8080/"
        },
        "id": "dtyBhyEwbv3X",
        "outputId": "f05a8660-cd7f-41f3-8978-24b76bd77832"
      },
      "execution_count": 37,
      "outputs": [
        {
          "output_type": "stream",
          "name": "stdout",
          "text": [
            "var      =  2\n",
            "var * 2  =  4\n",
            "var * 4  =  8\n",
            "var * 8  =  16\n",
            "var * 16 =  32\n",
            "var * 32 =  64\n",
            "The example of left shift operator is : 32 \n"
          ]
        }
      ]
    },
    {
      "cell_type": "markdown",
      "source": [
        " Create a list containing int type data of length 15. Then write a code to check if 10 is present in the list or not ??\n",
        "\n",
        "Ans : The solution is given in below cell"
      ],
      "metadata": {
        "id": "MrffWNooTmbZ"
      }
    },
    {
      "cell_type": "code",
      "source": [
        "# Initializing list\n",
        "num_list = list(range(15))\n",
        "valcheck=10\n",
        "print(f\"the number is generated {num_list}\")\n",
        "print(f\"the length of this data type is {len(num_list)}\")\n",
        "print(f\"check the list type {type(num_list)}\")\n",
        "\n",
        "if (valcheck in num_list):\n",
        "    print(f\"{valcheck} is present\")\n",
        "else:\n",
        "  print(f'{valcheck} is not present')"
      ],
      "metadata": {
        "colab": {
          "base_uri": "https://localhost:8080/"
        },
        "id": "CY0BAg2JTwp2",
        "outputId": "0ef1d977-2448-44db-b145-520d091fc844"
      },
      "execution_count": 35,
      "outputs": [
        {
          "output_type": "stream",
          "name": "stdout",
          "text": [
            "the number is generated [0, 1, 2, 3, 4, 5, 6, 7, 8, 9, 10, 11, 12, 13, 14]\n",
            "the length of this data type is 15\n",
            "check the list type <class 'list'>\n",
            "10 is present\n"
          ]
        }
      ]
    }
  ]
}