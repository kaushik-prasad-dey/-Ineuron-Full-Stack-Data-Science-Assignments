{
 "cells": [
  {
   "cell_type": "markdown",
   "metadata": {},
   "source": [
    "2. \n",
    "Explain how you can implement DL in a real-world application.\n",
    "\n",
    "Train an industry safety Detection model that will detect the helmet wearing by the employee: Data link\n",
    "\n",
    "Note: You are free to choose frameworks as per your understanding"
   ]
  }
 ],
 "metadata": {
  "language_info": {
   "name": "python"
  }
 },
 "nbformat": 4,
 "nbformat_minor": 2
}
