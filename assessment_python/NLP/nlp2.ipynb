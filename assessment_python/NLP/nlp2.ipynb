{
 "cells": [
  {
   "cell_type": "markdown",
   "metadata": {},
   "source": [
    "2. Dataset Link: (Take Any Dataset but avoid using benchmark data)\n",
    "Tech : Pytorch or Tensorflow\n",
    "Take any Dataset and perform any one task. (You are free to choose Tasks as per your understanding)\n",
    "Tasks: Sentiment Analysis , Text Classification , Text Generation, Machine Translation, Text Summarization , Question Answering.\n"
   ]
  }
 ],
 "metadata": {
  "language_info": {
   "name": "python"
  }
 },
 "nbformat": 4,
 "nbformat_minor": 2
}
