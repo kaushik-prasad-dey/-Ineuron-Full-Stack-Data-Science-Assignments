{
 "cells": [
  {
   "cell_type": "markdown",
   "metadata": {},
   "source": [
    "1. Data Set Link: (Take Any Dataset but avoid using benchmark data)\n",
    "Perform Below Listed Preprocessing Task in proper order as per your dataset using torch or tensorflow.\n",
    "Emoji Removal \n",
    "Lemmatization \n",
    "Stemming \n",
    "Word Tokenization \n",
    "Grammar Correction\n",
    "Http Links Removal \n",
    "Stop Words Removal\n",
    "Sentence Tokenization \n",
    "Lower casing\n",
    " Remove white spaces\n",
    "Text Normalization\n",
    "Part of speech tagging"
   ]
  }
 ],
 "metadata": {
  "language_info": {
   "name": "python"
  }
 },
 "nbformat": 4,
 "nbformat_minor": 2
}
